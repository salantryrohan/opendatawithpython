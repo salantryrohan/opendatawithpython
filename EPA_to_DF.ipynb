{
 "metadata": {
  "name": "EPA_to_DF"
 },
 "nbformat": 3,
 "nbformat_minor": 0,
 "worksheets": [
  {
   "cells": [
    {
     "cell_type": "markdown",
     "metadata": {},
     "source": [
      "Converting EPA Airquality Data into Pandas DataFrames by County\n",
      "---------------------------------------------------------------"
     ]
    },
    {
     "cell_type": "code",
     "collapsed": false,
     "input": [
      "import pandas as pd\n",
      "import matplotlib.pyplot as plt\n",
      "from pandas import DataFrame"
     ],
     "language": "python",
     "metadata": {},
     "outputs": [],
     "prompt_number": 1
    },
    {
     "cell_type": "code",
     "collapsed": false,
     "input": [
      "#Airquality Data comes from https://ofmext.epa.gov/AQDMRS/aqdmrs.html\n",
      "#This query includes the ozone data for the year 2011 in the state of california\n",
      "a = open('AQDM_507410362.txt')"
     ],
     "language": "python",
     "metadata": {},
     "outputs": [],
     "prompt_number": 2
    },
    {
     "cell_type": "code",
     "collapsed": false,
     "input": [
      "df = pd.read_csv(a)"
     ],
     "language": "python",
     "metadata": {},
     "outputs": [],
     "prompt_number": 3
    },
    {
     "cell_type": "code",
     "collapsed": false,
     "input": [
      "df.head()"
     ],
     "language": "python",
     "metadata": {},
     "outputs": [
      {
       "output_type": "pyout",
       "prompt_number": 4,
       "text": [
        "<class 'pandas.core.frame.DataFrame'>\n",
        "Int64Index: 5 entries, 0 to 4\n",
        "Data columns:\n",
        "Latitude                   5  non-null values\n",
        "Longitude                  5  non-null values\n",
        "Datum                      5  non-null values\n",
        "Horizontal Accuracy        5  non-null values\n",
        "State Code                 5  non-null values\n",
        "County Code                5  non-null values\n",
        "Site Num                   5  non-null values\n",
        "Parameter Code             5  non-null values\n",
        "POC                        5  non-null values\n",
        "AQS Parameter Desc         5  non-null values\n",
        "Date Local                 5  non-null values\n",
        "24 Hour Local              5  non-null values\n",
        "Date GMT                   5  non-null values\n",
        "24 Hour GMT                5  non-null values\n",
        "Year GMT                   5  non-null values\n",
        "Day In Year GMT            5  non-null values\n",
        "Sample Measurement         5  non-null values\n",
        "Units of Measure           5  non-null values\n",
        "Sample Duration            5  non-null values\n",
        "Sample Frequency           0  non-null values\n",
        "Detection Limit            5  non-null values\n",
        "Measurement Uncertainty    0  non-null values\n",
        "Qualifier Description      0  non-null values\n",
        "Method Type                5  non-null values\n",
        "Method Description         5  non-null values\n",
        "dtypes: float64(13), object(12)"
       ]
      }
     ],
     "prompt_number": 4
    },
    {
     "cell_type": "code",
     "collapsed": false,
     "input": [
      "len(df)"
     ],
     "language": "python",
     "metadata": {},
     "outputs": [
      {
       "output_type": "pyout",
       "prompt_number": 5,
       "text": [
        "2995068"
       ]
      }
     ],
     "prompt_number": 5
    },
    {
     "cell_type": "markdown",
     "metadata": {},
     "source": [
      "Group all measurements by measurement site (identified by countycode and site number) and create a new DataFrame with data averaged over time per measurement site"
     ]
    },
    {
     "cell_type": "code",
     "collapsed": false,
     "input": [
      "\n",
      "county_df = df.groupby(['County Code','Site Num', 'Latitude', 'Longitude'])\n",
      "\n",
      "county_code = list()\n",
      "sitenum = list()\n",
      "lat = list()\n",
      "lon = list()\n",
      "mean_meas = list()\n",
      "max_meas = list()\n",
      "min_meas = list()\n",
      "median_meas = list()\n",
      "\n",
      "for grpname,grp in county_df:\n",
      "    county_code.append(grpname[0])\n",
      "    sitenum.append(grpname[1])\n",
      "    lat.append(float(grpname[2]))\n",
      "    lon.append(float(grpname[3]))\n",
      "    mean_meas.append(grp['Sample Measurement'].mean())\n",
      "    max_meas.append(grp['Sample Measurement'].max())\n",
      "    min_meas.append(grp['Sample Measurement'].min())\n",
      "    median_meas.append(grp['Sample Measurement'].median())"
     ],
     "language": "python",
     "metadata": {},
     "outputs": [],
     "prompt_number": 6
    },
    {
     "cell_type": "code",
     "collapsed": false,
     "input": [
      "sites_dict = {'County Code': county_code, 'Site Num': sitenum, 'Mean Ozone': mean_meas, 'Max Ozone': max_meas, 'Min Ozone': min_meas, 'Median Ozone': median_meas, 'Latitude': lat, 'Longitude': lon}"
     ],
     "language": "python",
     "metadata": {},
     "outputs": [
      {
       "output_type": "stream",
       "stream": "stdout",
       "text": [
        "\n"
       ]
      }
     ],
     "prompt_number": 10
    },
    {
     "cell_type": "code",
     "collapsed": false,
     "input": [
      "sites_df = DataFrame(sites_dict)\n",
      "sites_df.head()"
     ],
     "language": "python",
     "metadata": {},
     "outputs": [
      {
       "html": [
        "<div style=\"max-height:1000px;max-width:1500px;overflow:auto;\">\n",
        "<table border=\"1\" class=\"dataframe\">\n",
        "  <thead>\n",
        "    <tr style=\"text-align: right;\">\n",
        "      <th></th>\n",
        "      <th>County Code</th>\n",
        "      <th>Latitude</th>\n",
        "      <th>Longitude</th>\n",
        "      <th>Max Ozone</th>\n",
        "      <th>Mean Ozone</th>\n",
        "      <th>Median Ozone</th>\n",
        "      <th>Min Ozone</th>\n",
        "      <th>Site Num</th>\n",
        "    </tr>\n",
        "  </thead>\n",
        "  <tbody>\n",
        "    <tr>\n",
        "      <th>0</th>\n",
        "      <td> 1</td>\n",
        "      <td> 37.687526</td>\n",
        "      <td>-121.784217</td>\n",
        "      <td> 0.115</td>\n",
        "      <td> 0.023289</td>\n",
        "      <td> 0.023</td>\n",
        "      <td> 0.000</td>\n",
        "      <td>  7</td>\n",
        "    </tr>\n",
        "    <tr>\n",
        "      <th>1</th>\n",
        "      <td> 1</td>\n",
        "      <td> 37.687526</td>\n",
        "      <td>-121.784217</td>\n",
        "      <td> 0.063</td>\n",
        "      <td> 0.033426</td>\n",
        "      <td> 0.035</td>\n",
        "      <td> 0.003</td>\n",
        "      <td>  7</td>\n",
        "    </tr>\n",
        "    <tr>\n",
        "      <th>2</th>\n",
        "      <td> 1</td>\n",
        "      <td> 37.743065</td>\n",
        "      <td>-122.169935</td>\n",
        "      <td> 0.091</td>\n",
        "      <td> 0.018510</td>\n",
        "      <td> 0.018</td>\n",
        "      <td> 0.000</td>\n",
        "      <td>  9</td>\n",
        "    </tr>\n",
        "    <tr>\n",
        "      <th>3</th>\n",
        "      <td> 1</td>\n",
        "      <td> 37.743065</td>\n",
        "      <td>-122.169935</td>\n",
        "      <td> 0.051</td>\n",
        "      <td> 0.027224</td>\n",
        "      <td> 0.028</td>\n",
        "      <td> 0.002</td>\n",
        "      <td>  9</td>\n",
        "    </tr>\n",
        "    <tr>\n",
        "      <th>4</th>\n",
        "      <td> 1</td>\n",
        "      <td> 37.814781</td>\n",
        "      <td>-122.282347</td>\n",
        "      <td> 0.057</td>\n",
        "      <td> 0.018001</td>\n",
        "      <td> 0.018</td>\n",
        "      <td> 0.000</td>\n",
        "      <td> 11</td>\n",
        "    </tr>\n",
        "  </tbody>\n",
        "</table>\n",
        "</div>"
       ],
       "output_type": "pyout",
       "prompt_number": 11,
       "text": [
        "   County Code   Latitude   Longitude  Max Ozone  Mean Ozone  Median Ozone  Min Ozone  \\\n",
        "0            1  37.687526 -121.784217      0.115    0.023289         0.023      0.000   \n",
        "1            1  37.687526 -121.784217      0.063    0.033426         0.035      0.003   \n",
        "2            1  37.743065 -122.169935      0.091    0.018510         0.018      0.000   \n",
        "3            1  37.743065 -122.169935      0.051    0.027224         0.028      0.002   \n",
        "4            1  37.814781 -122.282347      0.057    0.018001         0.018      0.000   \n",
        "\n",
        "   Site Num  \n",
        "0         7  \n",
        "1         7  \n",
        "2         9  \n",
        "3         9  \n",
        "4        11  "
       ]
      }
     ],
     "prompt_number": 11
    },
    {
     "cell_type": "markdown",
     "metadata": {},
     "source": [
      "Look at some overall stats for our new DataFrame"
     ]
    },
    {
     "cell_type": "code",
     "collapsed": false,
     "input": [
      "print 'Std ', sites_df['Mean Ozone'].std()\n",
      "print 'Mean ',sites_df['Mean Ozone'].mean()\n",
      "print 'Median',sites_df['Mean Ozone'].median()\n",
      "print 'Lat Max',sites_df['Latitude'].max()\n",
      "print 'Lat Min',sites_df['Latitude'].min()\n",
      "print 'Lon Max',sites_df['Longitude'].max()\n",
      "print 'Lon Min',sites_df['Longitude'].min()"
     ],
     "language": "python",
     "metadata": {},
     "outputs": [
      {
       "output_type": "stream",
       "stream": "stdout",
       "text": [
        "Std  0.00994831782491\n",
        "Mean  0.035125235605\n",
        "Median 0.0332733333333\n",
        "Lat Max 41.726892\n",
        "Lat Min 32.552164\n",
        "Lon Max -114.602886\n",
        "Lon Min -124.20139\n"
       ]
      }
     ],
     "prompt_number": 12
    },
    {
     "cell_type": "markdown",
     "metadata": {},
     "source": [
      "Plot all measureing stations to see if they are evenly distributed"
     ]
    },
    {
     "cell_type": "code",
     "collapsed": false,
     "input": [
      "plt.scatter(sites_df['Longitude'],sites_df['Latitude'])"
     ],
     "language": "python",
     "metadata": {},
     "outputs": [
      {
       "output_type": "pyout",
       "prompt_number": 13,
       "text": [
        "<matplotlib.collections.PathCollection at 0x11126e6c>"
       ]
      },
      {
       "output_type": "display_data",
       "png": "[encoded data removed]"
      }
     ],
     "prompt_number": 13
    },
    {
     "cell_type": "markdown",
     "metadata": {},
     "source": [
      "Convert the 'County Code' into a FIPS, ie add on the '06' California prefix"
     ]
    },
    {
     "cell_type": "code",
     "collapsed": false,
     "input": [
      "#sites_df['FIPS'] = sites_df['County Code'].apply(lambda x: '0' + (str(6000 + int(x) )))\n",
      "sites_df['FIPS'] = sites_df['County Code'].apply(lambda x: 6000 + int(x) )"
     ],
     "language": "python",
     "metadata": {},
     "outputs": [],
     "prompt_number": 14
    },
    {
     "cell_type": "code",
     "collapsed": false,
     "input": [
      "sites_df['FIPS'][100:110]"
     ],
     "language": "python",
     "metadata": {},
     "outputs": [
      {
       "output_type": "pyout",
       "prompt_number": 15,
       "text": [
        "100    6037\n",
        "101    6037\n",
        "102    6037\n",
        "103    6037\n",
        "104    6037\n",
        "105    6037\n",
        "106    6037\n",
        "107    6037\n",
        "108    6039\n",
        "109    6039\n",
        "Name: FIPS"
       ]
      }
     ],
     "prompt_number": 15
    },
    {
     "cell_type": "markdown",
     "metadata": {},
     "source": [
      "Next Up: Calculate county wide averages\n",
      "---------------------------------------"
     ]
    },
    {
     "cell_type": "code",
     "collapsed": false,
     "input": [
      "county_averages = sites_df.groupby('FIPS')['Mean Ozone'].mean()\n",
      "county_averages.index"
     ],
     "language": "python",
     "metadata": {},
     "outputs": [
      {
       "output_type": "pyout",
       "prompt_number": 26,
       "text": [
        "Int64Index([6001, 6005, 6007, 6009, 6011, 6013, 6017, 6019, 6021, 6023, 6025, 6027, 6029, 6031, 6033, 6037, 6039, 6041, 6043, 6045, 6047, 6053, 6055, 6057, 6059, 6061, 6065, 6067, 6069, 6071, 6073, 6075, 6077, 6079, 6081, 6083, 6085, 6087, 6089, 6093, 6095, 6097, 6099, 6101, 6103, 6107, 6109, 6111, 6113], dtype=int64)"
       ]
      }
     ],
     "prompt_number": 26
    },
    {
     "cell_type": "code",
     "collapsed": false,
     "input": [
      "county_averages.hist(bins = 20)"
     ],
     "language": "python",
     "metadata": {},
     "outputs": [
      {
       "output_type": "pyout",
       "prompt_number": 18,
       "text": [
        "<matplotlib.axes.AxesSubplot at 0xae410cc>"
       ]
      },
      {
       "output_type": "display_data",
       "png": "[encoded data removed]"
      }
     ],
     "prompt_number": 18
    },
    {
     "cell_type": "code",
     "collapsed": false,
     "input": [
      "county_averages.mean(), county_averages.std()"
     ],
     "language": "python",
     "metadata": {},
     "outputs": [
      {
       "output_type": "pyout",
       "prompt_number": 19,
       "text": [
        "(0.033272136153468475, 0.006327595808016743)"
       ]
      }
     ],
     "prompt_number": 19
    },
    {
     "cell_type": "code",
     "collapsed": false,
     "input": [
      "med = pd.read_csv(open('FIPSAsthmaCounty.csv'), sep=',')"
     ],
     "language": "python",
     "metadata": {},
     "outputs": [],
     "prompt_number": 28
    },
    {
     "cell_type": "code",
     "collapsed": false,
     "input": [
      "med = med.set_index('FIPS')\n",
      "med.columns = ['county', 'prevalence']\n",
      "med.index"
     ],
     "language": "python",
     "metadata": {},
     "outputs": [
      {
       "output_type": "pyout",
       "prompt_number": 29,
       "text": [
        "Int64Index([6005, 6011, 6027, 6001, 6003, 6007, 6009, 6013, 6015, 6017, 6019, 6021, 6023, 6025, 6029, 6031, 6033, 6035, 6037, 6039, 6041, 6043, 6045, 6047, 6049, 6051, 6053, 6055, 6057, 6059, 6061, 6063, 6065, 6067, 6071, 6073, 6075, 6077, 6079, 6081, 6083, 6085, 6087, 6089, 6091, 6093, 6095, 6097, 6099, 6101, 6103, 6105, 6107, 6109, 6111, 6113, 6115], dtype=int64)"
       ]
      }
     ],
     "prompt_number": 29
    },
    {
     "cell_type": "code",
     "collapsed": false,
     "input": [
      "ozone = DataFrame(county_averages)"
     ],
     "language": "python",
     "metadata": {},
     "outputs": [],
     "prompt_number": 22
    },
    {
     "cell_type": "code",
     "collapsed": false,
     "input": [
      "both = pd.concat([med, ozone], axis = 1)\n",
      "                                               "
     ],
     "language": "python",
     "metadata": {},
     "outputs": [],
     "prompt_number": 32
    },
    {
     "cell_type": "code",
     "collapsed": false,
     "input": [
      "both[:10]"
     ],
     "language": "python",
     "metadata": {},
     "outputs": [
      {
       "html": [
        "<div style=\"max-height:1000px;max-width:1500px;overflow:auto;\">\n",
        "<table border=\"1\" class=\"dataframe\">\n",
        "  <thead>\n",
        "    <tr style=\"text-align: right;\">\n",
        "      <th></th>\n",
        "      <th>county</th>\n",
        "      <th>prevalence</th>\n",
        "      <th>Mean Ozone</th>\n",
        "    </tr>\n",
        "    <tr>\n",
        "      <th>FIPS</th>\n",
        "      <th></th>\n",
        "      <th></th>\n",
        "      <th></th>\n",
        "    </tr>\n",
        "  </thead>\n",
        "  <tbody>\n",
        "    <tr>\n",
        "      <th>6001</th>\n",
        "      <td>      Alameda</td>\n",
        "      <td>  9.8</td>\n",
        "      <td> 0.025886</td>\n",
        "    </tr>\n",
        "    <tr>\n",
        "      <th>6003</th>\n",
        "      <td>       Alpine</td>\n",
        "      <td>  8.7</td>\n",
        "      <td>      NaN</td>\n",
        "    </tr>\n",
        "    <tr>\n",
        "      <th>6005</th>\n",
        "      <td>       Amador</td>\n",
        "      <td>  8.7</td>\n",
        "      <td> 0.031071</td>\n",
        "    </tr>\n",
        "    <tr>\n",
        "      <th>6007</th>\n",
        "      <td>        Butte</td>\n",
        "      <td>  9.7</td>\n",
        "      <td> 0.039171</td>\n",
        "    </tr>\n",
        "    <tr>\n",
        "      <th>6009</th>\n",
        "      <td>   Calaveras </td>\n",
        "      <td>  8.7</td>\n",
        "      <td> 0.036388</td>\n",
        "    </tr>\n",
        "    <tr>\n",
        "      <th>6011</th>\n",
        "      <td>       Colusa</td>\n",
        "      <td> 13.7</td>\n",
        "      <td> 0.030787</td>\n",
        "    </tr>\n",
        "    <tr>\n",
        "      <th>6013</th>\n",
        "      <td> Contra Costa</td>\n",
        "      <td>  9.6</td>\n",
        "      <td> 0.027290</td>\n",
        "    </tr>\n",
        "    <tr>\n",
        "      <th>6015</th>\n",
        "      <td>    Del Norte</td>\n",
        "      <td>  9.2</td>\n",
        "      <td>      NaN</td>\n",
        "    </tr>\n",
        "    <tr>\n",
        "      <th>6017</th>\n",
        "      <td>    El Dorado</td>\n",
        "      <td>  8.3</td>\n",
        "      <td> 0.040176</td>\n",
        "    </tr>\n",
        "    <tr>\n",
        "      <th>6019</th>\n",
        "      <td>       Fresno</td>\n",
        "      <td> 11.3</td>\n",
        "      <td> 0.040742</td>\n",
        "    </tr>\n",
        "  </tbody>\n",
        "</table>\n",
        "</div>"
       ],
       "output_type": "pyout",
       "prompt_number": 35,
       "text": [
        "            county  prevalence  Mean Ozone\n",
        "FIPS                                      \n",
        "6001       Alameda         9.8    0.025886\n",
        "6003        Alpine         8.7         NaN\n",
        "6005        Amador         8.7    0.031071\n",
        "6007         Butte         9.7    0.039171\n",
        "6009    Calaveras          8.7    0.036388\n",
        "6011        Colusa        13.7    0.030787\n",
        "6013  Contra Costa         9.6    0.027290\n",
        "6015     Del Norte         9.2         NaN\n",
        "6017     El Dorado         8.3    0.040176\n",
        "6019        Fresno        11.3    0.040742"
       ]
      }
     ],
     "prompt_number": 35
    },
    {
     "cell_type": "code",
     "collapsed": false,
     "input": [
      "both = both.dropna()\n",
      "both[:10]"
     ],
     "language": "python",
     "metadata": {},
     "outputs": [
      {
       "html": [
        "<div style=\"max-height:1000px;max-width:1500px;overflow:auto;\">\n",
        "<table border=\"1\" class=\"dataframe\">\n",
        "  <thead>\n",
        "    <tr style=\"text-align: right;\">\n",
        "      <th></th>\n",
        "      <th>county</th>\n",
        "      <th>prevalence</th>\n",
        "      <th>Mean Ozone</th>\n",
        "    </tr>\n",
        "    <tr>\n",
        "      <th>FIPS</th>\n",
        "      <th></th>\n",
        "      <th></th>\n",
        "      <th></th>\n",
        "    </tr>\n",
        "  </thead>\n",
        "  <tbody>\n",
        "    <tr>\n",
        "      <th>6001</th>\n",
        "      <td>      Alameda</td>\n",
        "      <td>  9.8</td>\n",
        "      <td> 0.025886</td>\n",
        "    </tr>\n",
        "    <tr>\n",
        "      <th>6005</th>\n",
        "      <td>       Amador</td>\n",
        "      <td>  8.7</td>\n",
        "      <td> 0.031071</td>\n",
        "    </tr>\n",
        "    <tr>\n",
        "      <th>6007</th>\n",
        "      <td>        Butte</td>\n",
        "      <td>  9.7</td>\n",
        "      <td> 0.039171</td>\n",
        "    </tr>\n",
        "    <tr>\n",
        "      <th>6009</th>\n",
        "      <td>   Calaveras </td>\n",
        "      <td>  8.7</td>\n",
        "      <td> 0.036388</td>\n",
        "    </tr>\n",
        "    <tr>\n",
        "      <th>6011</th>\n",
        "      <td>       Colusa</td>\n",
        "      <td> 13.7</td>\n",
        "      <td> 0.030787</td>\n",
        "    </tr>\n",
        "    <tr>\n",
        "      <th>6013</th>\n",
        "      <td> Contra Costa</td>\n",
        "      <td>  9.6</td>\n",
        "      <td> 0.027290</td>\n",
        "    </tr>\n",
        "    <tr>\n",
        "      <th>6017</th>\n",
        "      <td>    El Dorado</td>\n",
        "      <td>  8.3</td>\n",
        "      <td> 0.040176</td>\n",
        "    </tr>\n",
        "    <tr>\n",
        "      <th>6019</th>\n",
        "      <td>       Fresno</td>\n",
        "      <td> 11.3</td>\n",
        "      <td> 0.040742</td>\n",
        "    </tr>\n",
        "    <tr>\n",
        "      <th>6021</th>\n",
        "      <td>        Glenn</td>\n",
        "      <td> 13.7</td>\n",
        "      <td> 0.032210</td>\n",
        "    </tr>\n",
        "    <tr>\n",
        "      <th>6023</th>\n",
        "      <td>     Humboldt</td>\n",
        "      <td>  7.0</td>\n",
        "      <td> 0.023115</td>\n",
        "    </tr>\n",
        "  </tbody>\n",
        "</table>\n",
        "</div>"
       ],
       "output_type": "pyout",
       "prompt_number": 37,
       "text": [
        "            county  prevalence  Mean Ozone\n",
        "FIPS                                      \n",
        "6001       Alameda         9.8    0.025886\n",
        "6005        Amador         8.7    0.031071\n",
        "6007         Butte         9.7    0.039171\n",
        "6009    Calaveras          8.7    0.036388\n",
        "6011        Colusa        13.7    0.030787\n",
        "6013  Contra Costa         9.6    0.027290\n",
        "6017     El Dorado         8.3    0.040176\n",
        "6019        Fresno        11.3    0.040742\n",
        "6021         Glenn        13.7    0.032210\n",
        "6023      Humboldt         7.0    0.023115"
       ]
      }
     ],
     "prompt_number": 37
    },
    {
     "cell_type": "code",
     "collapsed": false,
     "input": [
      "plt.scatter(both['Mean Ozone'], both['prevalence'])"
     ],
     "language": "python",
     "metadata": {},
     "outputs": [
      {
       "output_type": "pyout",
       "prompt_number": 39,
       "text": [
        "<matplotlib.collections.PathCollection at 0x20c592ac>"
       ]
      },
      {
       "output_type": "display_data",
       "png": "[encoded data removed]"
      }
     ],
     "prompt_number": 39
    },
    {
     "cell_type": "code",
     "collapsed": false,
     "input": [
      "z = np.polyfit(both['Mean Ozone'], both['prevalence'], 1)\n",
      "p = np.poly1d(z)\n",
      "plt.scatter(both['Mean Ozone'], both['prevalence'])\n",
      "plt.plot(both['Mean Ozone'],p(both['Mean Ozone']),\"r--\")\n",
      "#plt.ylim(both['prevalence'].min(), both['prevalence'].max())\n",
      "#plt.xlim(both['Mean Ozone'].min(), both['Mean Ozone'].max())\n"
     ],
     "language": "python",
     "metadata": {},
     "outputs": [
      {
       "output_type": "pyout",
       "prompt_number": 59,
       "text": [
        "[<matplotlib.lines.Line2D at 0x23eb33ac>]"
       ]
      },
      {
       "output_type": "display_data",
       "png": "[encoded data removed]"
      }
     ],
     "prompt_number": 59
    },
    {
     "cell_type": "code",
     "collapsed": false,
     "input": [
      "print 'r= '+str(both['Mean Ozone'].corr(both['prevalence']))"
     ],
     "language": "python",
     "metadata": {},
     "outputs": [
      {
       "output_type": "stream",
       "stream": "stdout",
       "text": [
        "r= 0.218297247024\n"
       ]
      }
     ],
     "prompt_number": 63
    },
    {
     "cell_type": "markdown",
     "metadata": {},
     "source": [
      "As we are dealing with atmosphere and not a physical law, this is pretty good.\n",
      "r should be higher once we use the data for 2007"
     ]
    },
    {
     "cell_type": "code",
     "collapsed": false,
     "input": [],
     "language": "python",
     "metadata": {},
     "outputs": []
    }
   ],
   "metadata": {}
  }
 ]
}