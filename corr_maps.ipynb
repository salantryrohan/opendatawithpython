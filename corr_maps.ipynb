{
 "metadata": {
  "name": "corr maps"
 },
 "nbformat": 3,
 "nbformat_minor": 0,
 "worksheets": [
  {
   "cells": [
    {
     "cell_type": "markdown",
     "metadata": {},
     "source": [
      "Converting EPA Airquality Data into Pandas DataFrames by County\n",
      "---------------------------------------------------------------"
     ]
    },
    {
     "cell_type": "code",
     "collapsed": false,
     "input": [
      "import pandas as pd\n",
      "import matplotlib.pyplot as plt\n",
      "from pandas import DataFrame\n",
      "import shapefile"
     ],
     "language": "python",
     "metadata": {},
     "outputs": [],
     "prompt_number": 1
    },
    {
     "cell_type": "code",
     "collapsed": false,
     "input": [
      "#Airquality Data comes from https://ofmext.epa.gov/AQDMRS/aqdmrs.html\n",
      "#This query includes the ozone data for the year 2011 in the state of california\n",
      "a = open('/Users/Deb/airquality_asthma/AQDM_507188059_hourly.csv')"
     ],
     "language": "python",
     "metadata": {},
     "outputs": [],
     "prompt_number": 2
    },
    {
     "cell_type": "code",
     "collapsed": false,
     "input": [
      "df = pd.read_csv(a)"
     ],
     "language": "python",
     "metadata": {},
     "outputs": [],
     "prompt_number": 3
    },
    {
     "cell_type": "code",
     "collapsed": false,
     "input": [
      "df.head()"
     ],
     "language": "python",
     "metadata": {},
     "outputs": [
      {
       "output_type": "pyout",
       "prompt_number": 4,
       "text": [
        "<class 'pandas.core.frame.DataFrame'>\n",
        "Int64Index: 5 entries, 0 to 4\n",
        "Data columns:\n",
        "Latitude                   5  non-null values\n",
        "Longitude                  5  non-null values\n",
        "Datum                      5  non-null values\n",
        "Horizontal Accuracy        5  non-null values\n",
        "State Code                 5  non-null values\n",
        "County Code                5  non-null values\n",
        "Site Num                   5  non-null values\n",
        "Parameter Code             5  non-null values\n",
        "POC                        5  non-null values\n",
        "AQS Parameter Desc         5  non-null values\n",
        "Date Local                 5  non-null values\n",
        "24 Hour Local              5  non-null values\n",
        "Date GMT                   5  non-null values\n",
        "24 Hour GMT                5  non-null values\n",
        "Year GMT                   5  non-null values\n",
        "Day In Year GMT            5  non-null values\n",
        "Sample Measurement         5  non-null values\n",
        "Units of Measure           5  non-null values\n",
        "Sample Duration            5  non-null values\n",
        "Sample Frequency           0  non-null values\n",
        "Detection Limit            5  non-null values\n",
        "Measurement Uncertainty    0  non-null values\n",
        "Qualifier Description      0  non-null values\n",
        "Method Type                5  non-null values\n",
        "Method Description         5  non-null values\n",
        "dtypes: float64(13), object(12)"
       ]
      }
     ],
     "prompt_number": 4
    },
    {
     "cell_type": "code",
     "collapsed": false,
     "input": [
      "len(df)"
     ],
     "language": "python",
     "metadata": {},
     "outputs": [
      {
       "output_type": "pyout",
       "prompt_number": 6,
       "text": [
        "2861316"
       ]
      }
     ],
     "prompt_number": 6
    },
    {
     "cell_type": "markdown",
     "metadata": {},
     "source": [
      "Group all measurements by measurement site (identified by countycode and site number) and create a new DataFrame with data averaged over time per measurement site"
     ]
    },
    {
     "cell_type": "code",
     "collapsed": false,
     "input": [
      "\n",
      "county_df = df.groupby(['County Code','Site Num', 'Latitude', 'Longitude'])\n",
      "\n",
      "county_code = list()\n",
      "sitenum = list()\n",
      "lat = list()\n",
      "lon = list()\n",
      "mean_meas = list()\n",
      "max_meas = list()\n",
      "min_meas = list()\n",
      "median_meas = list()\n",
      "\n",
      "for grpname,grp in county_df:\n",
      "    county_code.append(grpname[0])\n",
      "    sitenum.append(grpname[1])\n",
      "    lat.append(float(grpname[2]))\n",
      "    lon.append(float(grpname[3]))\n",
      "    mean_meas.append(grp['Sample Measurement'].mean())\n",
      "    max_meas.append(grp['Sample Measurement'].max())\n",
      "    min_meas.append(grp['Sample Measurement'].min())\n",
      "    median_meas.append(grp['Sample Measurement'].median())"
     ],
     "language": "python",
     "metadata": {},
     "outputs": [],
     "prompt_number": 6
    },
    {
     "cell_type": "code",
     "collapsed": false,
     "input": [
      "sites_dict = {'County Code': county_code, 'Site Num': sitenum, 'Mean Ozone': mean_meas, 'Max Ozone': max_meas, 'Min Ozone': min_meas, 'Median Ozone': median_meas, 'Latitude': lat, 'Longitude': lon}"
     ],
     "language": "python",
     "metadata": {},
     "outputs": [],
     "prompt_number": 7
    },
    {
     "cell_type": "code",
     "collapsed": false,
     "input": [
      "sites_df = DataFrame(sites_dict)\n",
      "sites_df.head()"
     ],
     "language": "python",
     "metadata": {},
     "outputs": [
      {
       "html": [
        "<div style=\"max-height:1000px;max-width:1500px;overflow:auto;\">\n",
        "<table border=\"1\">\n",
        "  <thead>\n",
        "    <tr>\n",
        "      <th></th>\n",
        "      <th>County Code</th>\n",
        "      <th>Latitude</th>\n",
        "      <th>Longitude</th>\n",
        "      <th>Max Ozone</th>\n",
        "      <th>Mean Ozone</th>\n",
        "      <th>Median Ozone</th>\n",
        "      <th>Min Ozone</th>\n",
        "      <th>Site Num</th>\n",
        "    </tr>\n",
        "    </thead>\n",
        "    <tbody>\n",
        "    <tr>\n",
        "      <td><strong>0</strong></td>\n",
        "      <td> 1</td>\n",
        "      <td> 37.687526</td>\n",
        "      <td>-121.784217</td>\n",
        "      <td> 0.102</td>\n",
        "      <td> 0.024099</td>\n",
        "      <td> 0.024</td>\n",
        "      <td> 0.002</td>\n",
        "      <td>    7</td>\n",
        "    </tr>\n",
        "    <tr>\n",
        "      <td><strong>1</strong></td>\n",
        "      <td> 1</td>\n",
        "      <td> 37.743065</td>\n",
        "      <td>-122.169935</td>\n",
        "      <td> 0.072</td>\n",
        "      <td> 0.017730</td>\n",
        "      <td> 0.018</td>\n",
        "      <td> 0.002</td>\n",
        "      <td>    9</td>\n",
        "    </tr>\n",
        "    <tr>\n",
        "      <td><strong>2</strong></td>\n",
        "      <td> 1</td>\n",
        "      <td> 37.814781</td>\n",
        "      <td>-122.282347</td>\n",
        "      <td> 0.061</td>\n",
        "      <td> 0.019565</td>\n",
        "      <td> 0.020</td>\n",
        "      <td> 0.002</td>\n",
        "      <td>   11</td>\n",
        "    </tr>\n",
        "    <tr>\n",
        "      <td><strong>3</strong></td>\n",
        "      <td> 1</td>\n",
        "      <td> 37.654456</td>\n",
        "      <td>-122.031547</td>\n",
        "      <td> 0.094</td>\n",
        "      <td> 0.028426</td>\n",
        "      <td> 0.028</td>\n",
        "      <td> 0.002</td>\n",
        "      <td> 2001</td>\n",
        "    </tr>\n",
        "    <tr>\n",
        "      <td><strong>4</strong></td>\n",
        "      <td> 5</td>\n",
        "      <td> 38.339905</td>\n",
        "      <td>-120.763515</td>\n",
        "      <td> 0.102</td>\n",
        "      <td> 0.028670</td>\n",
        "      <td> 0.028</td>\n",
        "      <td> 0.002</td>\n",
        "      <td>    2</td>\n",
        "    </tr>\n",
        "  </tbody>\n",
        "</table>\n",
        "</div>"
       ],
       "output_type": "pyout",
       "prompt_number": 9,
       "text": [
        "   County Code   Latitude   Longitude  Max Ozone  Mean Ozone  Median Ozone  Min Ozone  Site Num\n",
        "0            1  37.687526 -121.784217      0.102    0.024099         0.024      0.002         7\n",
        "1            1  37.743065 -122.169935      0.072    0.017730         0.018      0.002         9\n",
        "2            1  37.814781 -122.282347      0.061    0.019565         0.020      0.002        11\n",
        "3            1  37.654456 -122.031547      0.094    0.028426         0.028      0.002      2001\n",
        "4            5  38.339905 -120.763515      0.102    0.028670         0.028      0.002         2"
       ]
      }
     ],
     "prompt_number": 9
    },
    {
     "cell_type": "markdown",
     "metadata": {},
     "source": [
      "Look at some overall stats for our new DataFrame"
     ]
    },
    {
     "cell_type": "markdown",
     "metadata": {},
     "source": [
      "Plot all measureing stations to see if they are evenly distributed"
     ]
    },
    {
     "cell_type": "markdown",
     "metadata": {},
     "source": [
      "Convert the 'County Code' into a FIPS, ie add on the '06' California prefix"
     ]
    },
    {
     "cell_type": "code",
     "collapsed": false,
     "input": [
      "#sites_df['FIPS'] = sites_df['County Code'].apply(lambda x: '0' + (str(6000 + int(x) )))\n",
      "sites_df['FIPS'] = sites_df['County Code'].apply(lambda x: 6000 + int(x) )"
     ],
     "language": "python",
     "metadata": {},
     "outputs": [],
     "prompt_number": 10
    },
    {
     "cell_type": "code",
     "collapsed": false,
     "input": [
      "grpbyobj = sites_df.groupby('FIPS')\n",
      "countymeandict = {}\n",
      "count = 0\n",
      "for grpname,grpdf in grpbyobj:\n",
      "    #print grpname,grpdf['Mean Ozone'].mean()\n",
      "    countymeandict[grpname] = grpdf['Mean Ozone'].mean()\n",
      "    count = count + 1\n",
      "    #break\n",
      "print count    \n",
      "#print countymeandict \n",
      "dictdf = {'cnty_fips': countymeandict.keys(), 'meanvalue': countymeandict.values()}\n",
      "#print dictdf\n",
      "resultdf = DataFrame(dictdf)\n",
      "print resultdf[:5]"
     ],
     "language": "python",
     "metadata": {},
     "outputs": [
      {
       "output_type": "stream",
       "stream": "stdout",
       "text": [
        "49\n",
        "   cnty_fips  meanvalue\n",
        "0       6017   0.044753\n",
        "1       6019   0.030731\n",
        "2       6021   0.029426\n",
        "3       6023   0.025254\n",
        "4       6025   0.031208\n"
       ]
      }
     ],
     "prompt_number": 11
    },
    {
     "cell_type": "markdown",
     "metadata": {},
     "source": [
      "Next Up: Calculate county wide averages\n",
      "---------------------------------------"
     ]
    },
    {
     "cell_type": "code",
     "collapsed": false,
     "input": [
      "med = pd.read_csv(open('Tracking_Hospital_2007_CountyMeasures.csv'), sep=',')"
     ],
     "language": "python",
     "metadata": {},
     "outputs": [],
     "prompt_number": 12
    },
    {
     "cell_type": "code",
     "collapsed": false,
     "input": [
      "print med[:5]\n",
      "print type(df)"
     ],
     "language": "python",
     "metadata": {},
     "outputs": [
      {
       "output_type": "stream",
       "stream": "stdout",
       "text": [
        "   cnty_fips  cnty_id   cnty_name cnty_abbr Total Number Lower 95% Limit Upper 95% Limit Age Adj. Rate per 10000\n",
        "0       6000        0  CALIFORNIA       NaN        31987            8.53            8.72                    8.62\n",
        "1       6001        1     Alameda        AL         2144           13.84           15.08                   14.45\n",
        "2       6003        2      Alpine        AP         null            null            null                    null\n",
        "3       6005        3      Amador        AM           25            4.05            9.83                    6.49\n",
        "4       6007        4       Butte        BU          188            7.74           10.42                    9.01\n",
        "<class 'pandas.core.frame.DataFrame'>\n"
       ]
      }
     ],
     "prompt_number": 13
    },
    {
     "cell_type": "code",
     "collapsed": false,
     "input": [
      "\n",
      "\n",
      "merged = resultdf.merge(med)\n",
      "subdf = merged[['cnty_fips','meanvalue','Age Adj. Rate per 10000']]\n",
      "subdf = subdf.set_index('cnty_fips')\n",
      "subdf = subdf[subdf['Age Adj. Rate per 10000'] != 'null']\n",
      "subdf['Age Adj. Rate per 10000'] = subdf['Age Adj. Rate per 10000'].apply(lambda x:float(x))\n",
      "print subdf[:5]\n"
     ],
     "language": "python",
     "metadata": {},
     "outputs": [
      {
       "output_type": "stream",
       "stream": "stdout",
       "text": [
        "           meanvalue  Age Adj. Rate per 10000\n",
        "cnty_fips                                    \n",
        "6001        0.022455                    14.45\n",
        "6005        0.028670                     6.49\n",
        "6007        0.033055                     9.01\n",
        "6009        0.030958                     6.01\n",
        "6013        0.024964                     9.90\n"
       ]
      }
     ],
     "prompt_number": 33
    },
    {
     "cell_type": "code",
     "collapsed": false,
     "input": [
      "adjrateser = subdf['Age Adj. Rate per 10000']\n",
      "meanvalser = subdf['meanvalue']\n",
      "\n",
      "ratiodict = {}\n",
      "\n",
      "for key,val in meanvalser.iteritems():\n",
      "    ratio = float(meanvalser[key]/adjrateser[key])\n",
      "    ratiodict[key] = ratio\n",
      "\n",
      "#print ratiodict\n",
      "ratiodf = DataFrame({'fips':ratiodict.keys(),'ratio':ratiodict.values()})\n",
      "#print ratiodf\n",
      "minval = ratiodf['ratio'].min()\n",
      "maxval = ratiodf['ratio'].max()\n",
      "\n",
      "#print minval,maxval\n",
      "\n",
      "\n",
      "def normalize(x):\n",
      "    global maxval\n",
      "    global minval\n",
      "    val = float((x-minval)/(maxval-minval))\n",
      "    return val\n",
      "\n",
      "ratiodf['norm'] = ratiodf['ratio'].apply(normalize)\n",
      "ratiodf = ratiodf.set_index('fips')\n",
      "#print ratiodf\n",
      "print ratiodf\n",
      "ratio_norm_ser = ratiodf['norm']\n",
      "#print ratio_norm_ser\n",
      "fipslist = list(ratio_norm_ser.keys()) \n",
      "print type(fipslist)\n",
      "print fipslist\n",
      "\n",
      "def lookup(x):\n",
      "\n",
      "    try:\n",
      "        if len(x) == 5:\n",
      "            x = x[1:]\n",
      "            x = int(x)\n",
      "            return ratio_norm_ser[x]\n",
      "    except KeyError:\n",
      "        return 0\n",
      "    \n",
      "        \n",
      "       \n",
      "        \n",
      "       \n",
      "                \n",
      "    \n",
      "\n",
      "print lookup('06017')"
     ],
     "language": "python",
     "metadata": {},
     "outputs": [
      {
       "output_type": "stream",
       "stream": "stdout",
       "text": [
        "         ratio      norm\n",
        "fips                    \n",
        "6017  0.007824  0.849600\n",
        "6019  0.002739  0.160573\n",
        "6021  0.005245  0.500182\n",
        "6023  0.003381  0.247532\n",
        "6025  0.002368  0.110281\n",
        "6029  0.004080  0.342338\n",
        "6031  0.003615  0.279301\n",
        "6033  0.003805  0.305008\n",
        "6037  0.002643  0.147545\n",
        "6039  0.003675  0.287458\n",
        "6041  0.005766  0.570701\n",
        "6043  0.005437  0.526213\n",
        "6045  0.007206  0.765890\n",
        "6047  0.003315  0.238583\n",
        "6053  0.004021  0.334312\n",
        "6055  0.004890  0.452102\n",
        "6057  0.005677  0.558672\n",
        "6059  0.004252  0.365624\n",
        "6061  0.007390  0.790752\n",
        "6065  0.004619  0.415279\n",
        "6067  0.003328  0.240408\n",
        "6069  0.006414  0.658571\n",
        "6071  0.003787  0.302536\n",
        "6073  0.004110  0.346301\n",
        "6075  0.002608  0.142805\n",
        "6077  0.002799  0.168672\n",
        "6079  0.006115  0.618066\n",
        "6081  0.002923  0.185555\n",
        "6083  0.006494  0.669378\n",
        "6085  0.003706  0.291578\n",
        "6087  0.003849  0.311048\n",
        "6089  0.003402  0.250447\n",
        "6093  0.006773  0.707208\n",
        "6095  0.003557  0.271370\n",
        "6097  0.003829  0.308256\n",
        "6099  0.003459  0.258109\n",
        "6101  0.003960  0.326062\n",
        "6103  0.005186  0.492159\n",
        "6107  0.004253  0.365747\n",
        "6109  0.008934  1.000000\n",
        "6111  0.005586  0.546413\n",
        "6113  0.004832  0.444246\n",
        "6001  0.001554  0.000000\n",
        "6005  0.004418  0.388022\n",
        "6007  0.003669  0.286555\n",
        "6009  0.005151  0.487430\n",
        "6013  0.002522  0.131113\n",
        "<type 'list'>\n",
        "[6017, 6019, 6021, 6023, 6025, 6029, 6031, 6033, 6037, 6039, 6041, 6043, 6045, 6047, 6053, 6055, 6057, 6059, 6061, 6065, 6067, 6069, 6071, 6073, 6075, 6077, 6079, 6081, 6083, 6085, 6087, 6089, 6093, 6095, 6097, 6099, 6101, 6103, 6107, 6109, 6111, 6113, 6001, 6005, 6007, 6009, 6013]\n",
        "0.849599750857\n"
       ]
      }
     ],
     "prompt_number": 70
    },
    {
     "cell_type": "code",
     "collapsed": false,
     "input": [
      "import numpy as np\n",
      "\n",
      "import matplotlib.pyplot as plt\n",
      "\n",
      "\n",
      "\n",
      "with warnings.catch_warnings():\n",
      "\n",
      "    warnings.simplefilter(\"ignore\")\n",
      "\n",
      "\n",
      "\n",
      "    from mpl_toolkits.basemap import Basemap"
     ],
     "language": "python",
     "metadata": {},
     "outputs": [],
     "prompt_number": 16
    },
    {
     "cell_type": "code",
     "collapsed": false,
     "input": [
      "import os\n",
      "\n",
      "import inspect\n",
      "\n",
      "basemap_data_dir = os.path.join(os.path.dirname(inspect.getfile(Basemap)), \"data\")\n",
      "\n",
      "print basemap_data_dir, os.path.exists(os.path.join(basemap_data_dir,\"UScounties.shp\"))"
     ],
     "language": "python",
     "metadata": {},
     "outputs": [
      {
       "output_type": "stream",
       "stream": "stdout",
       "text": [
        "/Library/Frameworks/EPD64.framework/Versions/7.3/lib/python2.7/site-packages/mpl_toolkits/basemap/data True\n"
       ]
      }
     ],
     "prompt_number": 27
    },
    {
     "cell_type": "code",
     "collapsed": false,
     "input": [
      "# https://code.google.com/p/pyshp/\n",
      "\n",
      "import shapefile # install shpf module for shape files\n",
      "\n",
      "print basemap_data_dir\n",
      "\n",
      "# this is my git clone of https://github.com/matplotlib/basemap --> these files will be in the PiCloud basemap_data_dir\n",
      "\n",
      "if os.path.exists(os.path.join(basemap_data_dir,\"UScounties.shp\")):\n",
      "\n",
      "    shpf = shapefile.Reader(os.path.join(basemap_data_dir,\"UScounties\"))\n",
      "\n",
      "else:\n",
      "\n",
      "    # put in your path\n",
      "\n",
      "    #shpf = shapefile.Reader(\"/Users/raymondyee/Dropbox/WwoD13/tl_2012_us_county\")\n",
      "\n",
      "    shpf = shapefile.Reader(\"/Users/raymondyee/C/src/basemap/lib/mpl_toolkits/basemap/data/UScounties\")\n",
      "\n",
      "\n",
      "\n",
      "shapes = shpf.shapes()\n",
      "\n",
      "records = shpf.records()\n",
      "\n",
      "for x in records:\n",
      "    print x    \n",
      "    break\n",
      "\n",
      "for y in shapes:\n",
      "    print y\n",
      "    break\n"
     ],
     "language": "python",
     "metadata": {},
     "outputs": [
      {
       "output_type": "stream",
       "stream": "stdout",
       "text": [
        "/Library/Frameworks/EPD64.framework/Versions/7.3/lib/python2.7/site-packages/mpl_toolkits/basemap/data\n",
        "['01', '029', '01029', 'AL', 'Cleburne', 'County']"
       ]
      },
      {
       "output_type": "stream",
       "stream": "stdout",
       "text": [
        "\n",
        "<shapefile._Shape instance at 0x10bcece18>\n"
       ]
      }
     ],
     "prompt_number": 30
    },
    {
     "cell_type": "code",
     "collapsed": false,
     "input": [
      "def zip_filter_by_state(records, shapes, included_states=None):\n",
      "\n",
      "    # by default, no filtering\n",
      "\n",
      "    # included_states is a list of states fips prefixes\n",
      "\n",
      "    for (record, state) in izip(records, shapes):\n",
      "\n",
      "        if record[0] in included_states:\n",
      "\n",
      "            yield (record, state) \n"
     ],
     "language": "python",
     "metadata": {},
     "outputs": [],
     "prompt_number": 31
    },
    {
     "cell_type": "code",
     "collapsed": false,
     "input": [
      "# http://www.geophysique.be/2013/02/12/matplotlib-basemap-tutorial-10-shapefiles-unleached-continued/\n",
      "#\n",
      "# BaseMap example by geophysique.be\n",
      "# tutorial 10\n",
      "import time\n",
      "\n",
      "\n",
      "import os\n",
      "\n",
      "import inspect\n",
      "\n",
      "import numpy as np\n",
      "\n",
      "import matplotlib.pyplot as plt\n",
      "\n",
      "from itertools import islice, izip\n",
      "\n",
      "from mpl_toolkits.basemap import Basemap\n",
      "\n",
      "from matplotlib.collections import LineCollection\n",
      "\n",
      "from matplotlib import cm\n",
      "\n",
      "import shapefile \n",
      "\n",
      " \n",
      "\n",
      "### PARAMETERS FOR MATPLOTLIB :\n",
      "\n",
      "import matplotlib as mpl\n",
      "\n",
      "mpl.rcParams['font.size'] = 10.\n",
      "\n",
      "mpl.rcParams['font.family'] = 'Comic Sans MS'\n",
      "\n",
      "mpl.rcParams['axes.labelsize'] = 8.\n",
      "\n",
      "mpl.rcParams['xtick.labelsize'] = 6.\n",
      "\n",
      "mpl.rcParams['ytick.labelsize'] = 6.\n",
      "\n",
      " \n",
      "\n",
      "fig = plt.figure(figsize=(11.7,11)) #11.7,8.3\n",
      "\n",
      "#Custom adjust of the subplots\n",
      "\n",
      "plt.subplots_adjust(left=0.05,right=0.95,top=0.90,bottom=0.05,wspace=0.15,hspace=0.05)\n",
      "\n",
      "ax = plt.subplot(111)\n",
      "ax.set_title('County-wise distribution for California State - Hospitalizations')\n",
      "\n",
      "#Let's create a basemap of USA\n",
      "\n",
      "#x1 = -180.\n",
      "#x2 = -62.\n",
      "#y1 = 18.\n",
      "#y2 = 68.\n",
      "\n",
      "# co-ordinates of california state\n",
      "x1 = -128.\n",
      "x2 = -114.\n",
      "y1 = 32.\n",
      "y2 = 43.\n",
      " \n",
      "#m = Basemap(llcrnrlon=-128,llcrnrlat=25,urcrnrlon=-111.0,urcrnrlat=44.5,\n",
      "#            resolution='i',projection='cass',lon_0=-120.36,lat_0=37.7)\n",
      "m = Basemap(resolution='i',projection='merc', llcrnrlat=y1,urcrnrlat=y2,llcrnrlon=x1,urcrnrlon=x2,lat_ts=(y1+y2)/2)\n",
      "\n",
      "#m.drawcountries(linewidth=0.5)\n",
      "\n",
      "#m.drawcoastlines(linewidth=0.5)\n",
      "\n",
      "m.drawparallels(np.arange(y1,y2,2.),labels=[1,0,0,0],color='black',dashes=[1,0],labelstyle='+/-',linewidth=0.2) # draw parallels\n",
      "\n",
      "m.drawmeridians(np.arange(x1,x2,2.),labels=[0,0,0,1],color='black',dashes=[1,0],labelstyle='+/-',linewidth=0.2) # draw meridians\n",
      "    \n",
      "\n",
      "def zip_filter_by_state(records, shapes, included_states=None):\n",
      "\n",
      "    # by default, no filtering\n",
      "\n",
      "    # included_states is a list of states fips prefixes\n",
      "\n",
      "    for (record, state) in izip(records, shapes):\n",
      "\n",
      "        if record[0] in included_states:\n",
      "\n",
      "            yield (record, state) \n",
      "\n",
      "    \n",
      "\n",
      "    \n",
      "\n",
      "\n",
      "\n",
      "basemap_data_dir = os.path.join(os.path.dirname(inspect.getfile(Basemap)), \"data\")\n",
      "\n",
      "\n",
      "\n",
      "# this is my git clone of https://github.com/matplotlib/basemap --> these files will be in the PiCloud basemap_data_dir\n",
      "\n",
      "if os.path.exists(os.path.join(basemap_data_dir,\"UScounties.shp\")):\n",
      "\n",
      "    shpf = shapefile.Reader(os.path.join(basemap_data_dir,\"UScounties\"))\n",
      "\n",
      "else:\n",
      "\n",
      "    # put in your path\n",
      "\n",
      "    #shpf = shapefile.Reader(\"/Users/raymondyee/Dropbox/WwoD13/tl_2012_us_county\")\n",
      "\n",
      "    shpf = shapefile.Reader(\"/Users/raymondyee/C/src/basemap/lib/mpl_toolkits/basemap/data/UScounties\")\n",
      "\n",
      "\n",
      "\n",
      "shapes = shpf.shapes()\n",
      "\n",
      "records = shpf.records()\n",
      "\n",
      " \n",
      "\n",
      "# show only CA and AK (for example)\n",
      "\n",
      "for record, shape in zip_filter_by_state(records, shapes, ['06']):# removed 02 state , we just need california\n",
      "\n",
      "    lons,lats = zip(*shape.points) # lat long for each county\n",
      "\n",
      "    data = np.array(m(lons, lats)).T\n",
      "    \n",
      "    \n",
      "\n",
      " \n",
      "\n",
      "    if len(shape.parts) == 1:\n",
      "\n",
      "        segs = [data,]\n",
      "\n",
      "    else:\n",
      "\n",
      "        segs = []\n",
      "\n",
      "        for i in range(1,len(shape.parts)):\n",
      "\n",
      "            index = shape.parts[i-1]\n",
      "\n",
      "            index2 = shape.parts[i]\n",
      "\n",
      "            segs.append(data[index:index2])\n",
      "            \n",
      "            #time.sleep(1) # introduce a delay of 1 second\n",
      "\n",
      "        segs.append(data[index2:])\n",
      "\n",
      " \n",
      "\n",
      "    lines = LineCollection(segs,antialiaseds=(1,))\n",
      "    \n",
      "     \n",
      "    color = lookup(record[2])\n",
      "    \n",
      "    \n",
      "    lines.set_label('C') \n",
      "    lines.set_facecolors(cm.gist_yarg(color)) #cm.jet(np.random.rand(1))\n",
      "    #print cm.Blues(0), binary \n",
      "    lines.set_edgecolors('k')\n",
      "    lines.set_linewidth(0.1)       \n",
      "    ax.add_collection(lines) # draw step\n",
      "    \n",
      "    \n",
      "\n",
      " \n",
      "\n",
      "plt.savefig('tutorial10.png',dpi=300)\n",
      "\n",
      "plt.show()\n"
     ],
     "language": "python",
     "metadata": {},
     "outputs": [
      {
       "output_type": "display_data",
       "png": "[encoded data removed]"
      }
     ],
     "prompt_number": 69
    },
    {
     "cell_type": "code",
     "collapsed": false,
     "input": [],
     "language": "python",
     "metadata": {},
     "outputs": []
    },
    {
     "cell_type": "markdown",
     "metadata": {},
     "source": [
      "As we are dealing with atmosphere and not a physical law, this is pretty good.\n",
      "r should be higher once we use the data for 2007"
     ]
    },
    {
     "cell_type": "code",
     "collapsed": false,
     "input": [],
     "language": "python",
     "metadata": {},
     "outputs": []
    }
   ],
   "metadata": {}
  }
 ]
}