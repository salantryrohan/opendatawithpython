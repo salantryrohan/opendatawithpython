{
 "metadata": {
  "name": "plot_health_data"
 },
 "nbformat": 3,
 "nbformat_minor": 0,
 "worksheets": [
  {
   "cells": [
    {
     "cell_type": "markdown",
     "metadata": {},
     "source": [
      "How to plot counties and shade them according with a specified color?\n",
      "\n",
      "\n",
      "\n",
      "I forgot that this has been an [old question for me](http://blog.dataunbound.com/2009/09/03/plotting-data-for-counties-on-google-maps-part-i/).\n",
      "\n",
      "\n",
      "\n",
      "\n",
      "\n",
      "\n"
     ]
    },
    {
     "cell_type": "markdown",
     "metadata": {},
     "source": [
      "Where to get county shape files?\n",
      "\n",
      "\n",
      "\n",
      "* A [UScounty shapefile is included in basemap version 1.0.6](https://github.com/matplotlib/basemap/commits/v1.0.6rel/lib/mpl_toolkits/basemap/data/UScounties.shp). Unfortunately, the latest version of basemap provided by enpkg is 1.0.2 (and I've not successfully been able to compile from source on a Mac).\n",
      "\n",
      "\n",
      "\n",
      "* I think it's safe to copy the USCounties files over from version 1.0.6 to your basemap data directory, but I'd rather not add files to that directory.\n",
      "\n",
      "\n",
      "\n",
      "* Alternative:  download files from US Census\n",
      "\n",
      "\n",
      "\n",
      "http://www.census.gov/geo/www/tiger/tgrshp2012/tgrshp2012.html\n",
      "\n",
      "\n",
      "\n",
      "ftp interface: ftp://ftp2.census.gov/geo/tiger/TIGER2012/COUNTY/ -> ftp://ftp2.census.gov/geo/tiger/TIGER2012/COUNTY/tl_2012_us_county.zip\n",
      "\n",
      "\n",
      "\n",
      "I've not added these files to the working-open-data repo because I don't want large data files in the repo if possible."
     ]
    },
    {
     "cell_type": "code",
     "collapsed": false,
     "input": [
      "import numpy as np\n",
      "\n",
      "import matplotlib.pyplot as plt\n",
      "\n",
      "\n",
      "\n",
      "with warnings.catch_warnings():\n",
      "\n",
      "    warnings.simplefilter(\"ignore\")\n",
      "\n",
      "\n",
      "\n",
      "    from mpl_toolkits.basemap import Basemap"
     ],
     "language": "python",
     "metadata": {},
     "outputs": [],
     "prompt_number": 1
    },
    {
     "cell_type": "code",
     "collapsed": false,
     "input": [
      "# you can figure out where the data directory for basemap is\n",
      "\n",
      "\n",
      "\n",
      "import os\n",
      "\n",
      "import inspect\n",
      "\n",
      "basemap_data_dir = os.path.join(os.path.dirname(inspect.getfile(Basemap)), \"data\")\n",
      "\n",
      "print basemap_data_dir, os.path.exists(os.path.join(basemap_data_dir,\"UScounties.shp\"))"
     ],
     "language": "python",
     "metadata": {},
     "outputs": [
      {
       "output_type": "stream",
       "stream": "stdout",
       "text": [
        "C:\\Python27\\lib\\site-packages\\mpl_toolkits\\basemap\\data True\n"
       ]
      }
     ],
     "prompt_number": 2
    },
    {
     "cell_type": "code",
     "collapsed": false,
     "input": [
      "!ls $basemap_data_dir"
     ],
     "language": "python",
     "metadata": {},
     "outputs": [
      {
       "output_type": "stream",
       "stream": "stderr",
       "text": [
        "'ls' is not recognized as an internal or external command,\n",
        "operable program or batch file.\n"
       ]
      }
     ],
     "prompt_number": 3
    },
    {
     "cell_type": "code",
     "collapsed": false,
     "input": [
      "# https://code.google.com/p/pyshp/\n",
      "\n",
      "import shapefile # install shpf module for shape files\n",
      "\n",
      " \n",
      "\n",
      "# this is my git clone of https://github.com/matplotlib/basemap --> these files will be in the PiCloud basemap_data_dir\n",
      "\n",
      "if os.path.exists(os.path.join(basemap_data_dir,\"UScounties.shp\")):\n",
      "\n",
      "    shpf = shapefile.Reader(os.path.join(basemap_data_dir,\"UScounties\"))\n",
      "\n",
      "else:\n",
      "\n",
      "    # put in your path\n",
      "\n",
      "    #shpf = shapefile.Reader(\"/Users/raymondyee/Dropbox/WwoD13/tl_2012_us_county\")\n",
      "\n",
      "    shpf = shapefile.Reader(\"/Users/raymondyee/C/src/basemap/lib/mpl_toolkits/basemap/data/UScounties\")\n",
      "\n",
      "\n",
      "\n",
      "shapes = shpf.shapes()\n",
      "\n",
      "records = shpf.records()\n",
      "\n",
      "for x in records:\n",
      "    print x    \n",
      "    break\n",
      "\n",
      "for y in shapes:\n",
      "    print y\n",
      "    break\n",
      "    "
     ],
     "language": "python",
     "metadata": {},
     "outputs": [
      {
       "output_type": "stream",
       "stream": "stdout",
       "text": [
        "['01', '029', '01029', 'AL', 'Cleburne', 'County']\n",
        "<shapefile._Shape instance at 0x052AF468>\n"
       ]
      }
     ],
     "prompt_number": 3
    },
    {
     "cell_type": "code",
     "collapsed": false,
     "input": [
      "shpf.fields\n"
     ],
     "language": "python",
     "metadata": {},
     "outputs": [
      {
       "output_type": "pyout",
       "prompt_number": 4,
       "text": [
        "[('DeletionFlag', 'C', 1, 0),\n",
        " ['STATE_FIPS', 'C', 2, 0],\n",
        " ['COUNTY_FIP', 'C', 3, 0],\n",
        " ['FIPS', 'C', 5, 0],\n",
        " ['STATE', 'C', 2, 0],\n",
        " ['NAME', 'C', 25, 0],\n",
        " ['LSAD', 'C', 10, 0]]"
       ]
      }
     ],
     "prompt_number": 4
    },
    {
     "cell_type": "code",
     "collapsed": false,
     "input": [
      "zip([f[0] for f in shpf.fields[1:]], records[0])\n"
     ],
     "language": "python",
     "metadata": {},
     "outputs": [
      {
       "output_type": "pyout",
       "prompt_number": 5,
       "text": [
        "[('STATE_FIPS', '01'),\n",
        " ('COUNTY_FIP', '029'),\n",
        " ('FIPS', '01029'),\n",
        " ('STATE', 'AL'),\n",
        " ('NAME', 'Cleburne'),\n",
        " ('LSAD', 'County')]"
       ]
      }
     ],
     "prompt_number": 5
    },
    {
     "cell_type": "code",
     "collapsed": false,
     "input": [
      "# just CA\n",
      "\n",
      "\n",
      "\n",
      "from itertools import islice, izip\n",
      "\n",
      "len([r for r in islice(records,None) if r[0] == '06'])"
     ],
     "language": "python",
     "metadata": {},
     "outputs": [
      {
       "output_type": "pyout",
       "prompt_number": 6,
       "text": [
        "58"
       ]
      }
     ],
     "prompt_number": 6
    },
    {
     "cell_type": "code",
     "collapsed": false,
     "input": [
      "def zip_filter_by_state(records, shapes, included_states=None):\n",
      "\n",
      "    # by default, no filtering\n",
      "\n",
      "    # included_states is a list of states fips prefixes\n",
      "\n",
      "    for (record, state) in izip(records, shapes):\n",
      "\n",
      "        if record[0] in included_states:\n",
      "\n",
      "            yield (record, state) \n",
      "\n",
      "    "
     ],
     "language": "python",
     "metadata": {},
     "outputs": [],
     "prompt_number": 7
    },
    {
     "cell_type": "code",
     "collapsed": false,
     "input": [
      "list(zip_filter_by_state(records, shapes, ['06']))[:2]"
     ],
     "language": "python",
     "metadata": {},
     "outputs": [
      {
       "output_type": "pyout",
       "prompt_number": 8,
       "text": [
        "[(['06', '035', '06035', 'CA', 'Lassen', 'County'],\n",
        "  <shapefile._Shape instance at 0x0581EC88>),\n",
        " (['06', '049', '06049', 'CA', 'Modoc', 'County'],\n",
        "  <shapefile._Shape instance at 0x0581ECD8>)]"
       ]
      }
     ],
     "prompt_number": 8
    },
    {
     "cell_type": "code",
     "collapsed": false,
     "input": [
      "len(shapes)\n",
      "\n",
      "import pandas as pd\n",
      "df = pd.read_csv('Tracking_Hospital_2007_CountyMeasures.csv') # change file to plot map\n",
      "df = df.set_index('cnty_fips')\n",
      "df = df[df['Age Adj. Rate per 10000'] != 'null']\n",
      "df['Age Adj. Rate per 10000'] = df['Age Adj. Rate per 10000'].apply(lambda x:float(x)) # convert series to float\n",
      "df_series = df['Age Adj. Rate per 10000']\n",
      "maxval = df_series.max()\n",
      "minval = df_series.min()\n",
      "\n",
      "def normalize(x):\n",
      "\tglobal maxval\n",
      "\tglobal minval\n",
      "\tnormval = float((x-minval)/(maxval-minval))\n",
      "\treturn normval\n",
      "\n",
      "\n",
      "\n",
      "def lookupfips(x):\n",
      "    global df_series\n",
      "    if len(x) == 5:\n",
      "        x = x[1:]\n",
      "    x = float(x)\n",
      "    try:\n",
      "        val = df_series[x]\n",
      "        return val\n",
      "    except KeyError:\n",
      "        print \"lookupfailed\"\n",
      "        return 0\n",
      "        \n",
      "    \n",
      "\n",
      "df_series = df_series.apply(normalize)\n",
      "print lookupfips('06005')"
     ],
     "language": "python",
     "metadata": {},
     "outputs": [
      {
       "output_type": "stream",
       "stream": "stdout",
       "text": [
        "0.298059964727\n"
       ]
      }
     ],
     "prompt_number": 13
    },
    {
     "cell_type": "code",
     "collapsed": false,
     "input": [
      "# http://www.geophysique.be/2013/02/12/matplotlib-basemap-tutorial-10-shapefiles-unleached-continued/\n",
      "#\n",
      "# BaseMap example by geophysique.be\n",
      "# tutorial 10\n",
      "import time\n",
      "\n",
      "\n",
      "import os\n",
      "\n",
      "import inspect\n",
      "\n",
      "import numpy as np\n",
      "\n",
      "import matplotlib.pyplot as plt\n",
      "\n",
      "from itertools import islice, izip\n",
      "\n",
      "from mpl_toolkits.basemap import Basemap\n",
      "\n",
      "from matplotlib.collections import LineCollection\n",
      "\n",
      "from matplotlib import cm\n",
      "\n",
      "import shapefile \n",
      "\n",
      " \n",
      "\n",
      "### PARAMETERS FOR MATPLOTLIB :\n",
      "\n",
      "import matplotlib as mpl\n",
      "\n",
      "mpl.rcParams['font.size'] = 10.\n",
      "\n",
      "mpl.rcParams['font.family'] = 'Comic Sans MS'\n",
      "\n",
      "mpl.rcParams['axes.labelsize'] = 8.\n",
      "\n",
      "mpl.rcParams['xtick.labelsize'] = 6.\n",
      "\n",
      "mpl.rcParams['ytick.labelsize'] = 6.\n",
      "\n",
      " \n",
      "\n",
      "fig = plt.figure(figsize=(11.7,11)) #11.7,8.3\n",
      "\n",
      "#Custom adjust of the subplots\n",
      "\n",
      "plt.subplots_adjust(left=0.05,right=0.95,top=0.90,bottom=0.05,wspace=0.15,hspace=0.05)\n",
      "\n",
      "ax = plt.subplot(111)\n",
      "ax.set_title('County-wise distribution for California State - Hospitalizations')\n",
      "\n",
      "#Let's create a basemap of USA\n",
      "\n",
      "#x1 = -180.\n",
      "#x2 = -62.\n",
      "#y1 = 18.\n",
      "#y2 = 68.\n",
      "\n",
      "# co-ordinates of california state\n",
      "x1 = -128.\n",
      "x2 = -114.\n",
      "y1 = 32.\n",
      "y2 = 43.\n",
      " \n",
      "#m = Basemap(llcrnrlon=-128,llcrnrlat=25,urcrnrlon=-111.0,urcrnrlat=44.5,\n",
      "#            resolution='i',projection='cass',lon_0=-120.36,lat_0=37.7)\n",
      "m = Basemap(resolution='i',projection='merc', llcrnrlat=y1,urcrnrlat=y2,llcrnrlon=x1,urcrnrlon=x2,lat_ts=(y1+y2)/2)\n",
      "\n",
      "#m.drawcountries(linewidth=0.5)\n",
      "\n",
      "#m.drawcoastlines(linewidth=0.5)\n",
      "\n",
      "m.drawparallels(np.arange(y1,y2,2.),labels=[1,0,0,0],color='black',dashes=[1,0],labelstyle='+/-',linewidth=0.2) # draw parallels\n",
      "\n",
      "m.drawmeridians(np.arange(x1,x2,2.),labels=[0,0,0,1],color='black',dashes=[1,0],labelstyle='+/-',linewidth=0.2) # draw meridians\n",
      "    \n",
      "\n",
      "def zip_filter_by_state(records, shapes, included_states=None):\n",
      "\n",
      "    # by default, no filtering\n",
      "\n",
      "    # included_states is a list of states fips prefixes\n",
      "\n",
      "    for (record, state) in izip(records, shapes):\n",
      "\n",
      "        if record[0] in included_states:\n",
      "\n",
      "            yield (record, state) \n",
      "\n",
      "    \n",
      "\n",
      "    \n",
      "\n",
      "\n",
      "\n",
      "basemap_data_dir = os.path.join(os.path.dirname(inspect.getfile(Basemap)), \"data\")\n",
      "\n",
      "\n",
      "\n",
      "# this is my git clone of https://github.com/matplotlib/basemap --> these files will be in the PiCloud basemap_data_dir\n",
      "\n",
      "if os.path.exists(os.path.join(basemap_data_dir,\"UScounties.shp\")):\n",
      "\n",
      "    shpf = shapefile.Reader(os.path.join(basemap_data_dir,\"UScounties\"))\n",
      "\n",
      "else:\n",
      "\n",
      "    # put in your path\n",
      "\n",
      "    #shpf = shapefile.Reader(\"/Users/raymondyee/Dropbox/WwoD13/tl_2012_us_county\")\n",
      "\n",
      "    shpf = shapefile.Reader(\"/Users/raymondyee/C/src/basemap/lib/mpl_toolkits/basemap/data/UScounties\")\n",
      "\n",
      "\n",
      "\n",
      "shapes = shpf.shapes()\n",
      "\n",
      "records = shpf.records()\n",
      "\n",
      " \n",
      "\n",
      "# show only CA and AK (for example)\n",
      "\n",
      "for record, shape in zip_filter_by_state(records, shapes, ['06']):# removed 02 state , we just need california\n",
      "\n",
      "    lons,lats = zip(*shape.points) # lat long for each county\n",
      "\n",
      "    data = np.array(m(lons, lats)).T\n",
      "    \n",
      "    \n",
      "\n",
      " \n",
      "\n",
      "    if len(shape.parts) == 1:\n",
      "\n",
      "        segs = [data,]\n",
      "\n",
      "    else:\n",
      "\n",
      "        segs = []\n",
      "\n",
      "        for i in range(1,len(shape.parts)):\n",
      "\n",
      "            index = shape.parts[i-1]\n",
      "\n",
      "            index2 = shape.parts[i]\n",
      "\n",
      "            segs.append(data[index:index2])\n",
      "            \n",
      "            #time.sleep(1) # introduce a delay of 1 second\n",
      "\n",
      "        segs.append(data[index2:])\n",
      "\n",
      " \n",
      "\n",
      "    lines = LineCollection(segs,antialiaseds=(1,))\n",
      "    \n",
      "    color = lookupfips(record[2])\n",
      "    \n",
      "    \n",
      "    lines.set_label('C') \n",
      "    lines.set_facecolors(cm.gist_yarg(color)) #cm.jet(np.random.rand(1))\n",
      "    #print cm.Blues(0), binary \n",
      "    lines.set_edgecolors('k')\n",
      "    lines.set_linewidth(0.1)       \n",
      "    ax.add_collection(lines) # draw step\n",
      "    \n",
      "    \n",
      "\n",
      " \n",
      "\n",
      "plt.savefig('tutorial10.png',dpi=300)\n",
      "\n",
      "plt.show()"
     ],
     "language": "python",
     "metadata": {},
     "outputs": [
      {
       "output_type": "stream",
       "stream": "stdout",
       "text": [
        "lookupfailed\n",
        "lookupfailed\n",
        "lookupfailed\n",
        "lookupfailed"
       ]
      },
      {
       "output_type": "stream",
       "stream": "stdout",
       "text": [
        "\n",
        "lookupfailed\n",
        "lookupfailed"
       ]
      },
      {
       "output_type": "stream",
       "stream": "stdout",
       "text": [
        "\n",
        "lookupfailed\n"
       ]
      },
      {
       "output_type": "display_data",
       "png": "[encoded data removed]"
      }
     ],
     "prompt_number": 14
    },
    {
     "cell_type": "code",
     "collapsed": false,
     "input": [
      "\n"
     ],
     "language": "python",
     "metadata": {},
     "outputs": [
      {
       "output_type": "stream",
       "stream": "stdout",
       "text": [
        "cnty_fips\n",
        "6000         0.400544\n",
        "6001         0.699388\n",
        "6005         0.479674\n",
        "6007         0.371176\n",
        "6009         0.478314\n",
        "6011         0.189123\n",
        "6013         0.631951\n",
        "6015         0.638477\n",
        "6017         0.254657\n",
        "6019         0.643100\n",
        "6021         0.157444\n",
        "6023         0.635758\n",
        "6025         1.000000\n",
        "6027         0.326581\n",
        "6029         0.392522\n",
        "6031         0.610741\n",
        "6033         0.751734\n",
        "6035         0.287831\n",
        "6037         0.405167\n",
        "6039         0.666349\n",
        "6041         0.188987\n",
        "6043         0.433447\n",
        "6045         0.641332\n",
        "6047         0.657512\n",
        "6049         0.282393\n",
        "6051         0.000000\n",
        "6053         0.397689\n",
        "6055         0.332019\n",
        "6057         0.581509\n",
        "6059         0.211013\n",
        "6061         0.140857\n",
        "6063         0.840245\n",
        "6065         0.344256\n",
        "6067         0.505506\n",
        "6069         0.441740\n",
        "6071         0.529164\n",
        "6073         0.328348\n",
        "6075         0.281441\n",
        "6077         0.541808\n",
        "6079         0.293134\n",
        "6081         0.353229\n",
        "6083         0.151462\n",
        "6085         0.208702\n",
        "6087         0.299116\n",
        "6089         0.469477\n",
        "6091         0.642556\n",
        "6093         0.316383\n",
        "6095         0.622706\n",
        "6097         0.396601\n",
        "6099         0.395785\n",
        "6101         0.255608\n",
        "6103         0.776886\n",
        "6105         0.457920\n",
        "6107         0.463222\n",
        "6109         0.671924\n",
        "6111         0.285248\n",
        "6113         0.272740\n",
        "6115         0.482529\n",
        "Name: Age Adj. Rate per 10000, Length: 58\n"
       ]
      }
     ],
     "prompt_number": 26
    },
    {
     "cell_type": "code",
     "collapsed": false,
     "input": [
      "from mpl_toolkits.basemap import Basemap\n",
      "import numpy as np\n",
      "import matplotlib.pyplot as plt\n",
      "# llcrnrlat,llcrnrlon,urcrnrlat,urcrnrlon\n",
      "# are the lat/lon values of the lower left and upper right corners\n",
      "# of the map.\n",
      "# resolution = 'i' means use intermediate resolution coastlines.\n",
      "# lon_0, lat_0 are the central longitude and latitude of the projection.\n",
      "#m = Basemap(llcrnrlon=-10.5,llcrnrlat=49.5,urcrnrlon=3.5,urcrnrlat=59.5,\n",
      "#            resolution='i',projection='cass',lon_0=-4.36,lat_0=54.7)\n",
      "m = Basemap(llcrnrlon=-128,llcrnrlat=25,urcrnrlon=-111.0,urcrnrlat=44.5,\n",
      "            resolution='i',projection='cass',lon_0=-120.36,lat_0=37.7)\n",
      "# can get the identical map this way (by specifying width and\n",
      "# height instead of lat/lon corners)\n",
      "#m = Basemap(width=891185,height=1115557,\\\n",
      "#            resolution='i',projection='cass',lon_0=-4.36,lat_0=54.7)\n",
      "m.drawcoastlines()\n",
      "m.fillcontinents(color='coral',lake_color='aqua')\n",
      "# draw parallels and meridians.\n",
      "#m.drawparallels(np.arange(-40,61.,2.))\n",
      "#m.drawmeridians(np.arange(-20.,21.,2.))\n",
      "m.drawmapboundary(fill_color='aqua')\n",
      "plt.title(\"Cassini Projection\")\n",
      "plt.show()"
     ],
     "language": "python",
     "metadata": {},
     "outputs": [
      {
       "output_type": "display_data",
       "png": "[encoded data removed]"
      }
     ],
     "prompt_number": 16
    }
   ],
   "metadata": {}
  }
 ]
}