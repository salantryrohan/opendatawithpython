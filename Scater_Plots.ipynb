{
 "metadata": {
  "name": "Scater Plots"
 },
 "nbformat": 3,
 "nbformat_minor": 0,
 "worksheets": [
  {
   "cells": [
    {
     "cell_type": "markdown",
     "metadata": {},
     "source": [
      "Converting EPA Airquality Data into Pandas DataFrames by County\n",
      "---------------------------------------------------------------"
     ]
    },
    {
     "cell_type": "code",
     "collapsed": false,
     "input": [
      "import pandas as pd\n",
      "import matplotlib.pyplot as plt\n",
      "from pandas import DataFrame"
     ],
     "language": "python",
     "metadata": {},
     "outputs": [],
     "prompt_number": 14
    },
    {
     "cell_type": "code",
     "collapsed": false,
     "input": [
      "#Airquality Data comes from https://ofmext.epa.gov/AQDMRS/aqdmrs.html\n",
      "#This query includes the ozone data for the year 2011 in the state of california\n",
      "a = open('/Users/Deb/airquality_asthma/AQDM_507188059_hourly.csv')"
     ],
     "language": "python",
     "metadata": {},
     "outputs": [],
     "prompt_number": 15
    },
    {
     "cell_type": "code",
     "collapsed": false,
     "input": [
      "df = pd.read_csv(a)"
     ],
     "language": "python",
     "metadata": {},
     "outputs": [],
     "prompt_number": 16
    },
    {
     "cell_type": "code",
     "collapsed": false,
     "input": [
      "df.head()"
     ],
     "language": "python",
     "metadata": {},
     "outputs": [
      {
       "output_type": "pyout",
       "prompt_number": 17,
       "text": [
        "<class 'pandas.core.frame.DataFrame'>\n",
        "Int64Index: 5 entries, 0 to 4\n",
        "Data columns:\n",
        "Latitude                   5  non-null values\n",
        "Longitude                  5  non-null values\n",
        "Datum                      5  non-null values\n",
        "Horizontal Accuracy        5  non-null values\n",
        "State Code                 5  non-null values\n",
        "County Code                5  non-null values\n",
        "Site Num                   5  non-null values\n",
        "Parameter Code             5  non-null values\n",
        "POC                        5  non-null values\n",
        "AQS Parameter Desc         5  non-null values\n",
        "Date Local                 5  non-null values\n",
        "24 Hour Local              5  non-null values\n",
        "Date GMT                   5  non-null values\n",
        "24 Hour GMT                5  non-null values\n",
        "Year GMT                   5  non-null values\n",
        "Day In Year GMT            5  non-null values\n",
        "Sample Measurement         5  non-null values\n",
        "Units of Measure           5  non-null values\n",
        "Sample Duration            5  non-null values\n",
        "Sample Frequency           0  non-null values\n",
        "Detection Limit            5  non-null values\n",
        "Measurement Uncertainty    0  non-null values\n",
        "Qualifier Description      0  non-null values\n",
        "Method Type                5  non-null values\n",
        "Method Description         5  non-null values\n",
        "dtypes: float64(13), object(12)"
       ]
      }
     ],
     "prompt_number": 17
    },
    {
     "cell_type": "code",
     "collapsed": false,
     "input": [
      "len(df)"
     ],
     "language": "python",
     "metadata": {},
     "outputs": [
      {
       "output_type": "pyout",
       "prompt_number": 18,
       "text": [
        "2861316"
       ]
      }
     ],
     "prompt_number": 18
    },
    {
     "cell_type": "markdown",
     "metadata": {},
     "source": [
      "Group all measurements by measurement site (identified by countycode and site number) and create a new DataFrame with data averaged over time per measurement site"
     ]
    },
    {
     "cell_type": "code",
     "collapsed": false,
     "input": [
      "\n",
      "county_df = df.groupby(['County Code','Site Num', 'Latitude', 'Longitude'])\n",
      "\n",
      "county_code = list()\n",
      "sitenum = list()\n",
      "lat = list()\n",
      "lon = list()\n",
      "mean_meas = list()\n",
      "max_meas = list()\n",
      "min_meas = list()\n",
      "median_meas = list()\n",
      "\n",
      "for grpname,grp in county_df:\n",
      "    county_code.append(grpname[0])\n",
      "    sitenum.append(grpname[1])\n",
      "    lat.append(float(grpname[2]))\n",
      "    lon.append(float(grpname[3]))\n",
      "    mean_meas.append(grp['Sample Measurement'].mean())\n",
      "    max_meas.append(grp['Sample Measurement'].max())\n",
      "    min_meas.append(grp['Sample Measurement'].min())\n",
      "    median_meas.append(grp['Sample Measurement'].median())"
     ],
     "language": "python",
     "metadata": {},
     "outputs": [],
     "prompt_number": 19
    },
    {
     "cell_type": "code",
     "collapsed": false,
     "input": [
      "sites_dict = {'County Code': county_code, 'Site Num': sitenum, 'Mean Ozone': mean_meas, 'Max Ozone': max_meas, 'Min Ozone': min_meas, 'Median Ozone': median_meas, 'Latitude': lat, 'Longitude': lon}"
     ],
     "language": "python",
     "metadata": {},
     "outputs": [],
     "prompt_number": 20
    },
    {
     "cell_type": "code",
     "collapsed": false,
     "input": [
      "sites_df = DataFrame(sites_dict)\n",
      "sites_df.head()"
     ],
     "language": "python",
     "metadata": {},
     "outputs": [
      {
       "html": [
        "<div style=\"max-height:1000px;max-width:1500px;overflow:auto;\">\n",
        "<table border=\"1\">\n",
        "  <thead>\n",
        "    <tr>\n",
        "      <th></th>\n",
        "      <th>County Code</th>\n",
        "      <th>Latitude</th>\n",
        "      <th>Longitude</th>\n",
        "      <th>Max Ozone</th>\n",
        "      <th>Mean Ozone</th>\n",
        "      <th>Median Ozone</th>\n",
        "      <th>Min Ozone</th>\n",
        "      <th>Site Num</th>\n",
        "    </tr>\n",
        "    </thead>\n",
        "    <tbody>\n",
        "    <tr>\n",
        "      <td><strong>0</strong></td>\n",
        "      <td> 1</td>\n",
        "      <td> 37.687526</td>\n",
        "      <td>-121.784217</td>\n",
        "      <td> 0.102</td>\n",
        "      <td> 0.024099</td>\n",
        "      <td> 0.024</td>\n",
        "      <td> 0.002</td>\n",
        "      <td>    7</td>\n",
        "    </tr>\n",
        "    <tr>\n",
        "      <td><strong>1</strong></td>\n",
        "      <td> 1</td>\n",
        "      <td> 37.743065</td>\n",
        "      <td>-122.169935</td>\n",
        "      <td> 0.072</td>\n",
        "      <td> 0.017730</td>\n",
        "      <td> 0.018</td>\n",
        "      <td> 0.002</td>\n",
        "      <td>    9</td>\n",
        "    </tr>\n",
        "    <tr>\n",
        "      <td><strong>2</strong></td>\n",
        "      <td> 1</td>\n",
        "      <td> 37.814781</td>\n",
        "      <td>-122.282347</td>\n",
        "      <td> 0.061</td>\n",
        "      <td> 0.019565</td>\n",
        "      <td> 0.020</td>\n",
        "      <td> 0.002</td>\n",
        "      <td>   11</td>\n",
        "    </tr>\n",
        "    <tr>\n",
        "      <td><strong>3</strong></td>\n",
        "      <td> 1</td>\n",
        "      <td> 37.654456</td>\n",
        "      <td>-122.031547</td>\n",
        "      <td> 0.094</td>\n",
        "      <td> 0.028426</td>\n",
        "      <td> 0.028</td>\n",
        "      <td> 0.002</td>\n",
        "      <td> 2001</td>\n",
        "    </tr>\n",
        "    <tr>\n",
        "      <td><strong>4</strong></td>\n",
        "      <td> 5</td>\n",
        "      <td> 38.339905</td>\n",
        "      <td>-120.763515</td>\n",
        "      <td> 0.102</td>\n",
        "      <td> 0.028670</td>\n",
        "      <td> 0.028</td>\n",
        "      <td> 0.002</td>\n",
        "      <td>    2</td>\n",
        "    </tr>\n",
        "  </tbody>\n",
        "</table>\n",
        "</div>"
       ],
       "output_type": "pyout",
       "prompt_number": 21,
       "text": [
        "   County Code   Latitude   Longitude  Max Ozone  Mean Ozone  Median Ozone  Min Ozone  Site Num\n",
        "0            1  37.687526 -121.784217      0.102    0.024099         0.024      0.002         7\n",
        "1            1  37.743065 -122.169935      0.072    0.017730         0.018      0.002         9\n",
        "2            1  37.814781 -122.282347      0.061    0.019565         0.020      0.002        11\n",
        "3            1  37.654456 -122.031547      0.094    0.028426         0.028      0.002      2001\n",
        "4            5  38.339905 -120.763515      0.102    0.028670         0.028      0.002         2"
       ]
      }
     ],
     "prompt_number": 21
    },
    {
     "cell_type": "markdown",
     "metadata": {},
     "source": [
      "Look at some overall stats for our new DataFrame"
     ]
    },
    {
     "cell_type": "code",
     "collapsed": false,
     "input": [
      "print 'Std ', sites_df['Mean Ozone'].std()\n",
      "print 'Mean ',sites_df['Mean Ozone'].mean()\n",
      "print 'Median',sites_df['Mean Ozone'].median()\n",
      "print 'Lat Max',sites_df['Latitude'].max()\n",
      "print 'Lat Min',sites_df['Latitude'].min()\n",
      "print 'Lon Max',sites_df['Longitude'].max()\n",
      "print 'Lon Min',sites_df['Longitude'].min()"
     ],
     "language": "python",
     "metadata": {},
     "outputs": [
      {
       "output_type": "stream",
       "stream": "stdout",
       "text": [
        "Std  0.00847830158538\n",
        "Mean  0.0315060368121\n",
        "Median 0.0298585549541\n",
        "Lat Max 41.726892\n",
        "Lat Min 32.552164\n",
        "Lon Max -114.602886\n",
        "Lon Min -124.20139\n"
       ]
      }
     ],
     "prompt_number": 22
    },
    {
     "cell_type": "markdown",
     "metadata": {},
     "source": [
      "Plot all measureing stations to see if they are evenly distributed"
     ]
    },
    {
     "cell_type": "code",
     "collapsed": false,
     "input": [
      "plt.scatter(sites_df['Longitude'],sites_df['Latitude'])"
     ],
     "language": "python",
     "metadata": {},
     "outputs": [
      {
       "output_type": "pyout",
       "prompt_number": 23,
       "text": [
        "<matplotlib.collections.PathCollection at 0x10bb8ab90>"
       ]
      },
      {
       "output_type": "display_data",
       "png": "[encoded data removed]"
      }
     ],
     "prompt_number": 23
    },
    {
     "cell_type": "markdown",
     "metadata": {},
     "source": [
      "Convert the 'County Code' into a FIPS, ie add on the '06' California prefix"
     ]
    },
    {
     "cell_type": "code",
     "collapsed": false,
     "input": [
      "#sites_df['FIPS'] = sites_df['County Code'].apply(lambda x: '0' + (str(6000 + int(x) )))\n",
      "sites_df['FIPS'] = sites_df['County Code'].apply(lambda x: 6000 + int(x) )"
     ],
     "language": "python",
     "metadata": {},
     "outputs": [],
     "prompt_number": 24
    },
    {
     "cell_type": "code",
     "collapsed": false,
     "input": [
      "grpbyobj = sites_df.groupby('FIPS')\n",
      "countymeandict = {}\n",
      "count = 0\n",
      "for grpname,grpdf in grpbyobj:\n",
      "    #print grpname,grpdf['Mean Ozone'].mean()\n",
      "    countymeandict[grpname] = grpdf['Mean Ozone'].mean()\n",
      "    count = count + 1\n",
      "    #break\n",
      "print count    \n",
      "#print countymeandict \n",
      "dictdf = {'cnty_fips': countymeandict.keys(), 'meanvalue': countymeandict.values()}\n",
      "#print dictdf\n",
      "resultdf = DataFrame(dictdf)\n",
      "#print resultdf[:]"
     ],
     "language": "python",
     "metadata": {},
     "outputs": [
      {
       "output_type": "stream",
       "stream": "stdout",
       "text": [
        "49\n"
       ]
      }
     ],
     "prompt_number": 25
    },
    {
     "cell_type": "markdown",
     "metadata": {},
     "source": [
      "Next Up: Calculate county wide averages\n",
      "---------------------------------------"
     ]
    },
    {
     "cell_type": "code",
     "collapsed": false,
     "input": [
      "#df_health = pd.read_csv()"
     ],
     "language": "python",
     "metadata": {},
     "outputs": [],
     "prompt_number": 26
    },
    {
     "cell_type": "code",
     "collapsed": false,
     "input": [
      "print ''"
     ],
     "language": "python",
     "metadata": {},
     "outputs": [
      {
       "output_type": "stream",
       "stream": "stdout",
       "text": [
        "\n"
       ]
      }
     ],
     "prompt_number": 27
    },
    {
     "cell_type": "code",
     "collapsed": false,
     "input": [
      "#county_averages.mean(), county_averages.std()"
     ],
     "language": "python",
     "metadata": {},
     "outputs": [
      {
       "ename": "NameError",
       "evalue": "name 'county_averages' is not defined",
       "output_type": "pyerr",
       "traceback": [
        "\u001b[0;31m---------------------------------------------------------------------------\u001b[0m\n\u001b[0;31mNameError\u001b[0m                                 Traceback (most recent call last)",
        "\u001b[0;32m<ipython-input-28-a901c4f04d2e>\u001b[0m in \u001b[0;36m<module>\u001b[0;34m()\u001b[0m\n\u001b[0;32m----> 1\u001b[0;31m \u001b[0mcounty_averages\u001b[0m\u001b[0;34m.\u001b[0m\u001b[0mmean\u001b[0m\u001b[0;34m(\u001b[0m\u001b[0;34m)\u001b[0m\u001b[0;34m,\u001b[0m \u001b[0mcounty_averages\u001b[0m\u001b[0;34m.\u001b[0m\u001b[0mstd\u001b[0m\u001b[0;34m(\u001b[0m\u001b[0;34m)\u001b[0m\u001b[0;34m\u001b[0m\u001b[0m\n\u001b[0m",
        "\u001b[0;31mNameError\u001b[0m: name 'county_averages' is not defined"
       ]
      }
     ],
     "prompt_number": 28
    },
    {
     "cell_type": "code",
     "collapsed": false,
     "input": [
      "med = pd.read_csv(open('Tracking_Hospital_2007_CountyMeasures.csv'), sep=',')"
     ],
     "language": "python",
     "metadata": {},
     "outputs": []
    },
    {
     "cell_type": "code",
     "collapsed": false,
     "input": [
      "print med[:5]\n",
      "print type(df)"
     ],
     "language": "python",
     "metadata": {},
     "outputs": []
    },
    {
     "cell_type": "code",
     "collapsed": false,
     "input": [
      "\n",
      "\n",
      "merged = resultdf.merge(med)\n",
      "subdf = merged[['cnty_fips','meanvalue','Age Adj. Rate per 10000']]\n",
      "subdf.set_index('cnty_fips')\n",
      "subdf = subdf[subdf['Age Adj. Rate per 10000'] != 'null']\n",
      "subdf['Age Adj. Rate per 10000'] = subdf['Age Adj. Rate per 10000'].apply(lambda x:float(x))\n",
      "print subdf"
     ],
     "language": "python",
     "metadata": {},
     "outputs": []
    },
    {
     "cell_type": "code",
     "collapsed": false,
     "input": [
      "plt.scatter(subdf['meanvalue'].values,subdf['Age Adj. Rate per 10000'].values)\n",
      "\n",
      "xvalues =  subdf['meanvalue'].values\n",
      "yvalues =  subdf['Age Adj. Rate per 10000'].values\n",
      "\n",
      "fit = polyfit(xvalues,yvalues,1)\n",
      "fit_fn = poly1d(fit)\n",
      "\n",
      "print fit_fn(0.05)\n",
      "plt.plot(xvalues, fit_fn(xvalues), '--r')"
     ],
     "language": "python",
     "metadata": {},
     "outputs": []
    },
    {
     "cell_type": "code",
     "collapsed": false,
     "input": [],
     "language": "python",
     "metadata": {},
     "outputs": []
    },
    {
     "cell_type": "code",
     "collapsed": false,
     "input": [],
     "language": "python",
     "metadata": {},
     "outputs": []
    },
    {
     "cell_type": "code",
     "collapsed": false,
     "input": [],
     "language": "python",
     "metadata": {},
     "outputs": []
    },
    {
     "cell_type": "code",
     "collapsed": false,
     "input": [],
     "language": "python",
     "metadata": {},
     "outputs": []
    },
    {
     "cell_type": "code",
     "collapsed": false,
     "input": [
      "z = np.polyfit(both['Mean Ozone'], both['prevalence'], 1)\n",
      "p = np.poly1d(z)\n",
      "plt.scatter(both['Mean Ozone'], both['prevalence'])\n",
      "plt.plot(both['Mean Ozone'],p(both['Mean Ozone']),\"r--\")\n",
      "#plt.ylim(both['prevalence'].min(), both['prevalence'].max())\n",
      "#plt.xlim(both['Mean Ozone'].min(), both['Mean Ozone'].max())\n"
     ],
     "language": "python",
     "metadata": {},
     "outputs": []
    },
    {
     "cell_type": "code",
     "collapsed": false,
     "input": [
      "print 'r= '+str(both['Mean Ozone'].corr(both['prevalence']))"
     ],
     "language": "python",
     "metadata": {},
     "outputs": []
    },
    {
     "cell_type": "markdown",
     "metadata": {},
     "source": [
      "As we are dealing with atmosphere and not a physical law, this is pretty good.\n",
      "r should be higher once we use the data for 2007"
     ]
    },
    {
     "cell_type": "code",
     "collapsed": false,
     "input": [],
     "language": "python",
     "metadata": {},
     "outputs": []
    }
   ],
   "metadata": {}
  }
 ]
}