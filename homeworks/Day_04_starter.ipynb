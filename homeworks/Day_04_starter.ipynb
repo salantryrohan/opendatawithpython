{
 "metadata": {
  "name": "Day_04_starter"
 },
 "nbformat": 3,
 "nbformat_minor": 0,
 "worksheets": [
  {
   "cells": [
    {
     "cell_type": "heading",
     "level": 1,
     "metadata": {},
     "source": [
      "Warm up with sequences, lists"
     ]
    },
    {
     "cell_type": "heading",
     "level": 2,
     "metadata": {},
     "source": [
      "Warm-up exercise I:  verifying sum of integers calculated by (young) Gauss"
     ]
    },
    {
     "cell_type": "markdown",
     "metadata": {},
     "source": [
      "![C. F. Gauss](http://upload.wikimedia.org/wikipedia/commons/thumb/9/9b/Carl_Friedrich_Gauss.jpg/220px-Carl_Friedrich_Gauss.jpg)\n",
      "\n",
      "\n",
      "\n",
      "http://mathandmultimedia.com/2010/09/15/sum-first-n-positive-integers/\n",
      "\n",
      "\n",
      "\n",
      ">  Gauss displayed his genius at an early age. According to anecdotes, when he was in primary school, he was punished by his teacher due to misbehavior.  He was told to add the numbers from 1 to 100. He was able to compute its sum, which is 5050, in a matter of seconds.\n",
      "\n",
      "\n",
      "\n",
      ">  Now, how on earth did he do it?\n",
      "\n",
      "\n",
      "\n",
      "See also:\n",
      "\n",
      "\n",
      "\n",
      "* http://en.wikipedia.org/wiki/Carl_Friedrich_Gauss#Anecdotes\n",
      "\n",
      "* [The Gauss Christmath Special](http://youtu.be/sxnX5_LbBDU?t=4m52s) by [Vi Hart](http://en.wikipedia.org/wiki/Vi_Hart)\n",
      "\n",
      "\n",
      "\n",
      "**Let's verify this result in a number of ways.  Take some time now to write some code to add up 1 to 100.**\n",
      "\n",
      "\n",
      "\n",
      "Specifically:\n",
      "\n",
      "\n",
      "\n",
      "* make use of [range](http://docs.python.org/2/library/functions.html#range)\n",
      "\n",
      "* try [xrange](http://docs.python.org/2/library/functions.html#xrange)\n",
      "\n",
      "* try an explicit loop vs `sum`\n",
      "\n",
      "* bonus:  try [itertool.count](http://docs.python.org/2/library/itertools.html#itertools.count) and [itertool.islice](http://docs.python.org/2/library/itertools.html#itertools.islice) -- these functions are Python *iterators*. \n",
      "\n",
      "* See [Build a Basic Python Iterator](http://stackoverflow.com/a/24377/7782) and \n",
      "\n",
      "[The Python yield keyword explained](http://stackoverflow.com/questions/231767/the-python-yield-keyword-explained)\n",
      "\n",
      "\n",
      "\n",
      "\n",
      "\n",
      "**Beware:  in ipython w/ pylab mode, `sum` might be overwritten by numpy's sum -- use `__builtin__.sum` if you want http://docs.python.org/2/library/functions.html#sum as opposed to http://docs.scipy.org/doc/numpy/reference/generated/numpy.sum.html** \n"
     ]
    },
    {
     "cell_type": "code",
     "collapsed": false,
     "input": [
      "#FILL IN WITH YOUR CODE TO CALCULATE ANSWER OF 5050\n",
      "sum = 0\n",
      "for i in xrange(0,101):\n",
      "    sum = sum + i\n",
      "\n",
      "print sum\n",
      "\n",
      "\n",
      "\n",
      "\n"
     ],
     "language": "python",
     "metadata": {},
     "outputs": [
      {
       "output_type": "stream",
       "stream": "stdout",
       "text": [
        "5050\n"
       ]
      }
     ],
     "prompt_number": 50
    },
    {
     "cell_type": "markdown",
     "metadata": {},
     "source": [
      "Here's a forumla for a triangular number"
     ]
    },
    {
     "cell_type": "markdown",
     "metadata": {},
     "source": [
      "$T_n= \\sum_{k=1}^n k = 1+2+3+ \\dotsb +n = \\frac{n(n+1)}{2} = {n+1 \\choose 2}$"
     ]
    },
    {
     "cell_type": "code",
     "collapsed": false,
     "input": [
      "n = 100\n",
      "\n",
      "n*(n+1)/2"
     ],
     "language": "python",
     "metadata": {},
     "outputs": [
      {
       "output_type": "pyout",
       "prompt_number": 51,
       "text": [
        "5050"
       ]
      }
     ],
     "prompt_number": 51
    },
    {
     "cell_type": "markdown",
     "metadata": {},
     "source": [
      "The following is a hint for writing triangular"
     ]
    },
    {
     "cell_type": "code",
     "collapsed": false,
     "input": [
      "from itertools import islice \n",
      "\n",
      "\n",
      "\n",
      "def my_count(start,step):\n",
      "\n",
      "    n = start\n",
      "\n",
      "    while True:\n",
      "\n",
      "        yield n\n",
      "\n",
      "        n += step\n",
      "\n",
      "        \n",
      "\n",
      "__builtin__.sum(islice(my_count(0,1), 101L))"
     ],
     "language": "python",
     "metadata": {},
     "outputs": [
      {
       "output_type": "pyout",
       "prompt_number": 52,
       "text": [
        "5050"
       ]
      }
     ],
     "prompt_number": 52
    },
    {
     "cell_type": "heading",
     "level": 2,
     "metadata": {},
     "source": [
      "Bonus Exercise:  write an iterator for  triangular numbers"
     ]
    },
    {
     "cell_type": "code",
     "collapsed": false,
     "input": [
      "from itertools import islice\n",
      "\n",
      "\n",
      "\n",
      "def triangular():\n",
      "    n = 1\n",
      "    while True:\n",
      "        yield n*(n+1)/2\n",
      "        n += 1\n",
      "\n",
      "  \n",
      "\n",
      "print list(islice(triangular(),10))\n"
     ],
     "language": "python",
     "metadata": {},
     "outputs": [
      {
       "output_type": "stream",
       "stream": "stdout",
       "text": [
        "[1, 3, 6, 10, 15, 21, 28, 36, 45, 55]\n"
       ]
      }
     ],
     "prompt_number": 53
    },
    {
     "cell_type": "code",
     "collapsed": false,
     "input": [
      "# a check\n",
      "\n",
      "assert list(islice(triangular(), 5)) == [1, 3, 6, 10, 15]"
     ],
     "language": "python",
     "metadata": {},
     "outputs": [],
     "prompt_number": 54
    },
    {
     "cell_type": "code",
     "collapsed": false,
     "input": [
      "for i, n in enumerate(islice(triangular(), 10)):\n",
      "\n",
      "    print i+1, n\n",
      "\n"
     ],
     "language": "python",
     "metadata": {},
     "outputs": [
      {
       "output_type": "stream",
       "stream": "stdout",
       "text": [
        "1 1\n",
        "2 3\n",
        "3 6\n",
        "4 10\n",
        "5 15\n",
        "6 21\n",
        "7 28\n",
        "8 36\n",
        "9 45\n",
        "10 55\n"
       ]
      }
     ],
     "prompt_number": 55
    },
    {
     "cell_type": "code",
     "collapsed": false,
     "input": [
      "list(islice(triangular(), 100))[-1]"
     ],
     "language": "python",
     "metadata": {},
     "outputs": [
      {
       "output_type": "pyout",
       "prompt_number": 56,
       "text": [
        "5050"
       ]
      }
     ],
     "prompt_number": 56
    },
    {
     "cell_type": "code",
     "collapsed": false,
     "input": [
      "list(islice(triangular(),99,100))[0]"
     ],
     "language": "python",
     "metadata": {},
     "outputs": [
      {
       "output_type": "pyout",
       "prompt_number": 57,
       "text": [
        "5050"
       ]
      }
     ],
     "prompt_number": 57
    },
    {
     "cell_type": "heading",
     "level": 2,
     "metadata": {},
     "source": [
      "Warm Up Exercise II: Wheat and chessboard problem"
     ]
    },
    {
     "cell_type": "markdown",
     "metadata": {},
     "source": [
      "http://en.wikipedia.org/wiki/Wheat_and_chessboard_problem :\n",
      "\n",
      "\n",
      "\n",
      "> If a chessboard were to have wheat placed upon each square such that one grain were placed on the first square, two on the second, four on the third, and so on (doubling the number of grains on each subsequent square), how many grains of wheat would be on the chessboard at the finish?\n",
      "\n",
      "\n",
      "\n",
      "> The total number of grains equals 18,446,744,073,709,551,615, which is a much higher number than most people intuitively expect.\n",
      "\n",
      "\n",
      "\n",
      "* try using [pow](http://docs.python.org/2/library/functions.html#pow)"
     ]
    },
    {
     "cell_type": "code",
     "collapsed": false,
     "input": [
      "# Legend of the Chessboard YouTube video\n",
      "\n",
      "\n",
      "\n",
      "from IPython.display import YouTubeVideo\n",
      "\n",
      "YouTubeVideo('t3d0Y-JpRRg')"
     ],
     "language": "python",
     "metadata": {},
     "outputs": [
      {
       "html": [
        "\n",
        "            <iframe\n",
        "                width=\"400\"\n",
        "                height=\"300\"\n",
        "                src=\"http://www.youtube.com/embed/t3d0Y-JpRRg\"\n",
        "                frameborder=\"0\"\n",
        "                allowfullscreen\n",
        "            ></iframe>\n",
        "        "
       ],
       "output_type": "pyout",
       "prompt_number": 58,
       "text": [
        "<IPython.lib.display.YouTubeVideo at 0x594bd50>"
       ]
      }
     ],
     "prompt_number": 58
    },
    {
     "cell_type": "heading",
     "level": 2,
     "metadata": {},
     "source": [
      "Exercise:  verify answer: The total number of grains equals 18,446,744,073,709,551,615,"
     ]
    },
    {
     "cell_type": "code",
     "collapsed": false,
     "input": [
      "#FILL IN YOUR CODE\n",
      "\n",
      "\n",
      "from itertools import islice\n",
      "\n",
      "\n",
      "sum = 1L\n",
      "for x in xrange(2,65,1):\n",
      "    sum = sum + sum*2\n",
      "\n",
      "print sum\n",
      "\n",
      "\n",
      "\n"
     ],
     "language": "python",
     "metadata": {},
     "outputs": [
      {
       "output_type": "stream",
       "stream": "stdout",
       "text": [
        "1144561273430837494885949696427\n"
       ]
      }
     ],
     "prompt_number": 59
    },
    {
     "cell_type": "heading",
     "level": 1,
     "metadata": {},
     "source": [
      "Slicing/Indexing Review"
     ]
    },
    {
     "cell_type": "markdown",
     "metadata": {},
     "source": [
      "http://stackoverflow.com/a/509295/7782\n",
      "\n",
      "\n",
      "\n",
      "Use on any of the **sequence** types ([python docs on sequence types](http://docs.python.org/2/library/stdtypes.html#sequence-types-str-unicode-list-tuple-bytearray-buffer-xrange)):\n",
      "\n",
      "\n",
      "\n",
      "> There are seven sequence types: strings, Unicode strings, lists, tuples, bytearrays, buffers, and xrange objects.\n",
      "\n",
      "\n",
      "\n",
      "The use of square brackets are for accessing *slices* of sequence."
     ]
    },
    {
     "cell_type": "markdown",
     "metadata": {},
     "source": [
      "Let's remind ourselves of how to use slices\n",
      "\n",
      "\n",
      "\n",
      "* `s[i]`\n",
      "\n",
      "* `s[i:j]`\n",
      "\n",
      "* `s[i:j:k]`\n",
      "\n",
      "* meaning of negative indices\n",
      "\n",
      "* 0-base counting\n",
      "\n",
      "\n"
     ]
    },
    {
     "cell_type": "code",
     "collapsed": false,
     "input": [
      "m = range(10)\n",
      "\n",
      "m"
     ],
     "language": "python",
     "metadata": {},
     "outputs": [
      {
       "output_type": "pyout",
       "prompt_number": 60,
       "text": [
        "[0, 1, 2, 3, 4, 5, 6, 7, 8, 9]"
       ]
      }
     ],
     "prompt_number": 60
    },
    {
     "cell_type": "code",
     "collapsed": false,
     "input": [
      "m[0]"
     ],
     "language": "python",
     "metadata": {},
     "outputs": [
      {
       "output_type": "pyout",
       "prompt_number": 61,
       "text": [
        "0"
       ]
      }
     ],
     "prompt_number": 61
    },
    {
     "cell_type": "code",
     "collapsed": false,
     "input": [
      "m[-1]"
     ],
     "language": "python",
     "metadata": {},
     "outputs": [
      {
       "output_type": "pyout",
       "prompt_number": 62,
       "text": [
        "9"
       ]
      }
     ],
     "prompt_number": 62
    },
    {
     "cell_type": "code",
     "collapsed": false,
     "input": [
      "m[::-1]"
     ],
     "language": "python",
     "metadata": {},
     "outputs": [
      {
       "output_type": "pyout",
       "prompt_number": 63,
       "text": [
        "[9, 8, 7, 6, 5, 4, 3, 2, 1, 0]"
       ]
      }
     ],
     "prompt_number": 63
    },
    {
     "cell_type": "code",
     "collapsed": false,
     "input": [
      "m[2:3]"
     ],
     "language": "python",
     "metadata": {},
     "outputs": [
      {
       "output_type": "pyout",
       "prompt_number": 64,
       "text": [
        "[2]"
       ]
      }
     ],
     "prompt_number": 64
    },
    {
     "cell_type": "code",
     "collapsed": false,
     "input": [
      "import string\n",
      "\n",
      "alphabet = string.lowercase\n",
      "\n",
      "alphabet"
     ],
     "language": "python",
     "metadata": {},
     "outputs": [
      {
       "output_type": "pyout",
       "prompt_number": 65,
       "text": [
        "'abcdefghijklmnopqrstuvwxyz'"
       ]
      }
     ],
     "prompt_number": 65
    },
    {
     "cell_type": "code",
     "collapsed": false,
     "input": [
      "# 13 letter of the alphabet\n",
      "\n",
      "alphabet[12]"
     ],
     "language": "python",
     "metadata": {},
     "outputs": [
      {
       "output_type": "pyout",
       "prompt_number": 66,
       "text": [
        "'m'"
       ]
      }
     ],
     "prompt_number": 66
    },
    {
     "cell_type": "markdown",
     "metadata": {},
     "source": [
      "**We will revisit generalized slicing in NumPy.**"
     ]
    },
    {
     "cell_type": "heading",
     "level": 1,
     "metadata": {},
     "source": [
      " Import/naming conventions and pylab mode"
     ]
    },
    {
     "cell_type": "markdown",
     "metadata": {},
     "source": [
      "<http://my.safaribooksonline.com/book/programming/python/9781449323592/1dot-preliminaries/id2699702>\n",
      "\n",
      "\n",
      "\n",
      "    import numpy as np\n",
      "\n",
      "    import pandas as pd\n",
      "\n",
      "    import matplotlib.pyplot as plt\n",
      "\n",
      "    \n",
      "\n",
      "These imports done for you in `pylab` mode.\n",
      "\n",
      "\n",
      "\n",
      "## pylab mode\n",
      "\n",
      "\n",
      "\n",
      "    ipython --help\n",
      "\n",
      "    \n",
      "\n",
      "yields\n",
      "\n",
      "\n",
      "\n",
      "    --pylab=<CaselessStrEnum> (InteractiveShellApp.pylab)\n",
      "\n",
      "        Default: None\n",
      "\n",
      "        Choices: ['tk', 'qt', 'wx', 'gtk', 'osx', 'inline', 'auto']\n",
      "\n",
      "        Pre-load matplotlib and numpy for interactive use, selecting a particular\n",
      "\n",
      "        matplotlib backend and loop integration."
     ]
    },
    {
     "cell_type": "heading",
     "level": 1,
     "metadata": {},
     "source": [
      "NumPy"
     ]
    },
    {
     "cell_type": "markdown",
     "metadata": {},
     "source": [
      "<http://www.numpy.org/>:\n",
      "\n",
      "\n",
      "\n",
      "NumPy is the **fundamental package for scientific computing with Python**. It contains among other things:\n",
      "\n",
      "\n",
      "\n",
      "* a powerful N-dimensional array object [let's start with 1 and 2 dimensions]\n",
      "\n",
      "* sophisticated (**broadcasting**) functions [what is *broadcasting*?]\n",
      "\n",
      "* tools for integrating C/C++ and Fortran code [why useful?]\n",
      "\n",
      "* useful linear algebra, Fourier transform, and random number capabilities\n",
      "\n",
      "\n",
      "\n",
      "Besides its obvious scientific uses, NumPy can also be used as an efficient\n",
      "\n",
      "multi-dimensional container of **generic data**. **Arbitrary data-types** can be\n",
      "\n",
      "defined. This allows NumPy to seamlessly and speedily integrate with a wide\n",
      "\n",
      "variety of databases.\n",
      "\n",
      "\n",
      "\n",
      "See `PfDA`, Chapter 4\n"
     ]
    },
    {
     "cell_type": "heading",
     "level": 2,
     "metadata": {},
     "source": [
      "ndarray.ndim, ndarray.shape"
     ]
    },
    {
     "cell_type": "code",
     "collapsed": false,
     "input": [
      "# zero-dimensions\n",
      "import numpy\n",
      "\n",
      "\n",
      "a0 = array(5)\n",
      "\n",
      "a0"
     ],
     "language": "python",
     "metadata": {},
     "outputs": [
      {
       "output_type": "pyout",
       "prompt_number": 67,
       "text": [
        "array(5)"
       ]
      }
     ],
     "prompt_number": 67
    },
    {
     "cell_type": "markdown",
     "metadata": {},
     "source": [
      "use [shape](http://docs.scipy.org/doc/numpy/reference/generated/numpy.ndarray.shape.html) to get a tuple of array dimensions"
     ]
    },
    {
     "cell_type": "code",
     "collapsed": false,
     "input": [
      "a0.ndim, a0.shape"
     ],
     "language": "python",
     "metadata": {},
     "outputs": [
      {
       "output_type": "pyout",
       "prompt_number": 68,
       "text": [
        "(0, ())"
       ]
      }
     ],
     "prompt_number": 68
    },
    {
     "cell_type": "code",
     "collapsed": false,
     "input": [
      "# 1-d array\n",
      "\n",
      "a1 = array([1,2])\n",
      "\n",
      "a1.ndim, a1.shape"
     ],
     "language": "python",
     "metadata": {},
     "outputs": [
      {
       "output_type": "pyout",
       "prompt_number": 69,
       "text": [
        "(1, (2,))"
       ]
      }
     ],
     "prompt_number": 69
    },
    {
     "cell_type": "code",
     "collapsed": false,
     "input": [
      "# 2-d array\n",
      "\n",
      "\n",
      "\n",
      "a2 = array(([1,2], [3,4]))\n",
      "\n",
      "a2.ndim, a2.shape"
     ],
     "language": "python",
     "metadata": {},
     "outputs": [
      {
       "output_type": "pyout",
       "prompt_number": 70,
       "text": [
        "(2, (2, 2))"
       ]
      }
     ],
     "prompt_number": 70
    },
    {
     "cell_type": "heading",
     "level": 2,
     "metadata": {},
     "source": [
      "dtype:  type of given ndarray"
     ]
    },
    {
     "cell_type": "code",
     "collapsed": false,
     "input": [
      "a2.dtype"
     ],
     "language": "python",
     "metadata": {},
     "outputs": [
      {
       "output_type": "pyout",
       "prompt_number": 71,
       "text": [
        "dtype('int32')"
       ]
      }
     ],
     "prompt_number": 71
    },
    {
     "cell_type": "heading",
     "level": 2,
     "metadata": {},
     "source": [
      "np.arange"
     ]
    },
    {
     "cell_type": "markdown",
     "metadata": {},
     "source": [
      "[arange](http://docs.scipy.org/doc/numpy/reference/generated/numpy.arange.html#numpy.arange) is one instance of [`ndarray` creating function in NumPy](http://docs.scipy.org/doc/numpy/reference/routines.array-creation.html)\n",
      "\n",
      "\n",
      "\n",
      "Compare to `xrange`."
     ]
    },
    {
     "cell_type": "code",
     "collapsed": false,
     "input": [
      "type(arange(10))"
     ],
     "language": "python",
     "metadata": {},
     "outputs": [
      {
       "output_type": "pyout",
       "prompt_number": 72,
       "text": [
        "numpy.ndarray"
       ]
      }
     ],
     "prompt_number": 72
    },
    {
     "cell_type": "code",
     "collapsed": false,
     "input": [
      "for k in arange(10):\n",
      "\n",
      "    print k"
     ],
     "language": "python",
     "metadata": {},
     "outputs": [
      {
       "output_type": "stream",
       "stream": "stdout",
       "text": [
        "0\n",
        "1\n",
        "2\n",
        "3\n",
        "4\n",
        "5\n",
        "6\n",
        "7\n",
        "8\n",
        "9\n"
       ]
      }
     ],
     "prompt_number": 73
    },
    {
     "cell_type": "code",
     "collapsed": false,
     "input": [
      "list(arange(10)) == list(xrange(10))"
     ],
     "language": "python",
     "metadata": {},
     "outputs": [
      {
       "output_type": "pyout",
       "prompt_number": 74,
       "text": [
        "True"
       ]
      }
     ],
     "prompt_number": 74
    },
    {
     "cell_type": "heading",
     "level": 2,
     "metadata": {},
     "source": [
      "NumPy.ndarray.reshape"
     ]
    },
    {
     "cell_type": "code",
     "collapsed": false,
     "input": [
      "#how to map 0..63 -> 2x2 array\n",
      "\n",
      "a3 = np.arange(64).reshape(8,8)\n",
      "\n",
      "a3"
     ],
     "language": "python",
     "metadata": {},
     "outputs": [
      {
       "output_type": "pyout",
       "prompt_number": 75,
       "text": [
        "array([[ 0,  1,  2,  3,  4,  5,  6,  7],\n",
        "       [ 8,  9, 10, 11, 12, 13, 14, 15],\n",
        "       [16, 17, 18, 19, 20, 21, 22, 23],\n",
        "       [24, 25, 26, 27, 28, 29, 30, 31],\n",
        "       [32, 33, 34, 35, 36, 37, 38, 39],\n",
        "       [40, 41, 42, 43, 44, 45, 46, 47],\n",
        "       [48, 49, 50, 51, 52, 53, 54, 55],\n",
        "       [56, 57, 58, 59, 60, 61, 62, 63]])"
       ]
      }
     ],
     "prompt_number": 75
    },
    {
     "cell_type": "code",
     "collapsed": false,
     "input": [
      "a3[1,2]"
     ],
     "language": "python",
     "metadata": {},
     "outputs": [
      {
       "output_type": "pyout",
       "prompt_number": 76,
       "text": [
        "10"
       ]
      }
     ],
     "prompt_number": 76
    },
    {
     "cell_type": "code",
     "collapsed": false,
     "input": [
      "for i in range(8):\n",
      "\n",
      "    for j in range(8):\n",
      "\n",
      "        if a3[i,j] != i*8 + j:\n",
      "\n",
      "            print i, j"
     ],
     "language": "python",
     "metadata": {},
     "outputs": [],
     "prompt_number": 77
    },
    {
     "cell_type": "markdown",
     "metadata": {},
     "source": [
      "##scalar multiplication\n",
      "\n",
      "\n",
      "\n",
      "example of [broadcasting](http://docs.scipy.org/doc/numpy/user/basics.broadcasting.html):\n",
      "\n",
      "\n",
      "\n",
      "> The term broadcasting describes how numpy treats arrays with different shapes during arithmetic operations. Subject to certain constraints, the smaller array is \u201cbroadcast\u201d across the larger array so that they have compatible shapes. Broadcasting provides a means of vectorizing array operations so that looping occurs in C instead of Python. It does this without making needless copies of data and usually leads to efficient algorithm implementations. There are, however, cases where broadcasting is a bad idea because it leads to inefficient use of memory that slows computation."
     ]
    },
    {
     "cell_type": "code",
     "collapsed": false,
     "input": [
      "2*a3"
     ],
     "language": "python",
     "metadata": {},
     "outputs": [
      {
       "output_type": "pyout",
       "prompt_number": 78,
       "text": [
        "array([[  0,   2,   4,   6,   8,  10,  12,  14],\n",
        "       [ 16,  18,  20,  22,  24,  26,  28,  30],\n",
        "       [ 32,  34,  36,  38,  40,  42,  44,  46],\n",
        "       [ 48,  50,  52,  54,  56,  58,  60,  62],\n",
        "       [ 64,  66,  68,  70,  72,  74,  76,  78],\n",
        "       [ 80,  82,  84,  86,  88,  90,  92,  94],\n",
        "       [ 96,  98, 100, 102, 104, 106, 108, 110],\n",
        "       [112, 114, 116, 118, 120, 122, 124, 126]])"
       ]
      }
     ],
     "prompt_number": 78
    },
    {
     "cell_type": "heading",
     "level": 2,
     "metadata": {},
     "source": [
      "add 2 to all elements in a3"
     ]
    },
    {
     "cell_type": "code",
     "collapsed": false,
     "input": [
      "a3+2"
     ],
     "language": "python",
     "metadata": {},
     "outputs": [
      {
       "output_type": "pyout",
       "prompt_number": 79,
       "text": [
        "array([[ 2,  3,  4,  5,  6,  7,  8,  9],\n",
        "       [10, 11, 12, 13, 14, 15, 16, 17],\n",
        "       [18, 19, 20, 21, 22, 23, 24, 25],\n",
        "       [26, 27, 28, 29, 30, 31, 32, 33],\n",
        "       [34, 35, 36, 37, 38, 39, 40, 41],\n",
        "       [42, 43, 44, 45, 46, 47, 48, 49],\n",
        "       [50, 51, 52, 53, 54, 55, 56, 57],\n",
        "       [58, 59, 60, 61, 62, 63, 64, 65]])"
       ]
      }
     ],
     "prompt_number": 79
    },
    {
     "cell_type": "heading",
     "level": 2,
     "metadata": {},
     "source": [
      "sorting"
     ]
    },
    {
     "cell_type": "code",
     "collapsed": false,
     "input": [
      "# reverse sort -- best way?\n",
      "\n",
      "#http://stackoverflow.com/a/6771620/7782\n",
      "\n",
      "\n",
      "np.sort(arange(100))[::-1]"
     ],
     "language": "python",
     "metadata": {},
     "outputs": [
      {
       "output_type": "pyout",
       "prompt_number": 80,
       "text": [
        "array([99, 98, 97, 96, 95, 94, 93, 92, 91, 90, 89, 88, 87, 86, 85, 84, 83,\n",
        "       82, 81, 80, 79, 78, 77, 76, 75, 74, 73, 72, 71, 70, 69, 68, 67, 66,\n",
        "       65, 64, 63, 62, 61, 60, 59, 58, 57, 56, 55, 54, 53, 52, 51, 50, 49,\n",
        "       48, 47, 46, 45, 44, 43, 42, 41, 40, 39, 38, 37, 36, 35, 34, 33, 32,\n",
        "       31, 30, 29, 28, 27, 26, 25, 24, 23, 22, 21, 20, 19, 18, 17, 16, 15,\n",
        "       14, 13, 12, 11, 10,  9,  8,  7,  6,  5,  4,  3,  2,  1,  0])"
       ]
      }
     ],
     "prompt_number": 80
    },
    {
     "cell_type": "heading",
     "level": 2,
     "metadata": {},
     "source": [
      "Boolean slice:  important novel type of slicing"
     ]
    },
    {
     "cell_type": "markdown",
     "metadata": {},
     "source": [
      "**This stuff is a bit tricky** (see PfDA, pp. 89-92)\n",
      "\n",
      "\n",
      "\n",
      "Consider example of picking out whole numbers less than 20 that are evenly divisible by 3.  Generate a list of such numbers"
     ]
    },
    {
     "cell_type": "code",
     "collapsed": false,
     "input": [
      "# list comprehension\n",
      "\n",
      "\n",
      "\n",
      "[i for i in range(20) if i % 3 == 0]"
     ],
     "language": "python",
     "metadata": {},
     "outputs": [
      {
       "output_type": "pyout",
       "prompt_number": 81,
       "text": [
        "[0, 3, 6, 9, 12, 15, 18]"
       ]
      }
     ],
     "prompt_number": 81
    },
    {
     "cell_type": "code",
     "collapsed": false,
     "input": [
      "a3 = arange(20) \n",
      "\n",
      "a3"
     ],
     "language": "python",
     "metadata": {},
     "outputs": [
      {
       "output_type": "pyout",
       "prompt_number": 82,
       "text": [
        "array([ 0,  1,  2,  3,  4,  5,  6,  7,  8,  9, 10, 11, 12, 13, 14, 15, 16,\n",
        "       17, 18, 19])"
       ]
      }
     ],
     "prompt_number": 82
    },
    {
     "cell_type": "code",
     "collapsed": false,
     "input": [
      "# basic indexing\n",
      "\n",
      "\n",
      "\n",
      "print a3[0]\n",
      "\n",
      "print a3[::-1]\n",
      "\n",
      "print a3[2:5]"
     ],
     "language": "python",
     "metadata": {},
     "outputs": [
      {
       "output_type": "stream",
       "stream": "stdout",
       "text": [
        "0\n",
        "[19 18 17 16 15 14 13 12 11 10  9  8  7  6  5  4  3  2  1  0]\n",
        "[2 3 4]\n"
       ]
      }
     ],
     "prompt_number": 83
    },
    {
     "cell_type": "code",
     "collapsed": false,
     "input": [
      "np.mod(a3, 3)"
     ],
     "language": "python",
     "metadata": {},
     "outputs": [
      {
       "output_type": "pyout",
       "prompt_number": 84,
       "text": [
        "array([0, 1, 2, 0, 1, 2, 0, 1, 2, 0, 1, 2, 0, 1, 2, 0, 1, 2, 0, 1])"
       ]
      }
     ],
     "prompt_number": 84
    },
    {
     "cell_type": "code",
     "collapsed": false,
     "input": [
      "np.mod(a3, 3) == 0"
     ],
     "language": "python",
     "metadata": {},
     "outputs": [
      {
       "output_type": "pyout",
       "prompt_number": 85,
       "text": [
        "array([ True, False, False,  True, False, False,  True, False, False,\n",
        "        True, False, False,  True, False, False,  True, False, False,\n",
        "        True, False], dtype=bool)"
       ]
      }
     ],
     "prompt_number": 85
    },
    {
     "cell_type": "code",
     "collapsed": false,
     "input": [
      "divisible_by_3 = np.mod(a3, 3) == 0"
     ],
     "language": "python",
     "metadata": {},
     "outputs": [],
     "prompt_number": 86
    },
    {
     "cell_type": "code",
     "collapsed": false,
     "input": [
      "a3[divisible_by_3]"
     ],
     "language": "python",
     "metadata": {},
     "outputs": [
      {
       "output_type": "pyout",
       "prompt_number": 87,
       "text": [
        "array([ 0,  3,  6,  9, 12, 15, 18])"
       ]
      }
     ],
     "prompt_number": 87
    },
    {
     "cell_type": "code",
     "collapsed": false,
     "input": [
      "# if you want to understand this in terms of the overloaded operators -- don't worry if you don't get this.\n",
      "\n",
      "a3.__getitem__(np.mod(a3,3).__eq__(0))"
     ],
     "language": "python",
     "metadata": {},
     "outputs": [
      {
       "output_type": "pyout",
       "prompt_number": 88,
       "text": [
        "array([ 0,  3,  6,  9, 12, 15, 18])"
       ]
      }
     ],
     "prompt_number": 88
    },
    {
     "cell_type": "heading",
     "level": 2,
     "metadata": {},
     "source": [
      "Exercise:  Calculate a series that holds all the squares less than 100"
     ]
    },
    {
     "cell_type": "markdown",
     "metadata": {},
     "source": [
      "Hint:  one way is to use arange, np.sqrt, [astype](http://docs.scipy.org/doc/numpy/reference/generated/numpy.ndarray.astype.html)\n",
      "\n",
      "\n",
      "\n",
      "Answer should be:\n",
      "\n",
      "\n",
      "\n",
      "    array([ 0,  1,  4,  9, 16, 25, 36, 49, 64, 81])"
     ]
    },
    {
     "cell_type": "code",
     "collapsed": false,
     "input": [
      "#FILL IN\n",
      "\n",
      "x = [x for x in range(10)] \n",
      "\n",
      "y  = np.asarray(x)\n",
      "\n",
      "print y\n",
      "\n",
      "\n",
      "\n",
      "\n",
      "# np.arange(64).reshape(8,8)\n",
      "\n",
      "\n",
      "\n"
     ],
     "language": "python",
     "metadata": {},
     "outputs": [
      {
       "output_type": "stream",
       "stream": "stdout",
       "text": [
        "[0 1 2 3 4 5 6 7 8 9]\n"
       ]
      }
     ],
     "prompt_number": 89
    },
    {
     "cell_type": "heading",
     "level": 2,
     "metadata": {},
     "source": [
      "We will come back to indexing later."
     ]
    },
    {
     "cell_type": "markdown",
     "metadata": {},
     "source": [
      "http://docs.scipy.org/doc/numpy/reference/arrays.indexing.html"
     ]
    },
    {
     "cell_type": "heading",
     "level": 1,
     "metadata": {},
     "source": [
      "Pandas"
     ]
    },
    {
     "cell_type": "heading",
     "level": 2,
     "metadata": {},
     "source": [
      "pandas.Series"
     ]
    },
    {
     "cell_type": "markdown",
     "metadata": {},
     "source": [
      "Make a series out of an array"
     ]
    },
    {
     "cell_type": "code",
     "collapsed": false,
     "input": [
      "from pandas import Series \n",
      "s1 = Series(arange(5))"
     ],
     "language": "python",
     "metadata": {},
     "outputs": [],
     "prompt_number": 90
    },
    {
     "cell_type": "markdown",
     "metadata": {},
     "source": [
      "  confirm that the type of s1 is  what you would expect"
     ]
    },
    {
     "cell_type": "code",
     "collapsed": false,
     "input": [
      "type(s1)"
     ],
     "language": "python",
     "metadata": {},
     "outputs": [
      {
       "output_type": "pyout",
       "prompt_number": 91,
       "text": [
        "pandas.core.series.Series"
       ]
      }
     ],
     "prompt_number": 91
    },
    {
     "cell_type": "markdown",
     "metadata": {},
     "source": [
      "show that the series is also an array"
     ]
    },
    {
     "cell_type": "code",
     "collapsed": false,
     "input": [
      "s1.ndim, isinstance(s1, np.ndarray)"
     ],
     "language": "python",
     "metadata": {},
     "outputs": [
      {
       "output_type": "pyout",
       "prompt_number": 92,
       "text": [
        "(1, True)"
       ]
      }
     ],
     "prompt_number": 92
    },
    {
     "cell_type": "code",
     "collapsed": false,
     "input": [
      "s1.index"
     ],
     "language": "python",
     "metadata": {},
     "outputs": [
      {
       "output_type": "pyout",
       "prompt_number": 93,
       "text": [
        "Int64Index([0, 1, 2, 3, 4], dtype=int64)"
       ]
      }
     ],
     "prompt_number": 93
    },
    {
     "cell_type": "code",
     "collapsed": false,
     "input": [
      "import string\n",
      "\n",
      "allTheLetters = string.lowercase\n",
      "\n",
      "allTheLetters"
     ],
     "language": "python",
     "metadata": {},
     "outputs": [
      {
       "output_type": "pyout",
       "prompt_number": 94,
       "text": [
        "'abcdefghijklmnopqrstuvwxyz'"
       ]
      }
     ],
     "prompt_number": 94
    },
    {
     "cell_type": "code",
     "collapsed": false,
     "input": [
      "s2 = Series(data=arange(5), index=list(allTheLetters)[:5])\n",
      "\n",
      "s2"
     ],
     "language": "python",
     "metadata": {},
     "outputs": [
      {
       "output_type": "pyout",
       "prompt_number": 95,
       "text": [
        "a    0\n",
        "b    1\n",
        "c    2\n",
        "d    3\n",
        "e    4"
       ]
      }
     ],
     "prompt_number": 95
    },
    {
     "cell_type": "code",
     "collapsed": false,
     "input": [
      "s2.index"
     ],
     "language": "python",
     "metadata": {},
     "outputs": [
      {
       "output_type": "pyout",
       "prompt_number": 96,
       "text": [
        "Index([a, b, c, d, e], dtype=object)"
       ]
      }
     ],
     "prompt_number": 96
    },
    {
     "cell_type": "markdown",
     "metadata": {},
     "source": [
      "http://my.safaribooksonline.com/book/programming/python/9781449323592/5dot-getting-started-with-pandas/id2828378 :\n",
      "\n",
      "\n",
      "\n",
      "> Compared with a regular NumPy array, you can use values in the index when selecting single values or a set of values"
     ]
    },
    {
     "cell_type": "code",
     "collapsed": false,
     "input": [
      "# can use both numeric indexing and the labels\n",
      "\n",
      "s2[0], s2['a']"
     ],
     "language": "python",
     "metadata": {},
     "outputs": [
      {
       "output_type": "pyout",
       "prompt_number": 97,
       "text": [
        "(0, 0)"
       ]
      }
     ],
     "prompt_number": 97
    },
    {
     "cell_type": "code",
     "collapsed": false,
     "input": [
      "for i in range(len(s2)):\n",
      "\n",
      "    print i, s2[i]"
     ],
     "language": "python",
     "metadata": {},
     "outputs": [
      {
       "output_type": "stream",
       "stream": "stdout",
       "text": [
        "0 0\n",
        "1 1\n",
        "2 2\n",
        "3 3\n",
        "4 4\n"
       ]
      }
     ],
     "prompt_number": 98
    },
    {
     "cell_type": "markdown",
     "metadata": {},
     "source": [
      "it is possible conflict in indexing -- consider"
     ]
    },
    {
     "cell_type": "code",
     "collapsed": false,
     "input": [
      "s3 = Series(data=['albert', 'betty', 'cathy'], index=[3,1, 0])\n",
      "\n",
      "s3"
     ],
     "language": "python",
     "metadata": {},
     "outputs": [
      {
       "output_type": "pyout",
       "prompt_number": 99,
       "text": [
        "3    albert\n",
        "1     betty\n",
        "0     cathy"
       ]
      }
     ],
     "prompt_number": 99
    },
    {
     "cell_type": "code",
     "collapsed": false,
     "input": [
      "s3[0], list(s3)[0]"
     ],
     "language": "python",
     "metadata": {},
     "outputs": [
      {
       "output_type": "pyout",
       "prompt_number": 100,
       "text": [
        "('cathy', 'albert')"
       ]
      }
     ],
     "prompt_number": 100
    },
    {
     "cell_type": "markdown",
     "metadata": {},
     "source": [
      "but slicing works to return specific numeric index"
     ]
    },
    {
     "cell_type": "code",
     "collapsed": false,
     "input": [
      "s3[::-1]"
     ],
     "language": "python",
     "metadata": {},
     "outputs": [
      {
       "output_type": "pyout",
       "prompt_number": 101,
       "text": [
        "0     cathy\n",
        "1     betty\n",
        "3    albert"
       ]
      }
     ],
     "prompt_number": 101
    },
    {
     "cell_type": "code",
     "collapsed": false,
     "input": [
      "for i in range(len(s3)):\n",
      "\n",
      "    print i, s3[i:i+1]"
     ],
     "language": "python",
     "metadata": {},
     "outputs": [
      {
       "output_type": "stream",
       "stream": "stdout",
       "text": [
        "0 3    albert\n",
        "1 1    betty\n",
        "2 0    cathy\n"
       ]
      }
     ],
     "prompt_number": 102
    },
    {
     "cell_type": "code",
     "collapsed": false,
     "input": [
      "s3.name = 'person names'\n",
      "\n",
      "s3.name"
     ],
     "language": "python",
     "metadata": {},
     "outputs": [
      {
       "output_type": "pyout",
       "prompt_number": 103,
       "text": [
        "'person names'"
       ]
      }
     ],
     "prompt_number": 103
    },
    {
     "cell_type": "code",
     "collapsed": false,
     "input": [
      "s3.index.name = 'confounding label'\n",
      "\n",
      "s3.index.name"
     ],
     "language": "python",
     "metadata": {},
     "outputs": [
      {
       "output_type": "pyout",
       "prompt_number": 104,
       "text": [
        "'confounding label'"
       ]
      }
     ],
     "prompt_number": 104
    },
    {
     "cell_type": "code",
     "collapsed": false,
     "input": [
      "s3"
     ],
     "language": "python",
     "metadata": {},
     "outputs": [
      {
       "output_type": "pyout",
       "prompt_number": 105,
       "text": [
        "confounding label\n",
        "3                    albert\n",
        "1                     betty\n",
        "0                     cathy\n",
        "Name: person names"
       ]
      }
     ],
     "prompt_number": 105
    },
    {
     "cell_type": "markdown",
     "metadata": {},
     "source": [
      "Important points remaining:\n",
      "\n",
      "\n",
      "\n",
      "* \"NumPy array operations, such as filtering with a boolean array, scalar multiplication, or applying math functions, will preserve the index-value link\"\n",
      "\n",
      "* \"Another way to think about a Series is as a fixed-length, ordered dict, as it is a mapping of index values to data values. It can be substituted into many functions that expect a dict\""
     ]
    },
    {
     "cell_type": "heading",
     "level": 2,
     "metadata": {},
     "source": [
      "Gauss & Chess revisited, using Series"
     ]
    },
    {
     "cell_type": "markdown",
     "metadata": {},
     "source": [
      "You get some nice `matplotlib` integration via pandas"
     ]
    },
    {
     "cell_type": "code",
     "collapsed": false,
     "input": [
      "# Gauss addition using np.arange, Series \n",
      "\n",
      "\n",
      "\n",
      "from pandas import Series\n",
      "\n",
      "Series(arange(101).cumsum()).plot()"
     ],
     "language": "python",
     "metadata": {},
     "outputs": [
      {
       "output_type": "pyout",
       "prompt_number": 106,
       "text": [
        "<matplotlib.axes.AxesSubplot at 0x588d110>"
       ]
      },
      {
       "output_type": "display_data",
       "png": "[encoded data removed]"
      }
     ],
     "prompt_number": 106
    },
    {
     "cell_type": "code",
     "collapsed": false,
     "input": [
      "from pandas import Series\n",
      "\n",
      "Series((pow(2,k) for k in xrange(64)), dtype=np.float64).cumsum().plot()"
     ],
     "language": "python",
     "metadata": {},
     "outputs": [
      {
       "output_type": "pyout",
       "prompt_number": 107,
       "text": [
        "<matplotlib.axes.AxesSubplot at 0x59938b0>"
       ]
      },
      {
       "output_type": "display_data",
       "png": "[encoded data removed]"
      }
     ],
     "prompt_number": 107
    },
    {
     "cell_type": "heading",
     "level": 2,
     "metadata": {},
     "source": [
      "Wheat and Chessboard w/ NumPy"
     ]
    },
    {
     "cell_type": "markdown",
     "metadata": {},
     "source": [
      "http://docs.scipy.org/doc/numpy/reference/ufuncs.html"
     ]
    },
    {
     "cell_type": "code",
     "collapsed": false,
     "input": [
      "2*ones(64, dtype=np.int)"
     ],
     "language": "python",
     "metadata": {},
     "outputs": [
      {
       "output_type": "pyout",
       "prompt_number": 108,
       "text": [
        "array([2, 2, 2, 2, 2, 2, 2, 2, 2, 2, 2, 2, 2, 2, 2, 2, 2, 2, 2, 2, 2, 2, 2,\n",
        "       2, 2, 2, 2, 2, 2, 2, 2, 2, 2, 2, 2, 2, 2, 2, 2, 2, 2, 2, 2, 2, 2, 2,\n",
        "       2, 2, 2, 2, 2, 2, 2, 2, 2, 2, 2, 2, 2, 2, 2, 2, 2, 2])"
       ]
      }
     ],
     "prompt_number": 108
    },
    {
     "cell_type": "code",
     "collapsed": false,
     "input": [
      "arange(64)"
     ],
     "language": "python",
     "metadata": {},
     "outputs": [
      {
       "output_type": "pyout",
       "prompt_number": 109,
       "text": [
        "array([ 0,  1,  2,  3,  4,  5,  6,  7,  8,  9, 10, 11, 12, 13, 14, 15, 16,\n",
        "       17, 18, 19, 20, 21, 22, 23, 24, 25, 26, 27, 28, 29, 30, 31, 32, 33,\n",
        "       34, 35, 36, 37, 38, 39, 40, 41, 42, 43, 44, 45, 46, 47, 48, 49, 50,\n",
        "       51, 52, 53, 54, 55, 56, 57, 58, 59, 60, 61, 62, 63])"
       ]
      }
     ],
     "prompt_number": 109
    },
    {
     "cell_type": "code",
     "collapsed": false,
     "input": [
      "sum(np.power(2, arange(64, dtype=np.uint64)))"
     ],
     "language": "python",
     "metadata": {},
     "outputs": [
      {
       "ename": "TypeError",
       "evalue": "'long' object is not callable",
       "output_type": "pyerr",
       "traceback": [
        "\u001b[1;31m---------------------------------------------------------------------------\u001b[0m\n\u001b[1;31mTypeError\u001b[0m                                 Traceback (most recent call last)",
        "\u001b[1;32m<ipython-input-110-38ac4bab3999>\u001b[0m in \u001b[0;36m<module>\u001b[1;34m()\u001b[0m\n\u001b[1;32m----> 1\u001b[1;33m \u001b[0msum\u001b[0m\u001b[1;33m(\u001b[0m\u001b[0mnp\u001b[0m\u001b[1;33m.\u001b[0m\u001b[0mpower\u001b[0m\u001b[1;33m(\u001b[0m\u001b[1;36m2\u001b[0m\u001b[1;33m,\u001b[0m \u001b[0marange\u001b[0m\u001b[1;33m(\u001b[0m\u001b[1;36m64\u001b[0m\u001b[1;33m,\u001b[0m \u001b[0mdtype\u001b[0m\u001b[1;33m=\u001b[0m\u001b[0mnp\u001b[0m\u001b[1;33m.\u001b[0m\u001b[0muint64\u001b[0m\u001b[1;33m)\u001b[0m\u001b[1;33m)\u001b[0m\u001b[1;33m)\u001b[0m\u001b[1;33m\u001b[0m\u001b[0m\n\u001b[0m",
        "\u001b[1;31mTypeError\u001b[0m: 'long' object is not callable"
       ]
      }
     ],
     "prompt_number": 110
    },
    {
     "cell_type": "code",
     "collapsed": false,
     "input": [
      "sum(np.power(2*ones(64, dtype=np.uint64), arange(64))) "
     ],
     "language": "python",
     "metadata": {},
     "outputs": [
      {
       "ename": "TypeError",
       "evalue": "'long' object is not callable",
       "output_type": "pyerr",
       "traceback": [
        "\u001b[1;31m---------------------------------------------------------------------------\u001b[0m\n\u001b[1;31mTypeError\u001b[0m                                 Traceback (most recent call last)",
        "\u001b[1;32m<ipython-input-111-fae603e0f7ee>\u001b[0m in \u001b[0;36m<module>\u001b[1;34m()\u001b[0m\n\u001b[1;32m----> 1\u001b[1;33m \u001b[0msum\u001b[0m\u001b[1;33m(\u001b[0m\u001b[0mnp\u001b[0m\u001b[1;33m.\u001b[0m\u001b[0mpower\u001b[0m\u001b[1;33m(\u001b[0m\u001b[1;36m2\u001b[0m\u001b[1;33m*\u001b[0m\u001b[0mones\u001b[0m\u001b[1;33m(\u001b[0m\u001b[1;36m64\u001b[0m\u001b[1;33m,\u001b[0m \u001b[0mdtype\u001b[0m\u001b[1;33m=\u001b[0m\u001b[0mnp\u001b[0m\u001b[1;33m.\u001b[0m\u001b[0muint64\u001b[0m\u001b[1;33m)\u001b[0m\u001b[1;33m,\u001b[0m \u001b[0marange\u001b[0m\u001b[1;33m(\u001b[0m\u001b[1;36m64\u001b[0m\u001b[1;33m)\u001b[0m\u001b[1;33m)\u001b[0m\u001b[1;33m)\u001b[0m\u001b[1;33m\u001b[0m\u001b[0m\n\u001b[0m",
        "\u001b[1;31mTypeError\u001b[0m: 'long' object is not callable"
       ]
      }
     ],
     "prompt_number": 111
    },
    {
     "cell_type": "code",
     "collapsed": false,
     "input": [
      "precise_ans = sum([pow(2,n) for n in xrange(64)])\n",
      "\n",
      "np_ans = sum(np.power(2*ones(64, dtype=np.uint64), arange(64)))\n",
      "\n",
      "\n",
      "\n",
      "precise_ans, np_ans\n",
      "\n",
      "\n"
     ],
     "language": "python",
     "metadata": {},
     "outputs": []
    },
    {
     "cell_type": "code",
     "collapsed": false,
     "input": [
      "# Raise an assertion if two items are not equal up to desired precision.\n",
      "\n",
      "np.testing.assert_almost_equal(precise_ans, np_ans) is None"
     ],
     "language": "python",
     "metadata": {},
     "outputs": [
      {
       "ename": "NameError",
       "evalue": "name 'precise_ans' is not defined",
       "output_type": "pyerr",
       "traceback": [
        "\u001b[1;31m---------------------------------------------------------------------------\u001b[0m\n\u001b[1;31mNameError\u001b[0m                                 Traceback (most recent call last)",
        "\u001b[1;32m<ipython-input-112-c6e671647efb>\u001b[0m in \u001b[0;36m<module>\u001b[1;34m()\u001b[0m\n\u001b[0;32m      1\u001b[0m \u001b[1;31m# Raise an assertion if two items are not equal up to desired precision.\u001b[0m\u001b[1;33m\u001b[0m\u001b[1;33m\u001b[0m\u001b[0m\n\u001b[0;32m      2\u001b[0m \u001b[1;33m\u001b[0m\u001b[0m\n\u001b[1;32m----> 3\u001b[1;33m \u001b[0mnp\u001b[0m\u001b[1;33m.\u001b[0m\u001b[0mtesting\u001b[0m\u001b[1;33m.\u001b[0m\u001b[0massert_almost_equal\u001b[0m\u001b[1;33m(\u001b[0m\u001b[0mprecise_ans\u001b[0m\u001b[1;33m,\u001b[0m \u001b[0mnp_ans\u001b[0m\u001b[1;33m)\u001b[0m \u001b[1;32mis\u001b[0m \u001b[0mNone\u001b[0m\u001b[1;33m\u001b[0m\u001b[0m\n\u001b[0m",
        "\u001b[1;31mNameError\u001b[0m: name 'precise_ans' is not defined"
       ]
      }
     ],
     "prompt_number": 112
    },
    {
     "cell_type": "heading",
     "level": 1,
     "metadata": {},
     "source": [
      "File Dependency Check for Census calculation"
     ]
    },
    {
     "cell_type": "markdown",
     "metadata": {},
     "source": [
      "Here we check to make sure that the expected files are in place.\n",
      "\n",
      "\n",
      "\n",
      "This notebook assumes relative location of files as laid out in https://github.com/rdhyee/working-open-data\n",
      "\n",
      "\n"
     ]
    },
    {
     "cell_type": "code",
     "collapsed": false,
     "input": [
      "import os\n",
      "\n",
      "\n",
      "\n",
      "# relative to parent dir\n",
      "\n",
      "DATA_FILES = {\"datadict\":\"DataDict.txt\",\n",
      "\n",
      "               \"dataset\":\"DataSet.txt\",\n",
      "\n",
      "               \"fips\": \"FIPS_CountyName.txt\"}\n",
      "\n",
      "\n",
      "\n",
      "def file_path(key):\n",
      "\n",
      "    return os.path.join(os.curdir, DATA_FILES[key]) # changed pardir to curdir\n",
      "\n",
      "\n",
      "\n",
      "for file_key in DATA_FILES.keys():\n",
      "    \n",
      "    abs_fname = file_path(file_key)\n",
      "\n",
      "\n",
      "    print abs_fname, os.path.exists(abs_fname)\n",
      "\n",
      "    "
     ],
     "language": "python",
     "metadata": {},
     "outputs": [
      {
       "output_type": "stream",
       "stream": "stdout",
       "text": [
        ".\\DataDict.txt True\n",
        ".\\FIPS_CountyName.txt True\n",
        ".\\DataSet.txt True\n"
       ]
      }
     ],
     "prompt_number": 113
    },
    {
     "cell_type": "markdown",
     "metadata": {},
     "source": [
      " You can download git repo as zip file if you are having problems with github\n",
      "\n",
      "\n",
      "\n",
      "<img src=\"https://raw.github.com/rdhyee/working-open-data/master/lectures/images/download_repo_as_zip.jpg\" />"
     ]
    },
    {
     "cell_type": "heading",
     "level": 1,
     "metadata": {},
     "source": [
      "Let's do the pandas related imports"
     ]
    },
    {
     "cell_type": "code",
     "collapsed": false,
     "input": [
      "import pandas as pd\n",
      "\n",
      "from pandas import Series, DataFrame"
     ],
     "language": "python",
     "metadata": {},
     "outputs": [],
     "prompt_number": 114
    },
    {
     "cell_type": "heading",
     "level": 1,
     "metadata": {},
     "source": [
      "Getting more out of iPython notebook"
     ]
    },
    {
     "cell_type": "markdown",
     "metadata": {},
     "source": [
      "*PfDA*, p. 55 -- Table 3-2\n",
      "\n",
      "\n",
      "\n",
      "http://my.safaribooksonline.com/book/programming/python/9781449323592/3dot-ipython-an-interactive-computing-and-development-environment/id2774782#ipython_magic_table"
     ]
    },
    {
     "cell_type": "heading",
     "level": 1,
     "metadata": {},
     "source": [
      "Census Quickfacts"
     ]
    },
    {
     "cell_type": "code",
     "collapsed": false,
     "input": [
      "# use head on Mac/linuc to look at file\n",
      "\n",
      "\n",
      "\n",
      "fips_path = file_path(\"fips\")\n",
      "\n",
      "!head $fips_path"
     ],
     "language": "python",
     "metadata": {},
     "outputs": [
      {
       "output_type": "stream",
       "stream": "stderr",
       "text": [
        "'head' is not recognized as an internal or external command,\n",
        "operable program or batch file.\n"
       ]
      }
     ],
     "prompt_number": 115
    },
    {
     "cell_type": "heading",
     "level": 2,
     "metadata": {},
     "source": [
      "trying out by hand the construction of a simple DataFrame to see what loading a list of dict into DataFrame gets us"
     ]
    },
    {
     "cell_type": "code",
     "collapsed": false,
     "input": [
      "df1 = DataFrame([{'fips':'00000', 'geog_entity':'UNITED STATES'}, \n",
      "\n",
      "              {'fips':'01000', 'geog_entity':'ALABAMA'},\n",
      "\n",
      "              ])\n",
      "\n",
      "df1"
     ],
     "language": "python",
     "metadata": {},
     "outputs": [
      {
       "html": [
        "<div style=\"max-height:1000px;max-width:1500px;overflow:auto;\">\n",
        "<table border=\"1\" class=\"dataframe\">\n",
        "  <thead>\n",
        "    <tr style=\"text-align: right;\">\n",
        "      <th></th>\n",
        "      <th>fips</th>\n",
        "      <th>geog_entity</th>\n",
        "    </tr>\n",
        "  </thead>\n",
        "  <tbody>\n",
        "    <tr>\n",
        "      <th>0</th>\n",
        "      <td> 00000</td>\n",
        "      <td> UNITED STATES</td>\n",
        "    </tr>\n",
        "    <tr>\n",
        "      <th>1</th>\n",
        "      <td> 01000</td>\n",
        "      <td>       ALABAMA</td>\n",
        "    </tr>\n",
        "  </tbody>\n",
        "</table>\n",
        "</div>"
       ],
       "output_type": "pyout",
       "prompt_number": 116,
       "text": [
        "    fips    geog_entity\n",
        "0  00000  UNITED STATES\n",
        "1  01000        ALABAMA"
       ]
      }
     ],
     "prompt_number": 116
    },
    {
     "cell_type": "code",
     "collapsed": false,
     "input": [
      "# check type of df1\n",
      "\n",
      "type(df1)"
     ],
     "language": "python",
     "metadata": {},
     "outputs": [
      {
       "output_type": "pyout",
       "prompt_number": 117,
       "text": [
        "pandas.core.frame.DataFrame"
       ]
      }
     ],
     "prompt_number": 117
    },
    {
     "cell_type": "code",
     "collapsed": false,
     "input": [
      "# column headings\n",
      "\n",
      "\n",
      "\n",
      "df1.columns"
     ],
     "language": "python",
     "metadata": {},
     "outputs": [
      {
       "output_type": "pyout",
       "prompt_number": 118,
       "text": [
        "Index([fips, geog_entity], dtype=object)"
       ]
      }
     ],
     "prompt_number": 118
    },
    {
     "cell_type": "code",
     "collapsed": false,
     "input": [
      "# index -- ascribed automatically since we didn't explicitly specify labels\n",
      "\n",
      "df1.index"
     ],
     "language": "python",
     "metadata": {},
     "outputs": [
      {
       "output_type": "pyout",
       "prompt_number": 119,
       "text": [
        "Int64Index([0, 1], dtype=int64)"
       ]
      }
     ],
     "prompt_number": 119
    },
    {
     "cell_type": "markdown",
     "metadata": {},
     "source": [
      "We can use [`set_index`](http://pandas.pydata.org/pandas-docs/stable/generated/pandas.DataFrame.set_index.html#pandas.DataFrame.set_index) to makes fips the index"
     ]
    },
    {
     "cell_type": "code",
     "collapsed": false,
     "input": [
      "# http://pandas.pydata.org/pandas-docs/stable/generated/pandas.DataFrame.set_index.html#pandas.DataFrame.set_index\n",
      "\n",
      "# p. 150\n",
      "\n",
      "df1.set_index('fips', inplace=True, drop=True)"
     ],
     "language": "python",
     "metadata": {},
     "outputs": [
      {
       "html": [
        "<div style=\"max-height:1000px;max-width:1500px;overflow:auto;\">\n",
        "<table border=\"1\" class=\"dataframe\">\n",
        "  <thead>\n",
        "    <tr style=\"text-align: right;\">\n",
        "      <th></th>\n",
        "      <th>geog_entity</th>\n",
        "    </tr>\n",
        "    <tr>\n",
        "      <th>fips</th>\n",
        "      <th></th>\n",
        "    </tr>\n",
        "  </thead>\n",
        "  <tbody>\n",
        "    <tr>\n",
        "      <th>00000</th>\n",
        "      <td> UNITED STATES</td>\n",
        "    </tr>\n",
        "    <tr>\n",
        "      <th>01000</th>\n",
        "      <td>       ALABAMA</td>\n",
        "    </tr>\n",
        "  </tbody>\n",
        "</table>\n",
        "</div>"
       ],
       "output_type": "pyout",
       "prompt_number": 120,
       "text": [
        "         geog_entity\n",
        "fips                \n",
        "00000  UNITED STATES\n",
        "01000        ALABAMA"
       ]
      }
     ],
     "prompt_number": 120
    },
    {
     "cell_type": "code",
     "collapsed": false,
     "input": [
      "# now check the index\n",
      "\n",
      "df1.index"
     ],
     "language": "python",
     "metadata": {},
     "outputs": [
      {
       "output_type": "pyout",
       "prompt_number": 121,
       "text": [
        "Index([00000, 01000], dtype=object)"
       ]
      }
     ],
     "prompt_number": 121
    },
    {
     "cell_type": "code",
     "collapsed": false,
     "input": [
      "# to access row with index of 01000\n",
      "\n",
      "df1.ix['01000'] "
     ],
     "language": "python",
     "metadata": {},
     "outputs": [
      {
       "output_type": "pyout",
       "prompt_number": 122,
       "text": [
        "geog_entity    ALABAMA\n",
        "Name: 01000"
       ]
      }
     ],
     "prompt_number": 122
    },
    {
     "cell_type": "code",
     "collapsed": false,
     "input": [
      "# to read off the geog_entity column\n",
      "\n",
      "df1['geog_entity']"
     ],
     "language": "python",
     "metadata": {},
     "outputs": [
      {
       "output_type": "pyout",
       "prompt_number": 123,
       "text": [
        "fips\n",
        "00000    UNITED STATES\n",
        "01000          ALABAMA\n",
        "Name: geog_entity"
       ]
      }
     ],
     "prompt_number": 123
    },
    {
     "cell_type": "code",
     "collapsed": false,
     "input": [
      "# look at how we can do row slices\n",
      "\n",
      "df1.ix[0:1]"
     ],
     "language": "python",
     "metadata": {},
     "outputs": [
      {
       "html": [
        "<div style=\"max-height:1000px;max-width:1500px;overflow:auto;\">\n",
        "<table border=\"1\" class=\"dataframe\">\n",
        "  <thead>\n",
        "    <tr style=\"text-align: right;\">\n",
        "      <th></th>\n",
        "      <th>geog_entity</th>\n",
        "    </tr>\n",
        "    <tr>\n",
        "      <th>fips</th>\n",
        "      <th></th>\n",
        "    </tr>\n",
        "  </thead>\n",
        "  <tbody>\n",
        "    <tr>\n",
        "      <th>00000</th>\n",
        "      <td> UNITED STATES</td>\n",
        "    </tr>\n",
        "  </tbody>\n",
        "</table>\n",
        "</div>"
       ],
       "output_type": "pyout",
       "prompt_number": 124,
       "text": [
        "         geog_entity\n",
        "fips                \n",
        "00000  UNITED STATES"
       ]
      }
     ],
     "prompt_number": 124
    },
    {
     "cell_type": "code",
     "collapsed": false,
     "input": [
      "# get rows in reverse order\n",
      "\n",
      "df1.ix[::-1]"
     ],
     "language": "python",
     "metadata": {},
     "outputs": [
      {
       "html": [
        "<div style=\"max-height:1000px;max-width:1500px;overflow:auto;\">\n",
        "<table border=\"1\" class=\"dataframe\">\n",
        "  <thead>\n",
        "    <tr style=\"text-align: right;\">\n",
        "      <th></th>\n",
        "      <th>geog_entity</th>\n",
        "    </tr>\n",
        "    <tr>\n",
        "      <th>fips</th>\n",
        "      <th></th>\n",
        "    </tr>\n",
        "  </thead>\n",
        "  <tbody>\n",
        "    <tr>\n",
        "      <th>01000</th>\n",
        "      <td>       ALABAMA</td>\n",
        "    </tr>\n",
        "    <tr>\n",
        "      <th>00000</th>\n",
        "      <td> UNITED STATES</td>\n",
        "    </tr>\n",
        "  </tbody>\n",
        "</table>\n",
        "</div>"
       ],
       "output_type": "pyout",
       "prompt_number": 125,
       "text": [
        "         geog_entity\n",
        "fips                \n",
        "01000        ALABAMA\n",
        "00000  UNITED STATES"
       ]
      }
     ],
     "prompt_number": 125
    },
    {
     "cell_type": "markdown",
     "metadata": {},
     "source": [
      "Create the index explicitly in instantiation of the simple DataFrame"
     ]
    },
    {
     "cell_type": "code",
     "collapsed": false,
     "input": [
      "df2 = DataFrame(data = [{'geog_entity':'UNITED STATES'}, \n",
      "\n",
      "                {'geog_entity':'ALABAMA'},\n",
      "\n",
      "                ], index = ['00000','01000'])\n",
      "\n",
      "df2"
     ],
     "language": "python",
     "metadata": {},
     "outputs": [
      {
       "html": [
        "<div style=\"max-height:1000px;max-width:1500px;overflow:auto;\">\n",
        "<table border=\"1\" class=\"dataframe\">\n",
        "  <thead>\n",
        "    <tr style=\"text-align: right;\">\n",
        "      <th></th>\n",
        "      <th>geog_entity</th>\n",
        "    </tr>\n",
        "  </thead>\n",
        "  <tbody>\n",
        "    <tr>\n",
        "      <th>00000</th>\n",
        "      <td> UNITED STATES</td>\n",
        "    </tr>\n",
        "    <tr>\n",
        "      <th>01000</th>\n",
        "      <td>       ALABAMA</td>\n",
        "    </tr>\n",
        "  </tbody>\n",
        "</table>\n",
        "</div>"
       ],
       "output_type": "pyout",
       "prompt_number": 126,
       "text": [
        "         geog_entity\n",
        "00000  UNITED STATES\n",
        "01000        ALABAMA"
       ]
      }
     ],
     "prompt_number": 126
    },
    {
     "cell_type": "code",
     "collapsed": false,
     "input": [
      "# note index name is empty\n",
      "\n",
      "df2.index.name is None"
     ],
     "language": "python",
     "metadata": {},
     "outputs": [
      {
       "output_type": "pyout",
       "prompt_number": 127,
       "text": [
        "True"
       ]
      }
     ],
     "prompt_number": 127
    },
    {
     "cell_type": "code",
     "collapsed": false,
     "input": [
      "# set index name\n",
      "\n",
      "df2.index.name = 'fips'\n",
      "\n",
      "df2"
     ],
     "language": "python",
     "metadata": {},
     "outputs": [
      {
       "html": [
        "<div style=\"max-height:1000px;max-width:1500px;overflow:auto;\">\n",
        "<table border=\"1\" class=\"dataframe\">\n",
        "  <thead>\n",
        "    <tr style=\"text-align: right;\">\n",
        "      <th></th>\n",
        "      <th>geog_entity</th>\n",
        "    </tr>\n",
        "    <tr>\n",
        "      <th>fips</th>\n",
        "      <th></th>\n",
        "    </tr>\n",
        "  </thead>\n",
        "  <tbody>\n",
        "    <tr>\n",
        "      <th>00000</th>\n",
        "      <td> UNITED STATES</td>\n",
        "    </tr>\n",
        "    <tr>\n",
        "      <th>01000</th>\n",
        "      <td>       ALABAMA</td>\n",
        "    </tr>\n",
        "  </tbody>\n",
        "</table>\n",
        "</div>"
       ],
       "output_type": "pyout",
       "prompt_number": 128,
       "text": [
        "         geog_entity\n",
        "fips                \n",
        "00000  UNITED STATES\n",
        "01000        ALABAMA"
       ]
      }
     ],
     "prompt_number": 128
    },
    {
     "cell_type": "heading",
     "level": 2,
     "metadata": {},
     "source": [
      "Exercise:  Complete this code to create fips_df from the fips file"
     ]
    },
    {
     "cell_type": "code",
     "collapsed": false,
     "input": [
      "import codecs\n",
      "\n",
      "from itertools import islice\n",
      "\n",
      "\n",
      "\n",
      "from pandas import Series, DataFrame\n",
      "\n",
      "\n",
      "\n",
      "f = codecs.open(file_path(\"fips\"), encoding='iso-8859-1')\n",
      "\n",
      "\n",
      "\n",
      "fips_list = list()\n",
      "\n",
      "\n",
      "\n",
      "for row in islice(f, None):\n",
      "    row = row.strip() #strike off /n\n",
      "    rowstr = row.split(None,1)\n",
      "    \n",
      "    \n",
      "    \n",
      "        \n",
      "    fips_list.append(rowstr) # list in (a,b) format list([a,b],[c,d])\n",
      "\n",
      " \n",
      "\n",
      "    \n",
      "\n",
      "    \n",
      "\n",
      "fips_df = DataFrame(fips_list)\n",
      "\n",
      "fips_df"
     ],
     "language": "python",
     "metadata": {},
     "outputs": [
      {
       "output_type": "pyout",
       "prompt_number": 129,
       "text": [
        "<class 'pandas.core.frame.DataFrame'>\n",
        "Int64Index: 3195 entries, 0 to 3194\n",
        "Data columns:\n",
        "0    3195  non-null values\n",
        "1    3195  non-null values\n",
        "dtypes: object(2)"
       ]
      }
     ],
     "prompt_number": 129
    },
    {
     "cell_type": "code",
     "collapsed": false,
     "input": [
      "# display the first 5 rows\n",
      "\n",
      "fips_df[:5]"
     ],
     "language": "python",
     "metadata": {},
     "outputs": [
      {
       "html": [
        "<div style=\"max-height:1000px;max-width:1500px;overflow:auto;\">\n",
        "<table border=\"1\" class=\"dataframe\">\n",
        "  <thead>\n",
        "    <tr style=\"text-align: right;\">\n",
        "      <th></th>\n",
        "      <th>0</th>\n",
        "      <th>1</th>\n",
        "    </tr>\n",
        "  </thead>\n",
        "  <tbody>\n",
        "    <tr>\n",
        "      <th>0</th>\n",
        "      <td> 00000</td>\n",
        "      <td>      UNITED STATES</td>\n",
        "    </tr>\n",
        "    <tr>\n",
        "      <th>1</th>\n",
        "      <td> 01000</td>\n",
        "      <td>            ALABAMA</td>\n",
        "    </tr>\n",
        "    <tr>\n",
        "      <th>2</th>\n",
        "      <td> 01001</td>\n",
        "      <td> Autauga County, AL</td>\n",
        "    </tr>\n",
        "    <tr>\n",
        "      <th>3</th>\n",
        "      <td> 01003</td>\n",
        "      <td> Baldwin County, AL</td>\n",
        "    </tr>\n",
        "    <tr>\n",
        "      <th>4</th>\n",
        "      <td> 01005</td>\n",
        "      <td> Barbour County, AL</td>\n",
        "    </tr>\n",
        "  </tbody>\n",
        "</table>\n",
        "</div>"
       ],
       "output_type": "pyout",
       "prompt_number": 130,
       "text": [
        "       0                   1\n",
        "0  00000       UNITED STATES\n",
        "1  01000             ALABAMA\n",
        "2  01001  Autauga County, AL\n",
        "3  01003  Baldwin County, AL\n",
        "4  01005  Barbour County, AL"
       ]
      }
     ],
     "prompt_number": 130
    },
    {
     "cell_type": "heading",
     "level": 2,
     "metadata": {},
     "source": [
      "let's try using read_table directly to read in fips code"
     ]
    },
    {
     "cell_type": "code",
     "collapsed": false,
     "input": [
      "import codecs\n",
      "import re\n",
      "\n",
      "from itertools import islice\n",
      "\n",
      "\n",
      "\n",
      "import pandas as pd\n",
      "\n",
      "from pandas import Series, DataFrame\n",
      "\n",
      "\n",
      "\n",
      "f = codecs.open(file_path(\"fips\"), encoding='iso-8859-1')\n",
      "\n",
      "\n",
      "\n",
      "fips_df2 = pd.read_table(f, header=None,names=['row']) # sep = \" \" does not work , taking the islice approach\n",
      "\n",
      "\n",
      "f = codecs.open(file_path(\"fips\"), encoding='iso-8859-1')\n",
      "\n",
      "\n",
      "\n",
      "fips_list = list()\n",
      "\n",
      "\n",
      "\n",
      "for row in islice(f, None):\n",
      "    row = row.strip() #strike off /n\n",
      "    rowstr = row.split(None,1)\n",
      "    \n",
      "    \n",
      "    \n",
      "        \n",
      "    fips_list.append(rowstr) # list in (a,b) format list([a,b],[c,d])\n",
      "\n",
      " \n",
      "\n",
      "    \n",
      "\n",
      "    \n",
      "fips_df2 = DataFrame(fips_list)\n",
      "\n",
      "\n",
      "# show first five rows\n",
      "\n",
      "fips_df2[:5]\n",
      "\n",
      "\n",
      "\n"
     ],
     "language": "python",
     "metadata": {},
     "outputs": [
      {
       "html": [
        "<div style=\"max-height:1000px;max-width:1500px;overflow:auto;\">\n",
        "<table border=\"1\" class=\"dataframe\">\n",
        "  <thead>\n",
        "    <tr style=\"text-align: right;\">\n",
        "      <th></th>\n",
        "      <th>0</th>\n",
        "      <th>1</th>\n",
        "    </tr>\n",
        "  </thead>\n",
        "  <tbody>\n",
        "    <tr>\n",
        "      <th>0</th>\n",
        "      <td> 00000</td>\n",
        "      <td>      UNITED STATES</td>\n",
        "    </tr>\n",
        "    <tr>\n",
        "      <th>1</th>\n",
        "      <td> 01000</td>\n",
        "      <td>            ALABAMA</td>\n",
        "    </tr>\n",
        "    <tr>\n",
        "      <th>2</th>\n",
        "      <td> 01001</td>\n",
        "      <td> Autauga County, AL</td>\n",
        "    </tr>\n",
        "    <tr>\n",
        "      <th>3</th>\n",
        "      <td> 01003</td>\n",
        "      <td> Baldwin County, AL</td>\n",
        "    </tr>\n",
        "    <tr>\n",
        "      <th>4</th>\n",
        "      <td> 01005</td>\n",
        "      <td> Barbour County, AL</td>\n",
        "    </tr>\n",
        "  </tbody>\n",
        "</table>\n",
        "</div>"
       ],
       "output_type": "pyout",
       "prompt_number": 131,
       "text": [
        "       0                   1\n",
        "0  00000       UNITED STATES\n",
        "1  01000             ALABAMA\n",
        "2  01001  Autauga County, AL\n",
        "3  01003  Baldwin County, AL\n",
        "4  01005  Barbour County, AL"
       ]
      }
     ],
     "prompt_number": 131
    },
    {
     "cell_type": "heading",
     "level": 3,
     "metadata": {},
     "source": [
      "Exercise: create a fips column"
     ]
    },
    {
     "cell_type": "markdown",
     "metadata": {},
     "source": [
      "hint:  consider using `fips_df2.row.str[:]` and see what happens if you use\n",
      "\n",
      "\n",
      "\n",
      "    fips_df2[\"junk\"] = 'hello'\n",
      "\n",
      "\n",
      "\n",
      "BTW, you can delete columns  -- e.g.,\n",
      "\n",
      "\n",
      "\n",
      "    del fips_df2[\"junk\"] "
     ]
    },
    {
     "cell_type": "code",
     "collapsed": false,
     "input": [
      "# FILL IN\n",
      "fips_df2\n",
      "\n",
      "fips_df2 = fips_df2.rename(columns={0:'fips',1:'geog_entity'},inplace=True)\n",
      "print fips_df2[:5]\n",
      "\n",
      "\n",
      "\n",
      "\n"
     ],
     "language": "python",
     "metadata": {},
     "outputs": [
      {
       "output_type": "stream",
       "stream": "stdout",
       "text": [
        "    fips         geog_entity\n",
        "0  00000       UNITED STATES\n",
        "1  01000             ALABAMA\n",
        "2  01001  Autauga County, AL\n",
        "3  01003  Baldwin County, AL\n",
        "4  01005  Barbour County, AL\n"
       ]
      }
     ],
     "prompt_number": 132
    },
    {
     "cell_type": "code",
     "collapsed": false,
     "input": [
      "# show first five rows\n",
      "\n",
      "fips_df2[:5]"
     ],
     "language": "python",
     "metadata": {},
     "outputs": [
      {
       "html": [
        "<div style=\"max-height:1000px;max-width:1500px;overflow:auto;\">\n",
        "<table border=\"1\" class=\"dataframe\">\n",
        "  <thead>\n",
        "    <tr style=\"text-align: right;\">\n",
        "      <th></th>\n",
        "      <th>fips</th>\n",
        "      <th>geog_entity</th>\n",
        "    </tr>\n",
        "  </thead>\n",
        "  <tbody>\n",
        "    <tr>\n",
        "      <th>0</th>\n",
        "      <td> 00000</td>\n",
        "      <td>      UNITED STATES</td>\n",
        "    </tr>\n",
        "    <tr>\n",
        "      <th>1</th>\n",
        "      <td> 01000</td>\n",
        "      <td>            ALABAMA</td>\n",
        "    </tr>\n",
        "    <tr>\n",
        "      <th>2</th>\n",
        "      <td> 01001</td>\n",
        "      <td> Autauga County, AL</td>\n",
        "    </tr>\n",
        "    <tr>\n",
        "      <th>3</th>\n",
        "      <td> 01003</td>\n",
        "      <td> Baldwin County, AL</td>\n",
        "    </tr>\n",
        "    <tr>\n",
        "      <th>4</th>\n",
        "      <td> 01005</td>\n",
        "      <td> Barbour County, AL</td>\n",
        "    </tr>\n",
        "  </tbody>\n",
        "</table>\n",
        "</div>"
       ],
       "output_type": "pyout",
       "prompt_number": 133,
       "text": [
        "    fips         geog_entity\n",
        "0  00000       UNITED STATES\n",
        "1  01000             ALABAMA\n",
        "2  01001  Autauga County, AL\n",
        "3  01003  Baldwin County, AL\n",
        "4  01005  Barbour County, AL"
       ]
      }
     ],
     "prompt_number": 133
    },
    {
     "cell_type": "heading",
     "level": 3,
     "metadata": {},
     "source": [
      "Exercise: Likewise, create the geog_entity column and get rid of row column"
     ]
    },
    {
     "cell_type": "code",
     "collapsed": false,
     "input": [
      "#FILL IN\n",
      "\n",
      "\n",
      "# i used rename function to change the name of all the columns all at once, Please see above..\n",
      "\n",
      "\n",
      "\n",
      "print fips_df2.columns\n",
      "\n",
      "\n",
      "\n",
      "\n"
     ],
     "language": "python",
     "metadata": {},
     "outputs": [
      {
       "output_type": "stream",
       "stream": "stdout",
       "text": [
        "Index([fips, geog_entity], dtype=object)\n"
       ]
      }
     ],
     "prompt_number": 134
    },
    {
     "cell_type": "code",
     "collapsed": false,
     "input": [
      "# this is a check that you have the right columns\n",
      "\n",
      "\n",
      "\n",
      "assert set(fips_df2.columns) == set(['fips', 'geog_entity'])\n",
      "\n",
      "assert len(fips_df2) == 3195"
     ],
     "language": "python",
     "metadata": {},
     "outputs": [],
     "prompt_number": 135
    },
    {
     "cell_type": "heading",
     "level": 3,
     "metadata": {},
     "source": [
      "Now set the fips to be the index"
     ]
    },
    {
     "cell_type": "code",
     "collapsed": false,
     "input": [
      "fips_df2.set_index('fips', inplace=True, drop=True)"
     ],
     "language": "python",
     "metadata": {},
     "outputs": [
      {
       "output_type": "pyout",
       "prompt_number": 136,
       "text": [
        "<class 'pandas.core.frame.DataFrame'>\n",
        "Index: 3195 entries, 00000 to 56045\n",
        "Data columns:\n",
        "geog_entity    3195  non-null values\n",
        "dtypes: object(1)"
       ]
      }
     ],
     "prompt_number": 136
    },
    {
     "cell_type": "code",
     "collapsed": false,
     "input": [
      "# print out first five rows\n",
      "\n",
      "fips_df2[:5]"
     ],
     "language": "python",
     "metadata": {},
     "outputs": [
      {
       "html": [
        "<div style=\"max-height:1000px;max-width:1500px;overflow:auto;\">\n",
        "<table border=\"1\" class=\"dataframe\">\n",
        "  <thead>\n",
        "    <tr style=\"text-align: right;\">\n",
        "      <th></th>\n",
        "      <th>geog_entity</th>\n",
        "    </tr>\n",
        "    <tr>\n",
        "      <th>fips</th>\n",
        "      <th></th>\n",
        "    </tr>\n",
        "  </thead>\n",
        "  <tbody>\n",
        "    <tr>\n",
        "      <th>00000</th>\n",
        "      <td>      UNITED STATES</td>\n",
        "    </tr>\n",
        "    <tr>\n",
        "      <th>01000</th>\n",
        "      <td>            ALABAMA</td>\n",
        "    </tr>\n",
        "    <tr>\n",
        "      <th>01001</th>\n",
        "      <td> Autauga County, AL</td>\n",
        "    </tr>\n",
        "    <tr>\n",
        "      <th>01003</th>\n",
        "      <td> Baldwin County, AL</td>\n",
        "    </tr>\n",
        "    <tr>\n",
        "      <th>01005</th>\n",
        "      <td> Barbour County, AL</td>\n",
        "    </tr>\n",
        "  </tbody>\n",
        "</table>\n",
        "</div>"
       ],
       "output_type": "pyout",
       "prompt_number": 137,
       "text": [
        "              geog_entity\n",
        "fips                     \n",
        "00000       UNITED STATES\n",
        "01000             ALABAMA\n",
        "01001  Autauga County, AL\n",
        "01003  Baldwin County, AL\n",
        "01005  Barbour County, AL"
       ]
      }
     ],
     "prompt_number": 137
    },
    {
     "cell_type": "code",
     "collapsed": false,
     "input": [
      "fips_df2.ix['00000']"
     ],
     "language": "python",
     "metadata": {},
     "outputs": [
      {
       "output_type": "pyout",
       "prompt_number": 174,
       "text": [
        "geog_entity    UNITED STATES\n",
        "Name: 00000"
       ]
      }
     ],
     "prompt_number": 174
    },
    {
     "cell_type": "heading",
     "level": 3,
     "metadata": {},
     "source": [
      "Note:  see how to pull out country + states"
     ]
    },
    {
     "cell_type": "code",
     "collapsed": false,
     "input": [
      "# first 5 rows\n",
      "print fips_df2.index\n",
      "\n",
      "fips_df2[Series(fips_df2.index).str[-3:] == '000'][:5]"
     ],
     "language": "python",
     "metadata": {},
     "outputs": [
      {
       "output_type": "stream",
       "stream": "stdout",
       "text": [
        "Index([00000, 01000, 01001, ..., 56041, 56043, 56045], dtype=object)\n"
       ]
      },
      {
       "html": [
        "<div style=\"max-height:1000px;max-width:1500px;overflow:auto;\">\n",
        "<table border=\"1\" class=\"dataframe\">\n",
        "  <thead>\n",
        "    <tr style=\"text-align: right;\">\n",
        "      <th></th>\n",
        "      <th>geog_entity</th>\n",
        "    </tr>\n",
        "    <tr>\n",
        "      <th>fips</th>\n",
        "      <th></th>\n",
        "    </tr>\n",
        "  </thead>\n",
        "  <tbody>\n",
        "    <tr>\n",
        "      <th>00000</th>\n",
        "      <td> UNITED STATES</td>\n",
        "    </tr>\n",
        "    <tr>\n",
        "      <th>01000</th>\n",
        "      <td>       ALABAMA</td>\n",
        "    </tr>\n",
        "    <tr>\n",
        "      <th>02000</th>\n",
        "      <td>        ALASKA</td>\n",
        "    </tr>\n",
        "    <tr>\n",
        "      <th>04000</th>\n",
        "      <td>       ARIZONA</td>\n",
        "    </tr>\n",
        "    <tr>\n",
        "      <th>05000</th>\n",
        "      <td>      ARKANSAS</td>\n",
        "    </tr>\n",
        "  </tbody>\n",
        "</table>\n",
        "</div>"
       ],
       "output_type": "pyout",
       "prompt_number": 177,
       "text": [
        "         geog_entity\n",
        "fips                \n",
        "00000  UNITED STATES\n",
        "01000        ALABAMA\n",
        "02000         ALASKA\n",
        "04000        ARIZONA\n",
        "05000       ARKANSAS"
       ]
      }
     ],
     "prompt_number": 177
    },
    {
     "cell_type": "code",
     "collapsed": false,
     "input": [
      "len(fips_df2[Series(fips_df2.index).str[-3:] == '000'])"
     ],
     "language": "python",
     "metadata": {},
     "outputs": [
      {
       "output_type": "pyout",
       "prompt_number": 140,
       "text": [
        "52"
       ]
      }
     ],
     "prompt_number": 140
    },
    {
     "cell_type": "code",
     "collapsed": false,
     "input": [
      "# check type\n",
      "\n",
      "isinstance(fips_df2.index, pd.Index)"
     ],
     "language": "python",
     "metadata": {},
     "outputs": [
      {
       "output_type": "pyout",
       "prompt_number": 208,
       "text": [
        "True"
       ]
      }
     ],
     "prompt_number": 208
    },
    {
     "cell_type": "code",
     "collapsed": false,
     "input": [
      "# can create a Boolean slice to pull out a country\n",
      "\n",
      "# have to drop index fips to access fips.index values. (rohan)\n",
      "# index values cannot be accessed as dataframe.index name. Hence , drop all indexes.\n",
      "fips_df2 = fips_df2.reset_index()\n",
      "\n",
      "# fips_df2\n",
      "print type(fips_df2.fips)\n",
      "\n",
      "is_country = fips_df2.fips.str[:] == '00000'\n",
      "\n"
     ],
     "language": "python",
     "metadata": {},
     "outputs": [
      {
       "output_type": "stream",
       "stream": "stdout",
       "text": [
        "<class 'pandas.core.series.Series'>\n"
       ]
      }
     ],
     "prompt_number": 222
    },
    {
     "cell_type": "code",
     "collapsed": false,
     "input": [
      "fips_df[is_country]"
     ],
     "language": "python",
     "metadata": {},
     "outputs": [
      {
       "html": [
        "<div style=\"max-height:1000px;max-width:1500px;overflow:auto;\">\n",
        "<table border=\"1\" class=\"dataframe\">\n",
        "  <thead>\n",
        "    <tr style=\"text-align: right;\">\n",
        "      <th></th>\n",
        "      <th>0</th>\n",
        "      <th>1</th>\n",
        "    </tr>\n",
        "  </thead>\n",
        "  <tbody>\n",
        "    <tr>\n",
        "      <th>0</th>\n",
        "      <td> 00000</td>\n",
        "      <td> UNITED STATES</td>\n",
        "    </tr>\n",
        "  </tbody>\n",
        "</table>\n",
        "</div>"
       ],
       "output_type": "pyout",
       "prompt_number": 216,
       "text": [
        "       0              1\n",
        "0  00000  UNITED STATES"
       ]
      }
     ],
     "prompt_number": 216
    },
    {
     "cell_type": "heading",
     "level": 3,
     "metadata": {},
     "source": [
      "Exercise:  create a Boolean index `is_state` to pull out states and a DataFrame `states_df` to hold the states + DC; also write `is_county` to pull out counties"
     ]
    },
    {
     "cell_type": "markdown",
     "metadata": {},
     "source": [
      "Hints:\n",
      "\n",
      "\n",
      "\n",
      "* Recall how to distinguish states fips -- end in '000' but is not '00000' (which is the US code)\n",
      "\n",
      "* use can use `&` to do a boolean `and` on Boolean indices -- (see `PfDA`, p. 91)"
     ]
    },
    {
     "cell_type": "code",
     "collapsed": false,
     "input": [
      "# how about states?\n",
      "\n",
      "# make use of \n",
      "\n",
      "# http://proquest.safaribooksonline.com/book/programming/python/9781449323592/7dot-data-wrangling-clean-transform-merge-reshape/id2801165\n",
      "\n",
      "\n",
      "\n",
      "#FILL IN \n",
      "\n",
      "\n",
      "\n",
      "is_state = fips_df2.fips.str[-3:] == '000'\n",
      "#  could not find a way to ignore UNITED STATES\n",
      "\n",
      "print type(is_state)\n",
      "\n",
      "\n",
      "\n",
      "is_county = fips_df2.fips.str[-3:] != '000'\n",
      "\n",
      "\n",
      "\n",
      "states_df = fips_df[is_state]\n",
      "\n",
      "\n",
      "print len(states_df)\n",
      "\n",
      "\n",
      "\n",
      "states_df.rename(columns={0:'fips',1:'geog_entity'},inplace=True)\n",
      "states_df[:5]"
     ],
     "language": "python",
     "metadata": {},
     "outputs": [
      {
       "output_type": "stream",
       "stream": "stdout",
       "text": [
        "<class 'pandas.core.series.Series'>\n",
        "52\n"
       ]
      },
      {
       "html": [
        "<div style=\"max-height:1000px;max-width:1500px;overflow:auto;\">\n",
        "<table border=\"1\" class=\"dataframe\">\n",
        "  <thead>\n",
        "    <tr style=\"text-align: right;\">\n",
        "      <th></th>\n",
        "      <th>fips</th>\n",
        "      <th>geog_entity</th>\n",
        "    </tr>\n",
        "  </thead>\n",
        "  <tbody>\n",
        "    <tr>\n",
        "      <th>0  </th>\n",
        "      <td> 00000</td>\n",
        "      <td> UNITED STATES</td>\n",
        "    </tr>\n",
        "    <tr>\n",
        "      <th>1  </th>\n",
        "      <td> 01000</td>\n",
        "      <td>       ALABAMA</td>\n",
        "    </tr>\n",
        "    <tr>\n",
        "      <th>69 </th>\n",
        "      <td> 02000</td>\n",
        "      <td>        ALASKA</td>\n",
        "    </tr>\n",
        "    <tr>\n",
        "      <th>99 </th>\n",
        "      <td> 04000</td>\n",
        "      <td>       ARIZONA</td>\n",
        "    </tr>\n",
        "    <tr>\n",
        "      <th>115</th>\n",
        "      <td> 05000</td>\n",
        "      <td>      ARKANSAS</td>\n",
        "    </tr>\n",
        "  </tbody>\n",
        "</table>\n",
        "</div>"
       ],
       "output_type": "pyout",
       "prompt_number": 250,
       "text": [
        "      fips    geog_entity\n",
        "0    00000  UNITED STATES\n",
        "1    01000        ALABAMA\n",
        "69   02000         ALASKA\n",
        "99   04000        ARIZONA\n",
        "115  05000       ARKANSAS"
       ]
      }
     ],
     "prompt_number": 250
    },
    {
     "cell_type": "heading",
     "level": 3,
     "metadata": {},
     "source": [
      "Check whether is_state and states_df look correct"
     ]
    },
    {
     "cell_type": "code",
     "collapsed": false,
     "input": [
      "print is_state.value_counts()\n",
      "#assert set(is_state.value_counts().iteritems()) == set([(True, 51), (False, 3144)])"
     ],
     "language": "python",
     "metadata": {},
     "outputs": [
      {
       "output_type": "stream",
       "stream": "stdout",
       "text": [
        "False    3143\n",
        "True       52\n"
       ]
      }
     ],
     "prompt_number": 245
    },
    {
     "cell_type": "code",
     "collapsed": false,
     "input": [
      "assert set(states_df[\"geog_entity\"]) == set([u'VERMONT',\n",
      "\n",
      "     u'GEORGIA', u'IOWA', u'KANSAS', u'FLORIDA', u'VIRGINIA', u'NORTH CAROLINA',\n",
      "\n",
      "     u'HAWAII', u'NEW YORK', u'CALIFORNIA', u'ALABAMA', u'IDAHO', u'DELAWARE',\n",
      "\n",
      "     u'ALASKA', u'ILLINOIS', u'SOUTH DAKOTA', u'CONNECTICUT', u'MONTANA',\n",
      "\n",
      "     u'MASSACHUSETTS', u'NEW HAMPSHIRE', u'MARYLAND', u'NEW MEXICO',\n",
      "\n",
      "     u'MISSISSIPPI', u'TENNESSEE', u'COLORADO', u'NEW JERSEY', u'UTAH',\n",
      "\n",
      "     u'MICHIGAN', u'WEST VIRGINIA', u'WASHINGTON', u'MINNESOTA', u'OREGON',\n",
      "\n",
      "     u'WYOMING', u'OHIO', u'SOUTH CAROLINA', u'INDIANA', u'NEVADA',\n",
      "\n",
      "     u'LOUISIANA', u'NEBRASKA', u'ARIZONA', u'WISCONSIN', u'NORTH DAKOTA',\n",
      "\n",
      "     u'PENNSYLVANIA', u'OKLAHOMA', u'KENTUCKY', u'RHODE ISLAND', u'DISTRICT OF COLUMBIA',\n",
      "\n",
      "     u'ARKANSAS', u'MISSOURI', u'TEXAS', u'MAINE'])"
     ],
     "language": "python",
     "metadata": {},
     "outputs": [
      {
       "ename": "KeyError",
       "evalue": "u'no item named geog_entity'",
       "output_type": "pyerr",
       "traceback": [
        "\u001b[1;31m---------------------------------------------------------------------------\u001b[0m\n\u001b[1;31mKeyError\u001b[0m                                  Traceback (most recent call last)",
        "\u001b[1;32m<ipython-input-240-8d320a31ecd9>\u001b[0m in \u001b[0;36m<module>\u001b[1;34m()\u001b[0m\n\u001b[1;32m----> 1\u001b[1;33m assert set(states_df[\"geog_entity\"]) == set([u'VERMONT',\n\u001b[0m\u001b[0;32m      2\u001b[0m \u001b[1;33m\u001b[0m\u001b[0m\n\u001b[0;32m      3\u001b[0m      \u001b[1;34mu'GEORGIA'\u001b[0m\u001b[1;33m,\u001b[0m \u001b[1;34mu'IOWA'\u001b[0m\u001b[1;33m,\u001b[0m \u001b[1;34mu'KANSAS'\u001b[0m\u001b[1;33m,\u001b[0m \u001b[1;34mu'FLORIDA'\u001b[0m\u001b[1;33m,\u001b[0m \u001b[1;34mu'VIRGINIA'\u001b[0m\u001b[1;33m,\u001b[0m \u001b[1;34mu'NORTH CAROLINA'\u001b[0m\u001b[1;33m,\u001b[0m\u001b[1;33m\u001b[0m\u001b[0m\n\u001b[0;32m      4\u001b[0m \u001b[1;33m\u001b[0m\u001b[0m\n\u001b[0;32m      5\u001b[0m      \u001b[1;34mu'HAWAII'\u001b[0m\u001b[1;33m,\u001b[0m \u001b[1;34mu'NEW YORK'\u001b[0m\u001b[1;33m,\u001b[0m \u001b[1;34mu'CALIFORNIA'\u001b[0m\u001b[1;33m,\u001b[0m \u001b[1;34mu'ALABAMA'\u001b[0m\u001b[1;33m,\u001b[0m \u001b[1;34mu'IDAHO'\u001b[0m\u001b[1;33m,\u001b[0m \u001b[1;34mu'DELAWARE'\u001b[0m\u001b[1;33m,\u001b[0m\u001b[1;33m\u001b[0m\u001b[0m\n",
        "\u001b[1;32mC:\\Python27\\lib\\site-packages\\pandas\\core\\frame.pyc\u001b[0m in \u001b[0;36m__getitem__\u001b[1;34m(self, key)\u001b[0m\n\u001b[0;32m   1969\u001b[0m                 \u001b[1;32mraise\u001b[0m \u001b[0mValueError\u001b[0m\u001b[1;33m(\u001b[0m\u001b[1;34m'Cannot index using non-boolean DataFrame'\u001b[0m\u001b[1;33m)\u001b[0m\u001b[1;33m\u001b[0m\u001b[0m\n\u001b[0;32m   1970\u001b[0m         \u001b[1;32melse\u001b[0m\u001b[1;33m:\u001b[0m\u001b[1;33m\u001b[0m\u001b[0m\n\u001b[1;32m-> 1971\u001b[1;33m             \u001b[1;32mreturn\u001b[0m \u001b[0mself\u001b[0m\u001b[1;33m.\u001b[0m\u001b[0m_get_item_cache\u001b[0m\u001b[1;33m(\u001b[0m\u001b[0mkey\u001b[0m\u001b[1;33m)\u001b[0m\u001b[1;33m\u001b[0m\u001b[0m\n\u001b[0m\u001b[0;32m   1972\u001b[0m \u001b[1;33m\u001b[0m\u001b[0m\n\u001b[0;32m   1973\u001b[0m     \u001b[1;32mdef\u001b[0m \u001b[0m_getitem_array\u001b[0m\u001b[1;33m(\u001b[0m\u001b[0mself\u001b[0m\u001b[1;33m,\u001b[0m \u001b[0mkey\u001b[0m\u001b[1;33m)\u001b[0m\u001b[1;33m:\u001b[0m\u001b[1;33m\u001b[0m\u001b[0m\n",
        "\u001b[1;32mC:\\Python27\\lib\\site-packages\\pandas\\core\\generic.pyc\u001b[0m in \u001b[0;36m_get_item_cache\u001b[1;34m(self, item)\u001b[0m\n\u001b[0;32m    532\u001b[0m             \u001b[1;32mreturn\u001b[0m \u001b[0mcache\u001b[0m\u001b[1;33m[\u001b[0m\u001b[0mitem\u001b[0m\u001b[1;33m]\u001b[0m\u001b[1;33m\u001b[0m\u001b[0m\n\u001b[0;32m    533\u001b[0m         \u001b[1;32mexcept\u001b[0m \u001b[0mException\u001b[0m\u001b[1;33m:\u001b[0m\u001b[1;33m\u001b[0m\u001b[0m\n\u001b[1;32m--> 534\u001b[1;33m             \u001b[0mvalues\u001b[0m \u001b[1;33m=\u001b[0m \u001b[0mself\u001b[0m\u001b[1;33m.\u001b[0m\u001b[0m_data\u001b[0m\u001b[1;33m.\u001b[0m\u001b[0mget\u001b[0m\u001b[1;33m(\u001b[0m\u001b[0mitem\u001b[0m\u001b[1;33m)\u001b[0m\u001b[1;33m\u001b[0m\u001b[0m\n\u001b[0m\u001b[0;32m    535\u001b[0m             \u001b[0mres\u001b[0m \u001b[1;33m=\u001b[0m \u001b[0mself\u001b[0m\u001b[1;33m.\u001b[0m\u001b[0m_box_item_values\u001b[0m\u001b[1;33m(\u001b[0m\u001b[0mitem\u001b[0m\u001b[1;33m,\u001b[0m \u001b[0mvalues\u001b[0m\u001b[1;33m)\u001b[0m\u001b[1;33m\u001b[0m\u001b[0m\n\u001b[0;32m    536\u001b[0m             \u001b[0mcache\u001b[0m\u001b[1;33m[\u001b[0m\u001b[0mitem\u001b[0m\u001b[1;33m]\u001b[0m \u001b[1;33m=\u001b[0m \u001b[0mres\u001b[0m\u001b[1;33m\u001b[0m\u001b[0m\n",
        "\u001b[1;32mC:\\Python27\\lib\\site-packages\\pandas\\core\\internals.pyc\u001b[0m in \u001b[0;36mget\u001b[1;34m(self, item)\u001b[0m\n\u001b[0;32m    882\u001b[0m \u001b[1;33m\u001b[0m\u001b[0m\n\u001b[0;32m    883\u001b[0m     \u001b[1;32mdef\u001b[0m \u001b[0mget\u001b[0m\u001b[1;33m(\u001b[0m\u001b[0mself\u001b[0m\u001b[1;33m,\u001b[0m \u001b[0mitem\u001b[0m\u001b[1;33m)\u001b[0m\u001b[1;33m:\u001b[0m\u001b[1;33m\u001b[0m\u001b[0m\n\u001b[1;32m--> 884\u001b[1;33m         \u001b[0m_\u001b[0m\u001b[1;33m,\u001b[0m \u001b[0mblock\u001b[0m \u001b[1;33m=\u001b[0m \u001b[0mself\u001b[0m\u001b[1;33m.\u001b[0m\u001b[0m_find_block\u001b[0m\u001b[1;33m(\u001b[0m\u001b[0mitem\u001b[0m\u001b[1;33m)\u001b[0m\u001b[1;33m\u001b[0m\u001b[0m\n\u001b[0m\u001b[0;32m    885\u001b[0m         \u001b[1;32mreturn\u001b[0m \u001b[0mblock\u001b[0m\u001b[1;33m.\u001b[0m\u001b[0mget\u001b[0m\u001b[1;33m(\u001b[0m\u001b[0mitem\u001b[0m\u001b[1;33m)\u001b[0m\u001b[1;33m\u001b[0m\u001b[0m\n\u001b[0;32m    886\u001b[0m \u001b[1;33m\u001b[0m\u001b[0m\n",
        "\u001b[1;32mC:\\Python27\\lib\\site-packages\\pandas\\core\\internals.pyc\u001b[0m in \u001b[0;36m_find_block\u001b[1;34m(self, item)\u001b[0m\n\u001b[0;32m   1014\u001b[0m \u001b[1;33m\u001b[0m\u001b[0m\n\u001b[0;32m   1015\u001b[0m     \u001b[1;32mdef\u001b[0m \u001b[0m_find_block\u001b[0m\u001b[1;33m(\u001b[0m\u001b[0mself\u001b[0m\u001b[1;33m,\u001b[0m \u001b[0mitem\u001b[0m\u001b[1;33m)\u001b[0m\u001b[1;33m:\u001b[0m\u001b[1;33m\u001b[0m\u001b[0m\n\u001b[1;32m-> 1016\u001b[1;33m         \u001b[0mself\u001b[0m\u001b[1;33m.\u001b[0m\u001b[0m_check_have\u001b[0m\u001b[1;33m(\u001b[0m\u001b[0mitem\u001b[0m\u001b[1;33m)\u001b[0m\u001b[1;33m\u001b[0m\u001b[0m\n\u001b[0m\u001b[0;32m   1017\u001b[0m         \u001b[1;32mfor\u001b[0m \u001b[0mi\u001b[0m\u001b[1;33m,\u001b[0m \u001b[0mblock\u001b[0m \u001b[1;32min\u001b[0m \u001b[0menumerate\u001b[0m\u001b[1;33m(\u001b[0m\u001b[0mself\u001b[0m\u001b[1;33m.\u001b[0m\u001b[0mblocks\u001b[0m\u001b[1;33m)\u001b[0m\u001b[1;33m:\u001b[0m\u001b[1;33m\u001b[0m\u001b[0m\n\u001b[0;32m   1018\u001b[0m             \u001b[1;32mif\u001b[0m \u001b[0mitem\u001b[0m \u001b[1;32min\u001b[0m \u001b[0mblock\u001b[0m\u001b[1;33m:\u001b[0m\u001b[1;33m\u001b[0m\u001b[0m\n",
        "\u001b[1;32mC:\\Python27\\lib\\site-packages\\pandas\\core\\internals.pyc\u001b[0m in \u001b[0;36m_check_have\u001b[1;34m(self, item)\u001b[0m\n\u001b[0;32m   1021\u001b[0m     \u001b[1;32mdef\u001b[0m \u001b[0m_check_have\u001b[0m\u001b[1;33m(\u001b[0m\u001b[0mself\u001b[0m\u001b[1;33m,\u001b[0m \u001b[0mitem\u001b[0m\u001b[1;33m)\u001b[0m\u001b[1;33m:\u001b[0m\u001b[1;33m\u001b[0m\u001b[0m\n\u001b[0;32m   1022\u001b[0m         \u001b[1;32mif\u001b[0m \u001b[0mitem\u001b[0m \u001b[1;32mnot\u001b[0m \u001b[1;32min\u001b[0m \u001b[0mself\u001b[0m\u001b[1;33m.\u001b[0m\u001b[0mitems\u001b[0m\u001b[1;33m:\u001b[0m\u001b[1;33m\u001b[0m\u001b[0m\n\u001b[1;32m-> 1023\u001b[1;33m             \u001b[1;32mraise\u001b[0m \u001b[0mKeyError\u001b[0m\u001b[1;33m(\u001b[0m\u001b[1;34m'no item named %s'\u001b[0m \u001b[1;33m%\u001b[0m \u001b[0mcom\u001b[0m\u001b[1;33m.\u001b[0m\u001b[0mpprint_thing\u001b[0m\u001b[1;33m(\u001b[0m\u001b[0mitem\u001b[0m\u001b[1;33m)\u001b[0m\u001b[1;33m)\u001b[0m\u001b[1;33m\u001b[0m\u001b[0m\n\u001b[0m\u001b[0;32m   1024\u001b[0m \u001b[1;33m\u001b[0m\u001b[0m\n\u001b[0;32m   1025\u001b[0m     \u001b[1;32mdef\u001b[0m \u001b[0mreindex_axis\u001b[0m\u001b[1;33m(\u001b[0m\u001b[0mself\u001b[0m\u001b[1;33m,\u001b[0m \u001b[0mnew_axis\u001b[0m\u001b[1;33m,\u001b[0m \u001b[0mmethod\u001b[0m\u001b[1;33m=\u001b[0m\u001b[0mNone\u001b[0m\u001b[1;33m,\u001b[0m \u001b[0maxis\u001b[0m\u001b[1;33m=\u001b[0m\u001b[1;36m0\u001b[0m\u001b[1;33m,\u001b[0m \u001b[0mcopy\u001b[0m\u001b[1;33m=\u001b[0m\u001b[0mTrue\u001b[0m\u001b[1;33m)\u001b[0m\u001b[1;33m:\u001b[0m\u001b[1;33m\u001b[0m\u001b[0m\n",
        "\u001b[1;31mKeyError\u001b[0m: u'no item named geog_entity'"
       ]
      }
     ],
     "prompt_number": 240
    },
    {
     "cell_type": "code",
     "collapsed": false,
     "input": [
      "assert set(is_county.value_counts().iteritems()) == set([(False, 52), (True, 3143)])"
     ],
     "language": "python",
     "metadata": {},
     "outputs": []
    },
    {
     "cell_type": "heading",
     "level": 2,
     "metadata": {},
     "source": [
      "Now it's time to work with the population dataset"
     ]
    },
    {
     "cell_type": "heading",
     "level": 3,
     "metadata": {},
     "source": [
      "remind ourselves of what's in the dataset by reading it into a dict"
     ]
    },
    {
     "cell_type": "code",
     "collapsed": false,
     "input": [
      "import csv\n",
      "\n",
      "import codecs\n",
      "\n",
      "import pandas as pd\n",
      "\n",
      "from pandas import DataFrame, Series\n",
      "\n",
      "from itertools import islice\n",
      "\n",
      "\n",
      "\n",
      "f = codecs.open(file_path(\"dataset\"), encoding='iso-8859-1')\n",
      "\n",
      "\n",
      "\n",
      "reader = csv.DictReader(f)\n",
      "\n",
      "dataset = dict([(row[\"fips\"], row) for row in islice(reader, None)])\n",
      "\n",
      "\n",
      "\n",
      "f.close()"
     ],
     "language": "python",
     "metadata": {},
     "outputs": []
    },
    {
     "cell_type": "code",
     "collapsed": false,
     "input": [
      "# print out entry for USA\n",
      "\n",
      "\n",
      "\n",
      "print dataset['00000']"
     ],
     "language": "python",
     "metadata": {},
     "outputs": []
    },
    {
     "cell_type": "code",
     "collapsed": false,
     "input": [
      "# make sure we have the right 2010 census population for the USA\n",
      "\n",
      "\n",
      "\n",
      "assert dataset['00000']['POP010210'] == '308745538'"
     ],
     "language": "python",
     "metadata": {},
     "outputs": []
    },
    {
     "cell_type": "heading",
     "level": 3,
     "metadata": {},
     "source": [
      "let's use pd.read_csv to read in file -- there's a bit of tricky type conversion issues here."
     ]
    },
    {
     "cell_type": "code",
     "collapsed": false,
     "input": [
      "# let's try pd.read_csv \n",
      "\n",
      "# how to give hints about data type to pd.read_csv?\n",
      "\n",
      "\n",
      "\n",
      "import codecs\n",
      "\n",
      "\n",
      "\n",
      "# read data in and merge with fips_df\n",
      "\n",
      "\n",
      "\n",
      "#dtype = [('fips', 'S'), ('POP010210', 'i')]\n",
      "\n",
      "# problems with string conversion when I try to explicitly parse fips as a np.string_\n",
      "\n",
      "# dtype = {'fips':np.string_}\n",
      "\n",
      "# possibly relevant sections of the code:\n",
      "\n",
      "\n",
      "\n",
      "# v0.10.1: https://github.com/pydata/pandas/tree/v0.10.1\n",
      "\n",
      "# https://github.com/pydata/pandas/blob/v0.10.1/pandas/io/parsers.py\n",
      "\n",
      "# https://github.com/pydata/pandas/blob/v0.10.1/pandas/src/parser.pyx#L897 -> _convert_with_dtype\n",
      "\n",
      "\n",
      "\n",
      "# let's try object for fips and int for POP010210\n",
      "\n",
      "dtype = {'fips':np.object, 'POP010210':np.int}\n",
      "\n",
      "\n",
      "\n",
      "f = codecs.open(file_path(\"dataset\"), encoding='iso-8859-1')\n",
      "\n",
      "dataset_df = pd.read_csv(f, dtype=dtype)"
     ],
     "language": "python",
     "metadata": {},
     "outputs": []
    },
    {
     "cell_type": "code",
     "collapsed": false,
     "input": [
      "# confirm data types for fips, which should not be convered to int\n",
      "\n",
      "dataset_df.fips.dtype, dataset_df.POP010210.dtype"
     ],
     "language": "python",
     "metadata": {},
     "outputs": []
    },
    {
     "cell_type": "code",
     "collapsed": false,
     "input": [
      "# read off US population\n",
      "\n",
      "dataset_df[is_country].ix[0]['POP010210']"
     ],
     "language": "python",
     "metadata": {},
     "outputs": []
    },
    {
     "cell_type": "code",
     "collapsed": false,
     "input": [
      "# 3 most populous entities \n",
      "\n",
      "# http://pandas.pydata.org/pandas-docs/dev/generated/pandas.DataFrame.sort_index.html\n",
      "\n",
      "dataset_df.sort_index(by='POP010210')[-1:-4:-1][[\"fips\", \"POP010210\"]]"
     ],
     "language": "python",
     "metadata": {},
     "outputs": []
    },
    {
     "cell_type": "heading",
     "level": 2,
     "metadata": {},
     "source": [
      "Merge fips w/ dataset"
     ]
    },
    {
     "cell_type": "code",
     "collapsed": false,
     "input": [
      "# PfDA, p. 28\n",
      "\n",
      "df = pd.merge(fips_df, dataset_df)"
     ],
     "language": "python",
     "metadata": {},
     "outputs": []
    },
    {
     "cell_type": "code",
     "collapsed": false,
     "input": [
      "df.sort_index(by='POP010210')[-1:-5:-1][[\"fips\", \"geog_entity\", \"POP010210\"]]"
     ],
     "language": "python",
     "metadata": {},
     "outputs": []
    },
    {
     "cell_type": "heading",
     "level": 3,
     "metadata": {},
     "source": [
      "Exercise: make a DataFrame called state_pop of 51 state-like entities that has fips, geog_entity, POP010210 columns, sorted by 2010 census in descending pop"
     ]
    },
    {
     "cell_type": "code",
     "collapsed": false,
     "input": [
      "# calculate state_pop\n",
      "\n",
      "\n",
      "\n",
      "\n"
     ],
     "language": "python",
     "metadata": {},
     "outputs": []
    },
    {
     "cell_type": "code",
     "collapsed": false,
     "input": [
      "# check state_pop behavior\n",
      "\n",
      "\n",
      "\n",
      "assert state_pop.shape  == (51, 3)\n",
      "\n",
      "assert set(state_pop.columns) == set(['POP010210', 'fips', 'geog_entity'])\n",
      "\n",
      "assert list(state_pop[:5][\"geog_entity\"]) == [u'CALIFORNIA', u'TEXAS', u'NEW YORK', u'FLORIDA', u'ILLINOIS']\n",
      "\n",
      "assert state_pop[:5][\"POP010210\"].sum() == 113409561"
     ],
     "language": "python",
     "metadata": {},
     "outputs": []
    },
    {
     "cell_type": "code",
     "collapsed": false,
     "input": [
      "# add up all the states to match US population\n",
      "\n",
      "\n",
      "\n",
      "assert state_pop[\"POP010210\"].sum() == df[is_country][\"POP010210\"].sum()"
     ],
     "language": "python",
     "metadata": {},
     "outputs": []
    },
    {
     "cell_type": "code",
     "collapsed": false,
     "input": [
      "sum(df[is_country]['POP010210']), sum(df[is_state]['POP010210']), sum(df[is_county]['POP010210'])\n"
     ],
     "language": "python",
     "metadata": {},
     "outputs": []
    },
    {
     "cell_type": "heading",
     "level": 2,
     "metadata": {},
     "source": [
      "Exercise:  write function counties_for_state to return a Boolean index for a fiven state prefix or fips code"
     ]
    },
    {
     "cell_type": "markdown",
     "metadata": {},
     "source": [
      "e.g \n",
      "\n",
      "\n",
      "\n",
      "    df[counties_for_state('06')]\n",
      "\n",
      "\n",
      "\n",
      "should be a DataFrame with CA counties"
     ]
    },
    {
     "cell_type": "code",
     "collapsed": false,
     "input": [
      "def counties_for_state(state):\n",
      "\n",
      "    # Fill in\n",
      "\n",
      "    \n",
      "\n",
      "    pass"
     ],
     "language": "python",
     "metadata": {},
     "outputs": []
    },
    {
     "cell_type": "code",
     "collapsed": false,
     "input": [
      "assert set(df[counties_for_state('06')][\"geog_entity\"]) == set([u'Nevada County, CA',\n",
      "\n",
      "     u'Alameda County, CA', u'Kings County, CA', u'Ventura County, CA',\n",
      "\n",
      "     u'El Dorado County, CA', u'San Joaquin County, CA', u'Alpine County, CA',\n",
      "\n",
      "     u'San Luis Obispo County, CA', u'Modoc County, CA', u'Colusa County, CA',\n",
      "\n",
      "     u'Stanislaus County, CA', u'Sonoma County, CA', u'Tulare County, CA',\n",
      "\n",
      "     u'Shasta County, CA', u'Yolo County, CA', u'Placer County, CA', u'Glenn County, CA',\n",
      "\n",
      "     u'Sacramento County, CA', u'San Francisco County, CA',\n",
      "\n",
      "     u'Madera County, CA', u'Imperial County, CA', u'Plumas County, CA',\n",
      "\n",
      "     u'San Mateo County, CA', u'Riverside County, CA', u'Calaveras County, CA',\n",
      "\n",
      "     u'Napa County, CA', u'Mendocino County, CA', u'Mariposa County, CA',\n",
      "\n",
      "     u'Santa Barbara County, CA', u'Inyo County, CA', u'Butte County, CA',\n",
      "\n",
      "     u'Trinity County, CA', u'Los Angeles County, CA', u'Lassen County, CA',\n",
      "\n",
      "     u'Yuba County, CA', u'Amador County, CA', u'Marin County, CA', u'Humboldt County, CA', \n",
      "\n",
      "     u'Merced County, CA', u'Lake County, CA', u'San Diego County, CA',\n",
      "\n",
      "     u'Monterey County, CA', u'Sutter County, CA', u'Solano County, CA',\n",
      "\n",
      "     u'Tuolumne County, CA', u'San Bernardino County, CA', u'Fresno County, CA',\n",
      "\n",
      "     u'Santa Cruz County, CA', u'San Benito County, CA', u'Contra Costa County, CA', \n",
      "\n",
      "     u'Orange County, CA', u'Del Norte County, CA', u'Mono County, CA',\n",
      "\n",
      "     u'Siskiyou County, CA', u'Kern County, CA', u'Sierra County, CA', u'Tehama County, CA',\n",
      "\n",
      "     u'Santa Clara County, CA'])"
     ],
     "language": "python",
     "metadata": {},
     "outputs": []
    },
    {
     "cell_type": "heading",
     "level": 1,
     "metadata": {},
     "source": [
      "Now we are ready to tally up all states w/ their counties"
     ]
    },
    {
     "cell_type": "code",
     "collapsed": false,
     "input": [
      "for (k, s) in df[is_state][['fips', 'geog_entity', 'POP010210']].iterrows():\n",
      "\n",
      "    print s[\"fips\"],s[\"geog_entity\"], s[\"POP010210\"] == df[counties_for_state(s[\"fips\"])]['POP010210'].sum()"
     ],
     "language": "python",
     "metadata": {},
     "outputs": []
    },
    {
     "cell_type": "heading",
     "level": 2,
     "metadata": {},
     "source": [
      "Do this tally in a slightly different way"
     ]
    },
    {
     "cell_type": "code",
     "collapsed": false,
     "input": [
      "# http://pandas.pydata.org/pandas-docs/stable/generated/pandas.DataFrame.set_index.html#pandas.DataFrame.set_index\n",
      "\n",
      "# p. 150\n",
      "\n",
      "df.set_index('fips', inplace=True, drop=False)"
     ],
     "language": "python",
     "metadata": {},
     "outputs": []
    },
    {
     "cell_type": "code",
     "collapsed": false,
     "input": [
      "for k in df[is_state]['fips']:\n",
      "\n",
      "    print k, df.ix[k][\"geog_entity\"], df.ix[k][\"POP010210\"] == sum(df[counties_for_state(k)]['POP010210'])"
     ],
     "language": "python",
     "metadata": {},
     "outputs": []
    },
    {
     "cell_type": "code",
     "collapsed": false,
     "input": [],
     "language": "python",
     "metadata": {},
     "outputs": []
    },
    {
     "cell_type": "code",
     "collapsed": false,
     "input": [],
     "language": "python",
     "metadata": {},
     "outputs": []
    },
    {
     "cell_type": "code",
     "collapsed": false,
     "input": [],
     "language": "python",
     "metadata": {},
     "outputs": []
    },
    {
     "cell_type": "code",
     "collapsed": false,
     "input": [],
     "language": "python",
     "metadata": {},
     "outputs": []
    },
    {
     "cell_type": "code",
     "collapsed": false,
     "input": [],
     "language": "python",
     "metadata": {},
     "outputs": []
    },
    {
     "cell_type": "code",
     "collapsed": false,
     "input": [],
     "language": "python",
     "metadata": {},
     "outputs": []
    },
    {
     "cell_type": "code",
     "collapsed": false,
     "input": [],
     "language": "python",
     "metadata": {},
     "outputs": [],
     "prompt_number": 143
    },
    {
     "cell_type": "code",
     "collapsed": false,
     "input": [],
     "language": "python",
     "metadata": {},
     "outputs": [],
     "prompt_number": 143
    },
    {
     "cell_type": "code",
     "collapsed": false,
     "input": [],
     "language": "python",
     "metadata": {},
     "outputs": [],
     "prompt_number": 143
    },
    {
     "cell_type": "code",
     "collapsed": false,
     "input": [],
     "language": "python",
     "metadata": {},
     "outputs": [],
     "prompt_number": 143
    },
    {
     "cell_type": "code",
     "collapsed": false,
     "input": [],
     "language": "python",
     "metadata": {},
     "outputs": [],
     "prompt_number": 143
    },
    {
     "cell_type": "code",
     "collapsed": false,
     "input": [],
     "language": "python",
     "metadata": {},
     "outputs": [],
     "prompt_number": 143
    },
    {
     "cell_type": "heading",
     "level": 1,
     "metadata": {},
     "source": [
      "Addendum: ties to operator overloading in Python -- read beyond this point only if really interested!"
     ]
    },
    {
     "cell_type": "code",
     "collapsed": false,
     "input": [
      "n0 = 5\n",
      "\n",
      "n0 == 5"
     ],
     "language": "python",
     "metadata": {},
     "outputs": [
      {
       "output_type": "pyout",
       "prompt_number": 144,
       "text": [
        "True"
       ]
      }
     ],
     "prompt_number": 144
    },
    {
     "cell_type": "markdown",
     "metadata": {},
     "source": [
      "Now I thought I'd be able to use a `n0.__eq__(5)` but nope -- it's complicated -- see http://stackoverflow.com/questions/2281222/why-when-in-python-does-x-y-call-y-eq-x#comment2254663_2282795"
     ]
    },
    {
     "cell_type": "code",
     "collapsed": false,
     "input": [
      "try:\n",
      "\n",
      "    n0.__eq__(5)\n",
      "\n",
      "except Exception as e:\n",
      "\n",
      "    print e"
     ],
     "language": "python",
     "metadata": {},
     "outputs": [
      {
       "output_type": "stream",
       "stream": "stdout",
       "text": [
        "'int' object has no attribute '__eq__'\n"
       ]
      }
     ],
     "prompt_number": 145
    },
    {
     "cell_type": "markdown",
     "metadata": {},
     "source": [
      "can do: `int.__cmp__(x)`"
     ]
    },
    {
     "cell_type": "code",
     "collapsed": false,
     "input": [
      "(n0.__cmp__(4), n0.__cmp__(5), n0.__cmp__(6))"
     ],
     "language": "python",
     "metadata": {},
     "outputs": [
      {
       "output_type": "pyout",
       "prompt_number": 146,
       "text": [
        "(1, 0, -1)"
       ]
      }
     ],
     "prompt_number": 146
    },
    {
     "cell_type": "markdown",
     "metadata": {},
     "source": [
      "how about ndarray?"
     ]
    },
    {
     "cell_type": "code",
     "collapsed": false,
     "input": [
      "arange(5) == 2 "
     ],
     "language": "python",
     "metadata": {},
     "outputs": [
      {
       "output_type": "pyout",
       "prompt_number": 147,
       "text": [
        "array([False, False,  True, False, False], dtype=bool)"
       ]
      }
     ],
     "prompt_number": 147
    },
    {
     "cell_type": "code",
     "collapsed": false,
     "input": [
      "# \n",
      "\n",
      "# http://docs.scipy.org/doc/numpy/reference/generated/numpy.array_equal.html\n",
      "\n",
      "np.array_equal(arange(5) == 2 , arange(5).__eq__(2))"
     ],
     "language": "python",
     "metadata": {},
     "outputs": [
      {
       "output_type": "pyout",
       "prompt_number": 148,
       "text": [
        "True"
       ]
      }
     ],
     "prompt_number": 148
    },
    {
     "cell_type": "heading",
     "level": 2,
     "metadata": {},
     "source": [
      "Appendix: underlying mechanics of slicing"
     ]
    },
    {
     "cell_type": "markdown",
     "metadata": {},
     "source": [
      "Useful if you want to understand how the slicing syntax really works."
     ]
    },
    {
     "cell_type": "code",
     "collapsed": false,
     "input": [
      "isinstance([1,2], list)"
     ],
     "language": "python",
     "metadata": {},
     "outputs": [
      {
       "output_type": "pyout",
       "prompt_number": 149,
       "text": [
        "True"
       ]
      }
     ],
     "prompt_number": 149
    },
    {
     "cell_type": "code",
     "collapsed": false,
     "input": [
      "isinstance(arange(5), list) # what does that mean -- could still be list-like"
     ],
     "language": "python",
     "metadata": {},
     "outputs": [
      {
       "output_type": "pyout",
       "prompt_number": 150,
       "text": [
        "False"
       ]
      }
     ],
     "prompt_number": 150
    },
    {
     "cell_type": "code",
     "collapsed": false,
     "input": [
      "l1 = range(5)"
     ],
     "language": "python",
     "metadata": {},
     "outputs": [],
     "prompt_number": 151
    },
    {
     "cell_type": "code",
     "collapsed": false,
     "input": [
      "type(l1)"
     ],
     "language": "python",
     "metadata": {},
     "outputs": [
      {
       "output_type": "pyout",
       "prompt_number": 152,
       "text": [
        "list"
       ]
      }
     ],
     "prompt_number": 152
    },
    {
     "cell_type": "code",
     "collapsed": false,
     "input": [
      "l1[0], l1.__getitem__(0), l1[0] == l1.__getitem__(0)"
     ],
     "language": "python",
     "metadata": {},
     "outputs": [
      {
       "output_type": "pyout",
       "prompt_number": 153,
       "text": [
        "(0, 0, True)"
       ]
      }
     ],
     "prompt_number": 153
    },
    {
     "cell_type": "code",
     "collapsed": false,
     "input": [
      "l1[::-1], l1.__getitem__(slice(None, None, -1))"
     ],
     "language": "python",
     "metadata": {},
     "outputs": [
      {
       "output_type": "pyout",
       "prompt_number": 154,
       "text": [
        "([4, 3, 2, 1, 0], [4, 3, 2, 1, 0])"
       ]
      }
     ],
     "prompt_number": 154
    },
    {
     "cell_type": "code",
     "collapsed": false,
     "input": [
      "ar1 = arange(5)\n",
      "\n",
      "ar1[3], ar1.__getitem__(3)\n",
      "\n",
      "\n"
     ],
     "language": "python",
     "metadata": {},
     "outputs": [
      {
       "output_type": "pyout",
       "prompt_number": 155,
       "text": [
        "(3, 3)"
       ]
      }
     ],
     "prompt_number": 155
    },
    {
     "cell_type": "code",
     "collapsed": false,
     "input": [
      "ar1 == 2"
     ],
     "language": "python",
     "metadata": {},
     "outputs": [
      {
       "output_type": "pyout",
       "prompt_number": 156,
       "text": [
        "array([False, False,  True, False, False], dtype=bool)"
       ]
      }
     ],
     "prompt_number": 156
    },
    {
     "cell_type": "code",
     "collapsed": false,
     "input": [
      "ar1[ar1 == 2].shape"
     ],
     "language": "python",
     "metadata": {},
     "outputs": [
      {
       "output_type": "pyout",
       "prompt_number": 157,
       "text": [
        "(1,)"
       ]
      }
     ],
     "prompt_number": 157
    },
    {
     "cell_type": "code",
     "collapsed": false,
     "input": [
      "ar1.__eq__(2)"
     ],
     "language": "python",
     "metadata": {},
     "outputs": [
      {
       "output_type": "pyout",
       "prompt_number": 158,
       "text": [
        "array([False, False,  True, False, False], dtype=bool)"
       ]
      }
     ],
     "prompt_number": 158
    },
    {
     "cell_type": "code",
     "collapsed": false,
     "input": [
      "ar1.__getitem__(slice(2, 4, None))"
     ],
     "language": "python",
     "metadata": {},
     "outputs": [
      {
       "output_type": "pyout",
       "prompt_number": 159,
       "text": [
        "array([2, 3])"
       ]
      }
     ],
     "prompt_number": 159
    },
    {
     "cell_type": "code",
     "collapsed": false,
     "input": [
      "slice(ar1.__eq__(2), None, None)"
     ],
     "language": "python",
     "metadata": {},
     "outputs": [
      {
       "output_type": "pyout",
       "prompt_number": 160,
       "text": [
        "slice(array([False, False,  True, False, False], dtype=bool), None, None)"
       ]
      }
     ],
     "prompt_number": 160
    },
    {
     "cell_type": "code",
     "collapsed": false,
     "input": [
      "ar1.__getitem__(ar1.__eq__(2))"
     ],
     "language": "python",
     "metadata": {},
     "outputs": [
      {
       "output_type": "pyout",
       "prompt_number": 161,
       "text": [
        "array([2])"
       ]
      }
     ],
     "prompt_number": 161
    },
    {
     "cell_type": "code",
     "collapsed": false,
     "input": [
      "ar1[:2], ar1.__getitem__(slice(2))"
     ],
     "language": "python",
     "metadata": {},
     "outputs": [
      {
       "output_type": "pyout",
       "prompt_number": 162,
       "text": [
        "(array([0, 1]), array([0, 1]))"
       ]
      }
     ],
     "prompt_number": 162
    },
    {
     "cell_type": "code",
     "collapsed": false,
     "input": [
      "ar1 + 7"
     ],
     "language": "python",
     "metadata": {},
     "outputs": [
      {
       "output_type": "pyout",
       "prompt_number": 163,
       "text": [
        "array([ 7,  8,  9, 10, 11])"
       ]
      }
     ],
     "prompt_number": 163
    },
    {
     "cell_type": "code",
     "collapsed": false,
     "input": [
      "ar1.__add__(7)"
     ],
     "language": "python",
     "metadata": {},
     "outputs": [
      {
       "output_type": "pyout",
       "prompt_number": 164,
       "text": [
        "array([ 7,  8,  9, 10, 11])"
       ]
      }
     ],
     "prompt_number": 164
    },
    {
     "cell_type": "code",
     "collapsed": false,
     "input": [
      "min(ar1 + 7)"
     ],
     "language": "python",
     "metadata": {},
     "outputs": [
      {
       "output_type": "pyout",
       "prompt_number": 165,
       "text": [
        "7"
       ]
      }
     ],
     "prompt_number": 165
    },
    {
     "cell_type": "code",
     "collapsed": false,
     "input": [
      "alphabet[:]"
     ],
     "language": "python",
     "metadata": {},
     "outputs": [
      {
       "output_type": "pyout",
       "prompt_number": 166,
       "text": [
        "'abcdefghijklmnopqrstuvwxyz'"
       ]
      }
     ],
     "prompt_number": 166
    }
   ],
   "metadata": {}
  }
 ]
}