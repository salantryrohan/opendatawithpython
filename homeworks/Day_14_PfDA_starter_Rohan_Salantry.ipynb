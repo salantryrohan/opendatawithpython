{
 "metadata": {
  "name": "Day_14_PfDA_starter"
 },
 "nbformat": 3,
 "nbformat_minor": 0,
 "worksheets": [
  {
   "cells": [
    {
     "cell_type": "markdown",
     "metadata": {},
     "source": [
      "**Chapter 2, 3 of PDA**"
     ]
    },
    {
     "cell_type": "code",
     "collapsed": false,
     "input": [
      "import matplotlib.pyplot as plt\n",
      "\n",
      "import numpy as np\n",
      "\n",
      "\n",
      "\n",
      "from pylab import figure, show\n",
      "\n",
      "\n",
      "\n",
      "from pandas import DataFrame, Series\n",
      "\n",
      "import pandas as pd"
     ],
     "language": "python",
     "metadata": {},
     "outputs": [],
     "prompt_number": 5
    },
    {
     "cell_type": "heading",
     "level": 1,
     "metadata": {},
     "source": [
      "Preliminaries: Assumed location of pydata-book files"
     ]
    },
    {
     "cell_type": "markdown",
     "metadata": {},
     "source": [
      "To make it more practical for me to look at your homework, I'm again going to assume a relative placement of files.  I placed the files from \n",
      "\n",
      "\n",
      "\n",
      "https://github.com/pydata/pydata-book\n",
      "\n",
      "\n",
      "\n",
      "in a local directory, which in my case is \"/Users/raymondyee/D/Document/Working_with_Open_Data/pydata-book/\" \n",
      "\n",
      "\n",
      "\n",
      "and then symbolically linked (`ln -s`) to the the pydata-book from the root directory of the working-open-data folder.  i.e., on OS X\n",
      "\n",
      "\n",
      "\n",
      "    cd /Users/raymondyee/D/Document/Working_with_Open_Data/working-open-data\n",
      "\n",
      "    ln -s /Users/raymondyee/D/Document/Working_with_Open_Data/pydata-book/ pydata-book\n",
      "\n",
      "\n",
      "\n",
      "That way the files from the pydata-book repository look like they sit in the working-open-data directory -- without having to actually copy the files.\n",
      "\n",
      "\n",
      "\n",
      "With this arrangment, I should then be able to drop your notebook into my own notebooks directory and run them without having to mess around with paths."
     ]
    },
    {
     "cell_type": "code",
     "collapsed": false,
     "input": [
      "import os\n",
      "\n",
      "\n",
      "\n",
      "USAGOV_BITLY_PATH = os.path.join(os.pardir, \"pydata-book\", \"ch02\", \"usagov_bitly_data2012-03-16-1331923249.txt\")\n",
      "\n",
      "MOVIELENS_DIR = os.path.join(os.pardir, \"pydata-book\", \"ch02\", \"movielens\")\n",
      "\n",
      "NAMES_DIR = os.path.join(os.pardir, \"pydata-book\", \"ch02\", \"names\")\n",
      "\n",
      "\n",
      "\n",
      "assert os.path.exists(USAGOV_BITLY_PATH)\n",
      "\n",
      "assert os.path.exists(MOVIELENS_DIR)\n",
      "\n",
      "assert os.path.exists(NAMES_DIR)"
     ],
     "language": "python",
     "metadata": {},
     "outputs": [],
     "prompt_number": 2
    },
    {
     "cell_type": "markdown",
     "metadata": {},
     "source": [
      "**Please make sure the above assertions work**"
     ]
    },
    {
     "cell_type": "heading",
     "level": 1,
     "metadata": {},
     "source": [
      "usa.gov bit.ly example"
     ]
    },
    {
     "cell_type": "markdown",
     "metadata": {},
     "source": [
      "(`PfDA`, p. 18)\n",
      "\n",
      "\n",
      "\n",
      "*What's in the data file?*\n",
      "\n",
      "\n",
      "\n",
      "<http://my.safaribooksonline.com/book/programming/python/9781449323592/2dot-introductory-examples/id2802197> :\n",
      "\n",
      "    \n",
      "\n",
      "> In 2011, URL shortening service bit.ly partnered with the United States government website usa.gov to provide a feed of anonymous data gathered from users who shorten links ending with .gov or .mil.\n",
      "\n",
      "    \n",
      "\n",
      "Hourly archive of data: <http://bitly.measuredvoice.com/bitly_archive/?C=M;O=D>"
     ]
    },
    {
     "cell_type": "code",
     "collapsed": false,
     "input": [
      "open(USAGOV_BITLY_PATH).readline()"
     ],
     "language": "python",
     "metadata": {},
     "outputs": [
      {
       "output_type": "pyout",
       "prompt_number": 4,
       "text": [
        "'{ \"a\": \"Mozilla\\\\/5.0 (Windows NT 6.1; WOW64) AppleWebKit\\\\/535.11 (KHTML, like Gecko) Chrome\\\\/17.0.963.78 Safari\\\\/535.11\", \"c\": \"US\", \"nk\": 1, \"tz\": \"America\\\\/New_York\", \"gr\": \"MA\", \"g\": \"A6qOVH\", \"h\": \"wfLQtf\", \"l\": \"orofrog\", \"al\": \"en-US,en;q=0.8\", \"hh\": \"1.usa.gov\", \"r\": \"http:\\\\/\\\\/www.facebook.com\\\\/l\\\\/7AQEFzjSi\\\\/1.usa.gov\\\\/wfLQtf\", \"u\": \"http:\\\\/\\\\/www.ncbi.nlm.nih.gov\\\\/pubmed\\\\/22415991\", \"t\": 1331923247, \"hc\": 1331822918, \"cy\": \"Danvers\", \"ll\": [ 42.576698, -70.954903 ] }\\n'"
       ]
      }
     ],
     "prompt_number": 4
    },
    {
     "cell_type": "code",
     "collapsed": false,
     "input": [
      "import json\n",
      "\n",
      "records = [json.loads(line) for line in open(USAGOV_BITLY_PATH)]  # list comprehension"
     ],
     "language": "python",
     "metadata": {},
     "outputs": [],
     "prompt_number": 62
    },
    {
     "cell_type": "heading",
     "level": 2,
     "metadata": {},
     "source": [
      "Counting Time Zones with pandas"
     ]
    },
    {
     "cell_type": "markdown",
     "metadata": {},
     "source": [
      "Recall what `records` is"
     ]
    },
    {
     "cell_type": "code",
     "collapsed": false,
     "input": [
      "len(records)"
     ],
     "language": "python",
     "metadata": {},
     "outputs": [
      {
       "output_type": "pyout",
       "prompt_number": 6,
       "text": [
        "3560"
       ]
      }
     ],
     "prompt_number": 6
    },
    {
     "cell_type": "code",
     "collapsed": false,
     "input": [
      "# list of dict -> DataFrame\n",
      "\n",
      "\n",
      "\n",
      "frame = DataFrame(records)"
     ],
     "language": "python",
     "metadata": {},
     "outputs": [],
     "prompt_number": 64
    },
    {
     "cell_type": "code",
     "collapsed": false,
     "input": [
      "frame"
     ],
     "language": "python",
     "metadata": {},
     "outputs": [
      {
       "output_type": "pyout",
       "prompt_number": 65,
       "text": [
        "<class 'pandas.core.frame.DataFrame'>\n",
        "Int64Index: 3560 entries, 0 to 3559\n",
        "Data columns:\n",
        "_heartbeat_    120  non-null values\n",
        "a              3440  non-null values\n",
        "al             3094  non-null values\n",
        "c              2919  non-null values\n",
        "cy             2919  non-null values\n",
        "g              3440  non-null values\n",
        "gr             2919  non-null values\n",
        "h              3440  non-null values\n",
        "hc             3440  non-null values\n",
        "hh             3440  non-null values\n",
        "kw             93  non-null values\n",
        "l              3440  non-null values\n",
        "ll             2919  non-null values\n",
        "nk             3440  non-null values\n",
        "r              3440  non-null values\n",
        "t              3440  non-null values\n",
        "tz             3440  non-null values\n",
        "u              3440  non-null values\n",
        "dtypes: float64(4), object(14)"
       ]
      }
     ],
     "prompt_number": 65
    },
    {
     "cell_type": "code",
     "collapsed": false,
     "input": [
      "tz_counts = frame['tz'].value_counts()"
     ],
     "language": "python",
     "metadata": {},
     "outputs": [],
     "prompt_number": 9
    },
    {
     "cell_type": "code",
     "collapsed": false,
     "input": [
      "tz_counts[:10]"
     ],
     "language": "python",
     "metadata": {},
     "outputs": [
      {
       "output_type": "pyout",
       "prompt_number": 10,
       "text": [
        "America/New_York       1251\n",
        "                        521\n",
        "America/Chicago         400\n",
        "America/Los_Angeles     382\n",
        "America/Denver          191\n",
        "Europe/London            74\n",
        "Asia/Tokyo               37\n",
        "Pacific/Honolulu         36\n",
        "Europe/Madrid            35\n",
        "America/Sao_Paulo        33"
       ]
      }
     ],
     "prompt_number": 10
    },
    {
     "cell_type": "code",
     "collapsed": false,
     "input": [
      "# fillna\n",
      "\n",
      "\n",
      "\n",
      "clean_tz = frame['tz'].fillna('Missing')\n",
      "\n",
      "tz_counts = clean_tz.value_counts()\n",
      "\n",
      "\n",
      "\n",
      "print tz_counts[:10]"
     ],
     "language": "python",
     "metadata": {},
     "outputs": [
      {
       "output_type": "stream",
       "stream": "stdout",
       "text": [
        "America/New_York       1251\n",
        "                        521\n",
        "America/Chicago         400\n",
        "America/Los_Angeles     382\n",
        "America/Denver          191\n",
        "Missing                 120\n",
        "Europe/London            74\n",
        "Asia/Tokyo               37\n",
        "Pacific/Honolulu         36\n",
        "Europe/Madrid            35\n"
       ]
      }
     ],
     "prompt_number": 7
    },
    {
     "cell_type": "code",
     "collapsed": false,
     "input": [
      "(clean_tz == '').value_counts()"
     ],
     "language": "python",
     "metadata": {},
     "outputs": [
      {
       "output_type": "pyout",
       "prompt_number": 12,
       "text": [
        "False    3039\n",
        "True      521"
       ]
      }
     ],
     "prompt_number": 12
    },
    {
     "cell_type": "code",
     "collapsed": false,
     "input": [
      "# '' -> 'Unknown'\n",
      "\n",
      "clean_tz[clean_tz == ''] = 'Unknown'"
     ],
     "language": "python",
     "metadata": {},
     "outputs": [
      {
       "output_type": "stream",
       "stream": "stdout",
       "text": [
        "<class 'pandas.core.series.Series'>\n"
       ]
      }
     ],
     "prompt_number": 67
    },
    {
     "cell_type": "code",
     "collapsed": false,
     "input": [
      "tz_counts = clean_tz.value_counts()"
     ],
     "language": "python",
     "metadata": {},
     "outputs": [],
     "prompt_number": 9
    },
    {
     "cell_type": "code",
     "collapsed": false,
     "input": [
      "tz_counts[:10]"
     ],
     "language": "python",
     "metadata": {},
     "outputs": [
      {
       "output_type": "pyout",
       "prompt_number": 15,
       "text": [
        "America/New_York       1251\n",
        "Unknown                 521\n",
        "America/Chicago         400\n",
        "America/Los_Angeles     382\n",
        "America/Denver          191\n",
        "Missing                 120\n",
        "Europe/London            74\n",
        "Asia/Tokyo               37\n",
        "Pacific/Honolulu         36\n",
        "Europe/Madrid            35"
       ]
      }
     ],
     "prompt_number": 15
    },
    {
     "cell_type": "code",
     "collapsed": false,
     "input": [
      "frame['a'][1]\n",
      "\n",
      "frame['a'][50]\n",
      "\n",
      "frame['a'][51]"
     ],
     "language": "python",
     "metadata": {},
     "outputs": [
      {
       "output_type": "pyout",
       "prompt_number": 16,
       "text": [
        "u'Mozilla/5.0 (Linux; U; Android 2.2.2; en-us; LG-P925/V10e Build/FRG83G) AppleWebKit/533.1 (KHTML, like Gecko) Version/4.0 Mobile Safari/533.1'"
       ]
      }
     ],
     "prompt_number": 16
    },
    {
     "cell_type": "code",
     "collapsed": false,
     "input": [
      "tz_counts[:10].plot(kind='barh', rot=0)"
     ],
     "language": "python",
     "metadata": {},
     "outputs": [
      {
       "output_type": "pyout",
       "prompt_number": 17,
       "text": [
        "<matplotlib.axes.AxesSubplot at 0x7555410>"
       ]
      }
     ],
     "prompt_number": 17
    },
    {
     "cell_type": "code",
     "collapsed": false,
     "input": [
      "results = Series([x.split()[0] for x in frame.a.dropna()])"
     ],
     "language": "python",
     "metadata": {},
     "outputs": [],
     "prompt_number": 18
    },
    {
     "cell_type": "code",
     "collapsed": false,
     "input": [
      "results[:5]"
     ],
     "language": "python",
     "metadata": {},
     "outputs": [
      {
       "output_type": "pyout",
       "prompt_number": 19,
       "text": [
        "0               Mozilla/5.0\n",
        "1    GoogleMaps/RochesterNY\n",
        "2               Mozilla/4.0\n",
        "3               Mozilla/5.0\n",
        "4               Mozilla/5.0"
       ]
      }
     ],
     "prompt_number": 19
    },
    {
     "cell_type": "code",
     "collapsed": false,
     "input": [
      "results.value_counts()[:8]"
     ],
     "language": "python",
     "metadata": {},
     "outputs": [
      {
       "output_type": "pyout",
       "prompt_number": 20,
       "text": [
        "Mozilla/5.0                 2594\n",
        "Mozilla/4.0                  601\n",
        "GoogleMaps/RochesterNY       121\n",
        "Opera/9.80                    34\n",
        "TEST_INTERNET_AGENT           24\n",
        "GoogleProducer                21\n",
        "Mozilla/6.0                    5\n",
        "BlackBerry8520/5.0.0.681       4"
       ]
      }
     ],
     "prompt_number": 20
    },
    {
     "cell_type": "code",
     "collapsed": false,
     "input": [
      "frame.a.notnull()"
     ],
     "language": "python",
     "metadata": {},
     "outputs": [
      {
       "output_type": "pyout",
       "prompt_number": 10,
       "text": [
        "0      True\n",
        "1      True\n",
        "2      True\n",
        "3      True\n",
        "4      True\n",
        "5      True\n",
        "6      True\n",
        "7      True\n",
        "8      True\n",
        "9      True\n",
        "10     True\n",
        "11     True\n",
        "12     True\n",
        "13    False\n",
        "14     True\n",
        "...\n",
        "3545    True\n",
        "3546    True\n",
        "3547    True\n",
        "3548    True\n",
        "3549    True\n",
        "3550    True\n",
        "3551    True\n",
        "3552    True\n",
        "3553    True\n",
        "3554    True\n",
        "3555    True\n",
        "3556    True\n",
        "3557    True\n",
        "3558    True\n",
        "3559    True\n",
        "Length: 3560"
       ]
      }
     ],
     "prompt_number": 10
    },
    {
     "cell_type": "code",
     "collapsed": false,
     "input": [
      "frame[frame.a.notnull()]"
     ],
     "language": "python",
     "metadata": {},
     "outputs": [
      {
       "output_type": "pyout",
       "prompt_number": 22,
       "text": [
        "<class 'pandas.core.frame.DataFrame'>\n",
        "Int64Index: 3440 entries, 0 to 3559\n",
        "Data columns:\n",
        "_heartbeat_    0  non-null values\n",
        "a              3440  non-null values\n",
        "al             3094  non-null values\n",
        "c              2919  non-null values\n",
        "cy             2919  non-null values\n",
        "g              3440  non-null values\n",
        "gr             2919  non-null values\n",
        "h              3440  non-null values\n",
        "hc             3440  non-null values\n",
        "hh             3440  non-null values\n",
        "kw             93  non-null values\n",
        "l              3440  non-null values\n",
        "ll             2919  non-null values\n",
        "nk             3440  non-null values\n",
        "r              3440  non-null values\n",
        "t              3440  non-null values\n",
        "tz             3440  non-null values\n",
        "u              3440  non-null values\n",
        "dtypes: float64(4), object(14)"
       ]
      }
     ],
     "prompt_number": 22
    },
    {
     "cell_type": "code",
     "collapsed": false,
     "input": [
      "cframe = frame[frame.a.notnull()]"
     ],
     "language": "python",
     "metadata": {},
     "outputs": [],
     "prompt_number": 68
    },
    {
     "cell_type": "heading",
     "level": 2,
     "metadata": {},
     "source": [
      "Let's look at the lat/long in the data"
     ]
    },
    {
     "cell_type": "markdown",
     "metadata": {},
     "source": [
      "meaning of other attributes?\n",
      "\n",
      "\n",
      "\n",
      "\n",
      "\n",
      "http://www.usa.gov/About/developer-resources/1usagov.shtml#data\n",
      "\n",
      "\n",
      "\n",
      "\n",
      "\n",
      "\n"
     ]
    },
    {
     "cell_type": "code",
     "collapsed": false,
     "input": [
      "frame.ll.notnull()"
     ],
     "language": "python",
     "metadata": {},
     "outputs": [
      {
       "output_type": "pyout",
       "prompt_number": 69,
       "text": [
        "0      True\n",
        "1      True\n",
        "2      True\n",
        "3      True\n",
        "4      True\n",
        "5      True\n",
        "6      True\n",
        "7     False\n",
        "8     False\n",
        "9     False\n",
        "10     True\n",
        "11     True\n",
        "12     True\n",
        "13    False\n",
        "14     True\n",
        "...\n",
        "3545     True\n",
        "3546     True\n",
        "3547     True\n",
        "3548     True\n",
        "3549     True\n",
        "3550     True\n",
        "3551    False\n",
        "3552     True\n",
        "3553     True\n",
        "3554     True\n",
        "3555     True\n",
        "3556     True\n",
        "3557     True\n",
        "3558     True\n",
        "3559     True\n",
        "Length: 3560"
       ]
      }
     ],
     "prompt_number": 69
    },
    {
     "cell_type": "heading",
     "level": 2,
     "metadata": {},
     "source": [
      "EXERCISE: plot the points represented in frame.ll on a Mercator projected map"
     ]
    },
    {
     "cell_type": "markdown",
     "metadata": {},
     "source": [
      "Hints:\n",
      "\n",
      "\n",
      "\n",
      "* create a naive scatter plot first\n",
      "\n",
      "* might want to use `apply` on `Series`\n",
      "\n",
      "* look at the Mercator example for Boulder, CA (in Day_14_basemap_redux) -- do the mapping by a loop and then vectorize the operation"
     ]
    },
    {
     "cell_type": "heading",
     "level": 2,
     "metadata": {},
     "source": [
      "Exercise:  confirm the value of the earliest and latest of the timestamps -- compute earliest_dt, latest_dt"
     ]
    },
    {
     "cell_type": "code",
     "collapsed": false,
     "input": [
      "\n",
      "# http://matplotlib.org/basemap/users/mapcoords.html\n",
      "\n",
      "from mpl_toolkits.basemap import Basemap\n",
      "import matplotlib.pyplot as plt\n",
      "import numpy as np\n",
      "\n",
      "def extractlat(item):\n",
      "    return item[0]\n",
      "def extractlong(item):\n",
      "    return item[1]\n",
      "\n",
      "print frame['ll'].dropna()[0:5]\n",
      "latlist = frame['ll'].dropna().apply(extractlat)\n",
      "longlist = frame['ll'].dropna().apply(extractlong)\n",
      "\n",
      "print latlist[0:5]\n",
      "print longlist[0:5]\n",
      "\n",
      "# setup Lambert Conformal basemap.\n",
      "m = Basemap(width=12000000,height=9000000,projection='lcc',\n",
      "            resolution='c',lat_1=45.,lat_2=55,lat_0=50,lon_0=-107.)\n",
      "\n",
      "# draw a boundary around the map, fill the background.\n",
      "# this background will end up being the ocean color, since\n",
      "# the continents will be drawn on top.\n",
      "m.drawmapboundary(fill_color='aqua')\n",
      "# fill continents, set lake color same as ocean color.\n",
      "m.fillcontinents(color='coral',lake_color='aqua')\n",
      "\n",
      "# draw state boundaries too\n",
      "# http://matplotlib.org/basemap/api/basemap_api.html#mpl_toolkits.basemap.Basemap.drawstates\n",
      "m.drawstates(linewidth=0.1)\n",
      "\n",
      "\n",
      "# draw parallels and meridians.\n",
      "# label parallels on right and top\n",
      "# meridians on bottom and left\n",
      "parallels = np.arange(0.,81,10.)\n",
      "# labels = [left,right,top,bottom]\n",
      "m.drawparallels(parallels,labels=[False,True,True,False])\n",
      "meridians = np.arange(10.,351.,20.)\n",
      "m.drawmeridians(meridians,labels=[True,False,False,True])\n",
      "\n",
      "\n",
      "# plot blue dot on Boulder, colorado and label it as such.\n",
      "# lon, lat = -104.237, 40.125 # Location of Boulder\n",
      "lon = longlist\n",
      "lat = latlist\n",
      "\n",
      "# convert to map projection coords.\n",
      "# Note that lon,lat can be scalars, lists or numpy arrays.\n",
      "xpt,ypt = m(lon,lat)\n",
      "# convert back to lat/lon\n",
      "lonpt, latpt = m(xpt,ypt,inverse=True)\n",
      "m.plot(xpt,ypt,'bo')  # plot a blue dot there\n",
      "# put some text next to the dot, offset a little bit\n",
      "# (the offset is in map projection coordinates)\n",
      "#plt.text(xpt+100000,ypt+100000,'Boulder (%5.1fW,%3.1fN)' % (lonpt,latpt))\n",
      "plt.show()\n",
      "\n",
      "\n"
     ],
     "language": "python",
     "metadata": {},
     "outputs": [
      {
       "output_type": "stream",
       "stream": "stdout",
       "text": [
        "0     [42.576698, -70.954903]\n",
        "1    [40.218102, -111.613297]\n",
        "2       [38.9007, -77.043098]\n",
        "3    [-23.549999, -46.616699]\n",
        "4     [42.286499, -71.714699]\n",
        "Name: ll\n",
        "0    42.576698\n",
        "1    40.218102\n",
        "2    38.900700\n",
        "3   -23.549999\n",
        "4    42.286499\n",
        "Name: ll\n",
        "0    -70.954903\n",
        "1   -111.613297\n",
        "2    -77.043098\n",
        "3    -46.616699\n",
        "4    -71.714699\n",
        "Name: ll\n"
       ]
      }
     ],
     "prompt_number": 84
    },
    {
     "cell_type": "code",
     "collapsed": false,
     "input": [
      "# FILL IN w\n",
      "\n",
      "frame.t.dropna().apply(datetime.datetime.fromtimestamp)\n",
      "\n",
      "earliest_dt = datetime.datetime.fromtimestamp(min(frame.t.dropna()))\n",
      "latest_dt =  datetime.datetime.fromtimestamp(max(frame.t.dropna()))\n",
      "\n",
      "assert earliest_dt == datetime.datetime(2012, 3, 16, 11, 40, 47)\n",
      "\n",
      "assert latest_dt == datetime.datetime(2012, 3, 16, 12, 40, 49)"
     ],
     "language": "python",
     "metadata": {},
     "outputs": [],
     "prompt_number": 13
    },
    {
     "cell_type": "heading",
     "level": 2,
     "metadata": {},
     "source": [
      "Exercise: calculate how often a given net location appears in frame.u\n",
      "\n",
      "\n"
     ]
    },
    {
     "cell_type": "markdown",
     "metadata": {},
     "source": [
      "Hints:\n",
      "\n",
      "\n",
      "\n",
      "* compute `netlocs` as a Series, indexed by Network location part (<http://docs.python.org/2/library/urlparse.html>) of `frame.u`, and holding the number of times that netloc occurs in `frame.u` and sorted in descending order by that number.\n",
      "\n",
      "* for full marks, you must use a numpy based approach not a classic Python looping approach"
     ]
    },
    {
     "cell_type": "code",
     "collapsed": false,
     "input": [
      "from urlparse import urlparse\n",
      "\n",
      "def getloc(urlobj):\n",
      "    return urlobj.netloc\n",
      "\n",
      "netseries = frame.u.dropna()\n",
      "netseries_1 = netseries.apply(urlparse)\n",
      "netlocs = netseries_1.apply(getloc).value_counts()\n",
      "\n"
     ],
     "language": "python",
     "metadata": {},
     "outputs": [],
     "prompt_number": 38
    },
    {
     "cell_type": "code",
     "collapsed": false,
     "input": [
      "# FILL IN\n",
      "\n",
      "\n",
      "# https://github.com/pydata/pandas/issues/240\n",
      "\n",
      "assert isinstance(netlocs, Series)\n",
      "\n",
      "assert set(list(netlocs[:5].iteritems())) == set([(u'www.whitehouse.gov', 169),\n",
      "\n",
      "     (u'www.monroecounty.gov', 121),\n",
      "\n",
      "     (u'www.fda.gov', 112),\n",
      "\n",
      "     (u'www.nasa.gov', 733),\n",
      "\n",
      "     (u'www.nysdot.gov', 836)])"
     ],
     "language": "python",
     "metadata": {},
     "outputs": [],
     "prompt_number": 39
    },
    {
     "cell_type": "heading",
     "level": 1,
     "metadata": {},
     "source": [
      "Baby names dataset"
     ]
    },
    {
     "cell_type": "code",
     "collapsed": false,
     "input": [
      "import pandas as pd\n",
      "\n",
      "import codecs\n",
      "\n",
      "\n",
      "\n",
      "names1880_file = codecs.open(os.path.join(NAMES_DIR,'yob2010.txt'), encoding='iso-8859-1')\n",
      "\n",
      "names1880 = pd.read_csv(names1880_file, names=['name', 'sex', 'births'])\n",
      "\n",
      "\n",
      "\n",
      "names1880"
     ],
     "language": "python",
     "metadata": {},
     "outputs": [
      {
       "output_type": "pyout",
       "prompt_number": 40,
       "text": [
        "<class 'pandas.core.frame.DataFrame'>\n",
        "Int64Index: 33838 entries, 0 to 33837\n",
        "Data columns:\n",
        "name      33838  non-null values\n",
        "sex       33838  non-null values\n",
        "births    33838  non-null values\n",
        "dtypes: int64(1), object(2)"
       ]
      }
     ],
     "prompt_number": 40
    },
    {
     "cell_type": "code",
     "collapsed": false,
     "input": [
      "# sort by name\n",
      "names1880.sort('births', ascending=False)[:10]"
     ],
     "language": "python",
     "metadata": {},
     "outputs": [
      {
       "html": [
        "<div style=\"max-height:1000px;max-width:1500px;overflow:auto;\">\n",
        "<table border=\"1\" class=\"dataframe\">\n",
        "  <thead>\n",
        "    <tr style=\"text-align: right;\">\n",
        "      <th></th>\n",
        "      <th>name</th>\n",
        "      <th>sex</th>\n",
        "      <th>births</th>\n",
        "    </tr>\n",
        "  </thead>\n",
        "  <tbody>\n",
        "    <tr>\n",
        "      <th>0    </th>\n",
        "      <td>  Isabella</td>\n",
        "      <td> F</td>\n",
        "      <td> 22731</td>\n",
        "    </tr>\n",
        "    <tr>\n",
        "      <th>19698</th>\n",
        "      <td>     Jacob</td>\n",
        "      <td> M</td>\n",
        "      <td> 21875</td>\n",
        "    </tr>\n",
        "    <tr>\n",
        "      <th>1    </th>\n",
        "      <td>    Sophia</td>\n",
        "      <td> F</td>\n",
        "      <td> 20477</td>\n",
        "    </tr>\n",
        "    <tr>\n",
        "      <th>19699</th>\n",
        "      <td>     Ethan</td>\n",
        "      <td> M</td>\n",
        "      <td> 17866</td>\n",
        "    </tr>\n",
        "    <tr>\n",
        "      <th>2    </th>\n",
        "      <td>      Emma</td>\n",
        "      <td> F</td>\n",
        "      <td> 17179</td>\n",
        "    </tr>\n",
        "    <tr>\n",
        "      <th>19700</th>\n",
        "      <td>   Michael</td>\n",
        "      <td> M</td>\n",
        "      <td> 17133</td>\n",
        "    </tr>\n",
        "    <tr>\n",
        "      <th>19701</th>\n",
        "      <td>    Jayden</td>\n",
        "      <td> M</td>\n",
        "      <td> 17030</td>\n",
        "    </tr>\n",
        "    <tr>\n",
        "      <th>19702</th>\n",
        "      <td>   William</td>\n",
        "      <td> M</td>\n",
        "      <td> 16870</td>\n",
        "    </tr>\n",
        "    <tr>\n",
        "      <th>3    </th>\n",
        "      <td>    Olivia</td>\n",
        "      <td> F</td>\n",
        "      <td> 16860</td>\n",
        "    </tr>\n",
        "    <tr>\n",
        "      <th>19703</th>\n",
        "      <td> Alexander</td>\n",
        "      <td> M</td>\n",
        "      <td> 16634</td>\n",
        "    </tr>\n",
        "  </tbody>\n",
        "</table>\n",
        "</div>"
       ],
       "output_type": "pyout",
       "prompt_number": 41,
       "text": [
        "            name sex  births\n",
        "0       Isabella   F   22731\n",
        "19698      Jacob   M   21875\n",
        "1         Sophia   F   20477\n",
        "19699      Ethan   M   17866\n",
        "2           Emma   F   17179\n",
        "19700    Michael   M   17133\n",
        "19701     Jayden   M   17030\n",
        "19702    William   M   16870\n",
        "3         Olivia   F   16860\n",
        "19703  Alexander   M   16634"
       ]
      }
     ],
     "prompt_number": 41
    },
    {
     "cell_type": "code",
     "collapsed": false,
     "input": [
      "names1880[names1880.sex == 'F'].sort('births', ascending=False)[:10]"
     ],
     "language": "python",
     "metadata": {},
     "outputs": [
      {
       "html": [
        "<div style=\"max-height:1000px;max-width:1500px;overflow:auto;\">\n",
        "<table border=\"1\" class=\"dataframe\">\n",
        "  <thead>\n",
        "    <tr style=\"text-align: right;\">\n",
        "      <th></th>\n",
        "      <th>name</th>\n",
        "      <th>sex</th>\n",
        "      <th>births</th>\n",
        "    </tr>\n",
        "  </thead>\n",
        "  <tbody>\n",
        "    <tr>\n",
        "      <th>0</th>\n",
        "      <td> Isabella</td>\n",
        "      <td> F</td>\n",
        "      <td> 22731</td>\n",
        "    </tr>\n",
        "    <tr>\n",
        "      <th>1</th>\n",
        "      <td>   Sophia</td>\n",
        "      <td> F</td>\n",
        "      <td> 20477</td>\n",
        "    </tr>\n",
        "    <tr>\n",
        "      <th>2</th>\n",
        "      <td>     Emma</td>\n",
        "      <td> F</td>\n",
        "      <td> 17179</td>\n",
        "    </tr>\n",
        "    <tr>\n",
        "      <th>3</th>\n",
        "      <td>   Olivia</td>\n",
        "      <td> F</td>\n",
        "      <td> 16860</td>\n",
        "    </tr>\n",
        "    <tr>\n",
        "      <th>4</th>\n",
        "      <td>      Ava</td>\n",
        "      <td> F</td>\n",
        "      <td> 15300</td>\n",
        "    </tr>\n",
        "    <tr>\n",
        "      <th>5</th>\n",
        "      <td>    Emily</td>\n",
        "      <td> F</td>\n",
        "      <td> 14172</td>\n",
        "    </tr>\n",
        "    <tr>\n",
        "      <th>6</th>\n",
        "      <td>  Abigail</td>\n",
        "      <td> F</td>\n",
        "      <td> 14124</td>\n",
        "    </tr>\n",
        "    <tr>\n",
        "      <th>7</th>\n",
        "      <td>  Madison</td>\n",
        "      <td> F</td>\n",
        "      <td> 13070</td>\n",
        "    </tr>\n",
        "    <tr>\n",
        "      <th>8</th>\n",
        "      <td>    Chloe</td>\n",
        "      <td> F</td>\n",
        "      <td> 11656</td>\n",
        "    </tr>\n",
        "    <tr>\n",
        "      <th>9</th>\n",
        "      <td>      Mia</td>\n",
        "      <td> F</td>\n",
        "      <td> 10541</td>\n",
        "    </tr>\n",
        "  </tbody>\n",
        "</table>\n",
        "</div>"
       ],
       "output_type": "pyout",
       "prompt_number": 42,
       "text": [
        "       name sex  births\n",
        "0  Isabella   F   22731\n",
        "1    Sophia   F   20477\n",
        "2      Emma   F   17179\n",
        "3    Olivia   F   16860\n",
        "4       Ava   F   15300\n",
        "5     Emily   F   14172\n",
        "6   Abigail   F   14124\n",
        "7   Madison   F   13070\n",
        "8     Chloe   F   11656\n",
        "9       Mia   F   10541"
       ]
      }
     ],
     "prompt_number": 42
    },
    {
     "cell_type": "code",
     "collapsed": false,
     "input": [
      "names1880['births'].plot()"
     ],
     "language": "python",
     "metadata": {},
     "outputs": []
    },
    {
     "cell_type": "code",
     "collapsed": false,
     "input": [
      "names1880['births'].order(ascending=False).plot()\n"
     ],
     "language": "python",
     "metadata": {},
     "outputs": []
    },
    {
     "cell_type": "code",
     "collapsed": false,
     "input": [
      "names1880['births'].order(ascending=False).cumsum().plot()"
     ],
     "language": "python",
     "metadata": {},
     "outputs": []
    },
    {
     "cell_type": "code",
     "collapsed": false,
     "input": [
      "names1880['births'].count()"
     ],
     "language": "python",
     "metadata": {},
     "outputs": [
      {
       "output_type": "pyout",
       "prompt_number": 43,
       "text": [
        "33838"
       ]
      }
     ],
     "prompt_number": 43
    },
    {
     "cell_type": "heading",
     "level": 1,
     "metadata": {},
     "source": [
      "baby db:  straight through working out"
     ]
    },
    {
     "cell_type": "code",
     "collapsed": false,
     "input": [
      "names1880.groupby('sex').births.sum()"
     ],
     "language": "python",
     "metadata": {},
     "outputs": [
      {
       "output_type": "pyout",
       "prompt_number": 44,
       "text": [
        "sex\n",
        "F      1759010\n",
        "M      1898382\n",
        "Name: births"
       ]
      }
     ],
     "prompt_number": 44
    },
    {
     "cell_type": "code",
     "collapsed": false,
     "input": [
      "# 2010 is the last available year right now\n",
      "\n",
      "import os\n",
      "\n",
      "\n",
      "\n",
      "years = range(1880, 2011)\n",
      "\n",
      "\n",
      "\n",
      "pieces = []\n",
      "\n",
      "columns = ['name', 'sex', 'births']\n",
      "\n",
      "\n",
      "\n",
      "for year in years:\n",
      "\n",
      "    path = os.path.join(NAMES_DIR, 'yob%d.txt' % year)\n",
      "\n",
      "    frame = pd.read_csv(path, names=columns)\n",
      "\n",
      "\n",
      "\n",
      "    frame['year'] = year\n",
      "\n",
      "    pieces.append(frame)\n",
      "\n",
      "\n",
      "\n",
      "# Concatenate everything into a single DataFrame\n",
      "\n",
      "names = pd.concat(pieces, ignore_index=True)"
     ],
     "language": "python",
     "metadata": {},
     "outputs": [],
     "prompt_number": 45
    },
    {
     "cell_type": "code",
     "collapsed": false,
     "input": [
      "names"
     ],
     "language": "python",
     "metadata": {},
     "outputs": [
      {
       "output_type": "pyout",
       "prompt_number": 46,
       "text": [
        "<class 'pandas.core.frame.DataFrame'>\n",
        "Int64Index: 1690784 entries, 0 to 1690783\n",
        "Data columns:\n",
        "name      1690784  non-null values\n",
        "sex       1690784  non-null values\n",
        "births    1690784  non-null values\n",
        "year      1690784  non-null values\n",
        "dtypes: int64(2), object(2)"
       ]
      }
     ],
     "prompt_number": 46
    },
    {
     "cell_type": "code",
     "collapsed": false,
     "input": [
      "total_births = names.pivot_table('births', rows='year', cols='sex', aggfunc=sum)"
     ],
     "language": "python",
     "metadata": {},
     "outputs": [],
     "prompt_number": 47
    },
    {
     "cell_type": "code",
     "collapsed": false,
     "input": [
      "total_births[:5]"
     ],
     "language": "python",
     "metadata": {},
     "outputs": [
      {
       "html": [
        "<div style=\"max-height:1000px;max-width:1500px;overflow:auto;\">\n",
        "<table border=\"1\" class=\"dataframe\">\n",
        "  <thead>\n",
        "    <tr style=\"text-align: right;\">\n",
        "      <th>sex</th>\n",
        "      <th>F</th>\n",
        "      <th>M</th>\n",
        "    </tr>\n",
        "    <tr>\n",
        "      <th>year</th>\n",
        "      <th></th>\n",
        "      <th></th>\n",
        "    </tr>\n",
        "  </thead>\n",
        "  <tbody>\n",
        "    <tr>\n",
        "      <th>1880</th>\n",
        "      <td>  90993</td>\n",
        "      <td> 110493</td>\n",
        "    </tr>\n",
        "    <tr>\n",
        "      <th>1881</th>\n",
        "      <td>  91955</td>\n",
        "      <td> 100748</td>\n",
        "    </tr>\n",
        "    <tr>\n",
        "      <th>1882</th>\n",
        "      <td> 107851</td>\n",
        "      <td> 113687</td>\n",
        "    </tr>\n",
        "    <tr>\n",
        "      <th>1883</th>\n",
        "      <td> 112322</td>\n",
        "      <td> 104632</td>\n",
        "    </tr>\n",
        "    <tr>\n",
        "      <th>1884</th>\n",
        "      <td> 129021</td>\n",
        "      <td> 114445</td>\n",
        "    </tr>\n",
        "  </tbody>\n",
        "</table>\n",
        "</div>"
       ],
       "output_type": "pyout",
       "prompt_number": 48,
       "text": [
        "sex        F       M\n",
        "year                \n",
        "1880   90993  110493\n",
        "1881   91955  100748\n",
        "1882  107851  113687\n",
        "1883  112322  104632\n",
        "1884  129021  114445"
       ]
      }
     ],
     "prompt_number": 48
    },
    {
     "cell_type": "code",
     "collapsed": false,
     "input": [
      "# how to calculate the total births / year?\n",
      "\n",
      "# answer - take column total - run sum function on dataframe with axis=1)\n",
      "total_births.sum(1)"
     ],
     "language": "python",
     "metadata": {},
     "outputs": [
      {
       "output_type": "pyout",
       "prompt_number": 51,
       "text": [
        "pandas.core.series.Series"
       ]
      }
     ],
     "prompt_number": 51
    },
    {
     "cell_type": "code",
     "collapsed": false,
     "input": [
      "# add prop\n",
      "\n",
      "\n",
      "\n",
      "def add_prop(group):\n",
      "\n",
      "    # Integer division floors\n",
      "\n",
      "    births = group.births.astype(float)\n",
      "\n",
      "\n",
      "\n",
      "    group['prop'] = births / births.sum()\n",
      "\n",
      "    return group\n",
      "\n",
      "\n",
      "print names[0:5]\n",
      "names = names.groupby(['year', 'sex']).apply(add_prop)\n"
     ],
     "language": "python",
     "metadata": {},
     "outputs": [
      {
       "output_type": "stream",
       "stream": "stdout",
       "text": [
        "        name sex  births  year      prop\n",
        "0       Mary   F    7065  1880  0.077643\n",
        "1       Anna   F    2604  1880  0.028618\n",
        "2       Emma   F    2003  1880  0.022013\n",
        "3  Elizabeth   F    1939  1880  0.021309\n",
        "4     Minnie   F    1746  1880  0.019188\n"
       ]
      }
     ],
     "prompt_number": 53
    },
    {
     "cell_type": "code",
     "collapsed": false,
     "input": [
      "# verify prop\n",
      "\n",
      "np.allclose(names.groupby(['year', 'sex']).prop.sum(), 1)"
     ],
     "language": "python",
     "metadata": {},
     "outputs": [
      {
       "output_type": "pyout",
       "prompt_number": 54,
       "text": [
        "True"
       ]
      }
     ],
     "prompt_number": 54
    },
    {
     "cell_type": "code",
     "collapsed": false,
     "input": [
      "total_births.plot(title='Total births by sex and year')"
     ],
     "language": "python",
     "metadata": {},
     "outputs": [
      {
       "output_type": "pyout",
       "prompt_number": 55,
       "text": [
        "<matplotlib.axes.AxesSubplot at 0x754d150>"
       ]
      }
     ],
     "prompt_number": 55
    },
    {
     "cell_type": "code",
     "collapsed": false,
     "input": [],
     "language": "python",
     "metadata": {},
     "outputs": []
    }
   ],
   "metadata": {}
  }
 ]
}